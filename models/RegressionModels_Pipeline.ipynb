{
 "cells": [
  {
   "cell_type": "markdown",
   "metadata": {},
   "source": [
    "# Applying various Regression Model\n",
    "\n",
    "###  The model uses lableencoding , XGboost , lightgbm\n",
    "## Please install  xgboost from PIP \n"
   ]
  },
  {
   "cell_type": "code",
   "execution_count": 1,
   "metadata": {},
   "outputs": [],
   "source": [
    "import numpy as np\n",
    "import pandas as pd\n",
    "import glob\n",
    "import os\n",
    "import pickle\n",
    "from sklearn.model_selection import RandomizedSearchCV, KFold, train_test_split, cross_val_score\n",
    "from sklearn.ensemble import GradientBoostingRegressor\n",
    "from xgboost.sklearn import XGBRegressor\n",
    "from lightgbm import LGBMRegressor\n",
    "from sklearn.ensemble import RandomForestRegressor\n",
    "from sklearn.pipeline import make_pipeline, Pipeline\n",
    "from sklearn.model_selection import GridSearchCV\n",
    "from sklearn.compose import make_column_transformer\n",
    "from sklearn.impute import SimpleImputer\n",
    "from sklearn.preprocessing import OneHotEncoder\n",
    "from sklearn.preprocessing import StandardScaler"
   ]
  },
  {
   "cell_type": "markdown",
   "metadata": {},
   "source": [
    "## DATA\n",
    "\n",
    "In this case we are reading used cars data.  With this data we are trying to predict the selling price of car in pounds\n",
    "\n",
    "#### The features are:\n",
    "- Model and make of the car \n",
    "- Purchase year of the car\n",
    "- Transmission\n",
    "- Mileage\n",
    "- FuelType\n",
    "- MPG\n",
    "- EngineSize\n"
   ]
  },
  {
   "cell_type": "code",
   "execution_count": 2,
   "metadata": {},
   "outputs": [
    {
     "name": "stdout",
     "output_type": "stream",
     "text": [
      "https://data-bootcamp-rice-009.s3.us-east-2.amazonaws.com/audi.csv\n",
      "https://data-bootcamp-rice-009.s3.us-east-2.amazonaws.com/bmw.csv\n",
      "https://data-bootcamp-rice-009.s3.us-east-2.amazonaws.com/ford.csv\n",
      "https://data-bootcamp-rice-009.s3.us-east-2.amazonaws.com/hyundi.csv\n",
      "https://data-bootcamp-rice-009.s3.us-east-2.amazonaws.com/merc.csv\n",
      "https://data-bootcamp-rice-009.s3.us-east-2.amazonaws.com/skoda.csv\n",
      "https://data-bootcamp-rice-009.s3.us-east-2.amazonaws.com/toyota.csv\n",
      "https://data-bootcamp-rice-009.s3.us-east-2.amazonaws.com/vw.csv\n"
     ]
    },
    {
     "data": {
      "text/html": [
       "<div>\n",
       "<style scoped>\n",
       "    .dataframe tbody tr th:only-of-type {\n",
       "        vertical-align: middle;\n",
       "    }\n",
       "\n",
       "    .dataframe tbody tr th {\n",
       "        vertical-align: top;\n",
       "    }\n",
       "\n",
       "    .dataframe thead th {\n",
       "        text-align: right;\n",
       "    }\n",
       "</style>\n",
       "<table border=\"1\" class=\"dataframe\">\n",
       "  <thead>\n",
       "    <tr style=\"text-align: right;\">\n",
       "      <th></th>\n",
       "      <th>model</th>\n",
       "      <th>year</th>\n",
       "      <th>price</th>\n",
       "      <th>transmission</th>\n",
       "      <th>mileage</th>\n",
       "      <th>fuelType</th>\n",
       "      <th>tax</th>\n",
       "      <th>mpg</th>\n",
       "      <th>engineSize</th>\n",
       "      <th>make</th>\n",
       "    </tr>\n",
       "  </thead>\n",
       "  <tbody>\n",
       "    <tr>\n",
       "      <th>0</th>\n",
       "      <td>A1</td>\n",
       "      <td>2017</td>\n",
       "      <td>12500</td>\n",
       "      <td>Manual</td>\n",
       "      <td>15735</td>\n",
       "      <td>Petrol</td>\n",
       "      <td>150</td>\n",
       "      <td>55.4</td>\n",
       "      <td>1.4</td>\n",
       "      <td>Audi</td>\n",
       "    </tr>\n",
       "    <tr>\n",
       "      <th>1</th>\n",
       "      <td>A6</td>\n",
       "      <td>2016</td>\n",
       "      <td>16500</td>\n",
       "      <td>Automatic</td>\n",
       "      <td>36203</td>\n",
       "      <td>Diesel</td>\n",
       "      <td>20</td>\n",
       "      <td>64.2</td>\n",
       "      <td>2.0</td>\n",
       "      <td>Audi</td>\n",
       "    </tr>\n",
       "    <tr>\n",
       "      <th>2</th>\n",
       "      <td>A1</td>\n",
       "      <td>2016</td>\n",
       "      <td>11000</td>\n",
       "      <td>Manual</td>\n",
       "      <td>29946</td>\n",
       "      <td>Petrol</td>\n",
       "      <td>30</td>\n",
       "      <td>55.4</td>\n",
       "      <td>1.4</td>\n",
       "      <td>Audi</td>\n",
       "    </tr>\n",
       "    <tr>\n",
       "      <th>3</th>\n",
       "      <td>A4</td>\n",
       "      <td>2017</td>\n",
       "      <td>16800</td>\n",
       "      <td>Automatic</td>\n",
       "      <td>25952</td>\n",
       "      <td>Diesel</td>\n",
       "      <td>145</td>\n",
       "      <td>67.3</td>\n",
       "      <td>2.0</td>\n",
       "      <td>Audi</td>\n",
       "    </tr>\n",
       "    <tr>\n",
       "      <th>4</th>\n",
       "      <td>A3</td>\n",
       "      <td>2019</td>\n",
       "      <td>17300</td>\n",
       "      <td>Manual</td>\n",
       "      <td>1998</td>\n",
       "      <td>Petrol</td>\n",
       "      <td>145</td>\n",
       "      <td>49.6</td>\n",
       "      <td>1.0</td>\n",
       "      <td>Audi</td>\n",
       "    </tr>\n",
       "    <tr>\n",
       "      <th>...</th>\n",
       "      <td>...</td>\n",
       "      <td>...</td>\n",
       "      <td>...</td>\n",
       "      <td>...</td>\n",
       "      <td>...</td>\n",
       "      <td>...</td>\n",
       "      <td>...</td>\n",
       "      <td>...</td>\n",
       "      <td>...</td>\n",
       "      <td>...</td>\n",
       "    </tr>\n",
       "    <tr>\n",
       "      <th>85550</th>\n",
       "      <td>Eos</td>\n",
       "      <td>2012</td>\n",
       "      <td>5990</td>\n",
       "      <td>Manual</td>\n",
       "      <td>74000</td>\n",
       "      <td>Diesel</td>\n",
       "      <td>125</td>\n",
       "      <td>58.9</td>\n",
       "      <td>2.0</td>\n",
       "      <td>Volkswagen</td>\n",
       "    </tr>\n",
       "    <tr>\n",
       "      <th>85551</th>\n",
       "      <td>Fox</td>\n",
       "      <td>2008</td>\n",
       "      <td>1799</td>\n",
       "      <td>Manual</td>\n",
       "      <td>88102</td>\n",
       "      <td>Petrol</td>\n",
       "      <td>145</td>\n",
       "      <td>46.3</td>\n",
       "      <td>1.2</td>\n",
       "      <td>Volkswagen</td>\n",
       "    </tr>\n",
       "    <tr>\n",
       "      <th>85552</th>\n",
       "      <td>Fox</td>\n",
       "      <td>2009</td>\n",
       "      <td>1590</td>\n",
       "      <td>Manual</td>\n",
       "      <td>70000</td>\n",
       "      <td>Petrol</td>\n",
       "      <td>200</td>\n",
       "      <td>42.0</td>\n",
       "      <td>1.4</td>\n",
       "      <td>Volkswagen</td>\n",
       "    </tr>\n",
       "    <tr>\n",
       "      <th>85553</th>\n",
       "      <td>Fox</td>\n",
       "      <td>2006</td>\n",
       "      <td>1250</td>\n",
       "      <td>Manual</td>\n",
       "      <td>82704</td>\n",
       "      <td>Petrol</td>\n",
       "      <td>150</td>\n",
       "      <td>46.3</td>\n",
       "      <td>1.2</td>\n",
       "      <td>Volkswagen</td>\n",
       "    </tr>\n",
       "    <tr>\n",
       "      <th>85554</th>\n",
       "      <td>Fox</td>\n",
       "      <td>2007</td>\n",
       "      <td>2295</td>\n",
       "      <td>Manual</td>\n",
       "      <td>74000</td>\n",
       "      <td>Petrol</td>\n",
       "      <td>145</td>\n",
       "      <td>46.3</td>\n",
       "      <td>1.2</td>\n",
       "      <td>Volkswagen</td>\n",
       "    </tr>\n",
       "  </tbody>\n",
       "</table>\n",
       "<p>85555 rows × 10 columns</p>\n",
       "</div>"
      ],
      "text/plain": [
       "      model  year  price transmission  mileage fuelType  tax   mpg  \\\n",
       "0        A1  2017  12500       Manual    15735   Petrol  150  55.4   \n",
       "1        A6  2016  16500    Automatic    36203   Diesel   20  64.2   \n",
       "2        A1  2016  11000       Manual    29946   Petrol   30  55.4   \n",
       "3        A4  2017  16800    Automatic    25952   Diesel  145  67.3   \n",
       "4        A3  2019  17300       Manual     1998   Petrol  145  49.6   \n",
       "...     ...   ...    ...          ...      ...      ...  ...   ...   \n",
       "85550   Eos  2012   5990       Manual    74000   Diesel  125  58.9   \n",
       "85551   Fox  2008   1799       Manual    88102   Petrol  145  46.3   \n",
       "85552   Fox  2009   1590       Manual    70000   Petrol  200  42.0   \n",
       "85553   Fox  2006   1250       Manual    82704   Petrol  150  46.3   \n",
       "85554   Fox  2007   2295       Manual    74000   Petrol  145  46.3   \n",
       "\n",
       "       engineSize        make  \n",
       "0             1.4        Audi  \n",
       "1             2.0        Audi  \n",
       "2             1.4        Audi  \n",
       "3             2.0        Audi  \n",
       "4             1.0        Audi  \n",
       "...           ...         ...  \n",
       "85550         2.0  Volkswagen  \n",
       "85551         1.2  Volkswagen  \n",
       "85552         1.4  Volkswagen  \n",
       "85553         1.2  Volkswagen  \n",
       "85554         1.2  Volkswagen  \n",
       "\n",
       "[85555 rows x 10 columns]"
      ]
     },
     "execution_count": 2,
     "metadata": {},
     "output_type": "execute_result"
    }
   ],
   "source": [
    "path = 'https://data-bootcamp-rice-009.s3.us-east-2.amazonaws.com/' # use your s3 bucket path\n",
    "\n",
    "li = []\n",
    "brands = [\"Audi\",\"BMW\",\"Ford\",\"Hyundi\",\"Mercedes Benz\",\"Skoda\",\"Toyota\",\"Volkswagen\"]\n",
    "csv_names = [\"audi\", \"bmw\", \"ford\", \"hyundi\", \"merc\", \"skoda\",\"toyota\", \"vw\"]\n",
    "\n",
    "for i in range(0,8):\n",
    "    filename = path + csv_names[i] + \".csv\"\n",
    "    print(filename)\n",
    "    frame = pd.read_csv(filename, index_col=None, header=0)\n",
    "    frame[\"make\"] = brands[i]\n",
    "    li.append(frame)\n",
    "    \n",
    "concat_usedcars = pd.concat(li, axis=0, ignore_index=True)\n",
    "concat_usedcars\n"
   ]
  },
  {
   "cell_type": "code",
   "execution_count": 4,
   "metadata": {},
   "outputs": [],
   "source": [
    "usedcars_df = concat_usedcars.loc[concat_usedcars['year'] != 2060]"
   ]
  },
  {
   "cell_type": "code",
   "execution_count": 5,
   "metadata": {},
   "outputs": [],
   "source": [
    "# remove unwanted feature\n",
    "usedcars_df =usedcars_df.drop(\"tax\", axis=1)\n",
    "usedcars_df['year'] = usedcars_df['year'].astype(str)\n",
    "usedcars_df['model'] = usedcars_df['model'].str.strip()"
   ]
  },
  {
   "cell_type": "code",
   "execution_count": 6,
   "metadata": {},
   "outputs": [],
   "source": [
    "del concat_usedcars"
   ]
  },
  {
   "cell_type": "code",
   "execution_count": 7,
   "metadata": {},
   "outputs": [],
   "source": [
    "# identified outliers from Tableau\n",
    "index_list = [9434,10109,7221,7845,17753,14988,14306,33361,22488,43661,44279,62386]"
   ]
  },
  {
   "cell_type": "code",
   "execution_count": 8,
   "metadata": {},
   "outputs": [
    {
     "data": {
      "text/html": [
       "<div>\n",
       "<style scoped>\n",
       "    .dataframe tbody tr th:only-of-type {\n",
       "        vertical-align: middle;\n",
       "    }\n",
       "\n",
       "    .dataframe tbody tr th {\n",
       "        vertical-align: top;\n",
       "    }\n",
       "\n",
       "    .dataframe thead th {\n",
       "        text-align: right;\n",
       "    }\n",
       "</style>\n",
       "<table border=\"1\" class=\"dataframe\">\n",
       "  <thead>\n",
       "    <tr style=\"text-align: right;\">\n",
       "      <th></th>\n",
       "      <th>model</th>\n",
       "      <th>year</th>\n",
       "      <th>price</th>\n",
       "      <th>transmission</th>\n",
       "      <th>mileage</th>\n",
       "      <th>fuelType</th>\n",
       "      <th>mpg</th>\n",
       "      <th>engineSize</th>\n",
       "      <th>make</th>\n",
       "    </tr>\n",
       "  </thead>\n",
       "  <tbody>\n",
       "    <tr>\n",
       "      <th>7221</th>\n",
       "      <td>A5</td>\n",
       "      <td>2020</td>\n",
       "      <td>59995</td>\n",
       "      <td>Semi-Auto</td>\n",
       "      <td>2000</td>\n",
       "      <td>Diesel</td>\n",
       "      <td>40.9</td>\n",
       "      <td>3.0</td>\n",
       "      <td>Audi</td>\n",
       "    </tr>\n",
       "    <tr>\n",
       "      <th>7845</th>\n",
       "      <td>A6</td>\n",
       "      <td>2018</td>\n",
       "      <td>59950</td>\n",
       "      <td>Automatic</td>\n",
       "      <td>22000</td>\n",
       "      <td>Petrol</td>\n",
       "      <td>29.4</td>\n",
       "      <td>4.0</td>\n",
       "      <td>Audi</td>\n",
       "    </tr>\n",
       "    <tr>\n",
       "      <th>9434</th>\n",
       "      <td>A8</td>\n",
       "      <td>2020</td>\n",
       "      <td>78990</td>\n",
       "      <td>Automatic</td>\n",
       "      <td>250</td>\n",
       "      <td>Diesel</td>\n",
       "      <td>39.2</td>\n",
       "      <td>3.0</td>\n",
       "      <td>Audi</td>\n",
       "    </tr>\n",
       "    <tr>\n",
       "      <th>10109</th>\n",
       "      <td>S3</td>\n",
       "      <td>2003</td>\n",
       "      <td>4990</td>\n",
       "      <td>Manual</td>\n",
       "      <td>106000</td>\n",
       "      <td>Petrol</td>\n",
       "      <td>39.8</td>\n",
       "      <td>1.8</td>\n",
       "      <td>Audi</td>\n",
       "    </tr>\n",
       "    <tr>\n",
       "      <th>14306</th>\n",
       "      <td>2 Series</td>\n",
       "      <td>2015</td>\n",
       "      <td>123456</td>\n",
       "      <td>Semi-Auto</td>\n",
       "      <td>33419</td>\n",
       "      <td>Diesel</td>\n",
       "      <td>68.9</td>\n",
       "      <td>2.0</td>\n",
       "      <td>BMW</td>\n",
       "    </tr>\n",
       "    <tr>\n",
       "      <th>14988</th>\n",
       "      <td>5 Series</td>\n",
       "      <td>2020</td>\n",
       "      <td>54845</td>\n",
       "      <td>Semi-Auto</td>\n",
       "      <td>450</td>\n",
       "      <td>Diesel</td>\n",
       "      <td>60.1</td>\n",
       "      <td>3.0</td>\n",
       "      <td>BMW</td>\n",
       "    </tr>\n",
       "    <tr>\n",
       "      <th>17753</th>\n",
       "      <td>3 Series</td>\n",
       "      <td>2020</td>\n",
       "      <td>71990</td>\n",
       "      <td>Semi-Auto</td>\n",
       "      <td>150</td>\n",
       "      <td>Diesel</td>\n",
       "      <td>47.1</td>\n",
       "      <td>3.0</td>\n",
       "      <td>BMW</td>\n",
       "    </tr>\n",
       "    <tr>\n",
       "      <th>22488</th>\n",
       "      <td>Focus</td>\n",
       "      <td>2017</td>\n",
       "      <td>38015</td>\n",
       "      <td>Manual</td>\n",
       "      <td>197</td>\n",
       "      <td>Diesel</td>\n",
       "      <td>74.3</td>\n",
       "      <td>1.5</td>\n",
       "      <td>Ford</td>\n",
       "    </tr>\n",
       "    <tr>\n",
       "      <th>33361</th>\n",
       "      <td>Focus</td>\n",
       "      <td>2018</td>\n",
       "      <td>54995</td>\n",
       "      <td>Manual</td>\n",
       "      <td>11000</td>\n",
       "      <td>Petrol</td>\n",
       "      <td>36.7</td>\n",
       "      <td>2.3</td>\n",
       "      <td>Ford</td>\n",
       "    </tr>\n",
       "    <tr>\n",
       "      <th>43661</th>\n",
       "      <td>I10</td>\n",
       "      <td>2017</td>\n",
       "      <td>92000</td>\n",
       "      <td>Automatic</td>\n",
       "      <td>35460</td>\n",
       "      <td>Petrol</td>\n",
       "      <td>47.9</td>\n",
       "      <td>1.2</td>\n",
       "      <td>Hyundi</td>\n",
       "    </tr>\n",
       "    <tr>\n",
       "      <th>44279</th>\n",
       "      <td>SL CLASS</td>\n",
       "      <td>2011</td>\n",
       "      <td>149948</td>\n",
       "      <td>Automatic</td>\n",
       "      <td>3000</td>\n",
       "      <td>Petrol</td>\n",
       "      <td>21.4</td>\n",
       "      <td>6.2</td>\n",
       "      <td>Mercedes Benz</td>\n",
       "    </tr>\n",
       "    <tr>\n",
       "      <th>62386</th>\n",
       "      <td>Karoq</td>\n",
       "      <td>2019</td>\n",
       "      <td>91874</td>\n",
       "      <td>Automatic</td>\n",
       "      <td>3764</td>\n",
       "      <td>Petrol</td>\n",
       "      <td>40.9</td>\n",
       "      <td>1.5</td>\n",
       "      <td>Skoda</td>\n",
       "    </tr>\n",
       "  </tbody>\n",
       "</table>\n",
       "</div>"
      ],
      "text/plain": [
       "          model  year   price transmission  mileage fuelType   mpg  \\\n",
       "7221         A5  2020   59995    Semi-Auto     2000   Diesel  40.9   \n",
       "7845         A6  2018   59950    Automatic    22000   Petrol  29.4   \n",
       "9434         A8  2020   78990    Automatic      250   Diesel  39.2   \n",
       "10109        S3  2003    4990       Manual   106000   Petrol  39.8   \n",
       "14306  2 Series  2015  123456    Semi-Auto    33419   Diesel  68.9   \n",
       "14988  5 Series  2020   54845    Semi-Auto      450   Diesel  60.1   \n",
       "17753  3 Series  2020   71990    Semi-Auto      150   Diesel  47.1   \n",
       "22488     Focus  2017   38015       Manual      197   Diesel  74.3   \n",
       "33361     Focus  2018   54995       Manual    11000   Petrol  36.7   \n",
       "43661       I10  2017   92000    Automatic    35460   Petrol  47.9   \n",
       "44279  SL CLASS  2011  149948    Automatic     3000   Petrol  21.4   \n",
       "62386     Karoq  2019   91874    Automatic     3764   Petrol  40.9   \n",
       "\n",
       "       engineSize           make  \n",
       "7221          3.0           Audi  \n",
       "7845          4.0           Audi  \n",
       "9434          3.0           Audi  \n",
       "10109         1.8           Audi  \n",
       "14306         2.0            BMW  \n",
       "14988         3.0            BMW  \n",
       "17753         3.0            BMW  \n",
       "22488         1.5           Ford  \n",
       "33361         2.3           Ford  \n",
       "43661         1.2         Hyundi  \n",
       "44279         6.2  Mercedes Benz  \n",
       "62386         1.5          Skoda  "
      ]
     },
     "execution_count": 8,
     "metadata": {},
     "output_type": "execute_result"
    }
   ],
   "source": [
    "#outliers\n",
    "Filter_df  = usedcars_df[usedcars_df.index.isin(index_list)]\n",
    "Filter_df"
   ]
  },
  {
   "cell_type": "code",
   "execution_count": 9,
   "metadata": {},
   "outputs": [],
   "source": [
    "#remove outliers\n",
    "usedcars_df = usedcars_df.drop(index_list)"
   ]
  },
  {
   "cell_type": "code",
   "execution_count": 10,
   "metadata": {},
   "outputs": [
    {
     "name": "stdout",
     "output_type": "stream",
     "text": [
      "<class 'pandas.core.frame.DataFrame'>\n",
      "Int64Index: 85542 entries, 0 to 85554\n",
      "Data columns (total 9 columns):\n",
      " #   Column        Non-Null Count  Dtype  \n",
      "---  ------        --------------  -----  \n",
      " 0   model         85542 non-null  object \n",
      " 1   year          85542 non-null  object \n",
      " 2   price         85542 non-null  int64  \n",
      " 3   transmission  85542 non-null  object \n",
      " 4   mileage       85542 non-null  int64  \n",
      " 5   fuelType      85542 non-null  object \n",
      " 6   mpg           85542 non-null  float64\n",
      " 7   engineSize    85542 non-null  float64\n",
      " 8   make          85542 non-null  object \n",
      "dtypes: float64(2), int64(2), object(5)\n",
      "memory usage: 6.5+ MB\n"
     ]
    }
   ],
   "source": [
    "usedcars_df.info()"
   ]
  },
  {
   "cell_type": "code",
   "execution_count": 11,
   "metadata": {},
   "outputs": [
    {
     "data": {
      "text/html": [
       "<div>\n",
       "<style scoped>\n",
       "    .dataframe tbody tr th:only-of-type {\n",
       "        vertical-align: middle;\n",
       "    }\n",
       "\n",
       "    .dataframe tbody tr th {\n",
       "        vertical-align: top;\n",
       "    }\n",
       "\n",
       "    .dataframe thead th {\n",
       "        text-align: right;\n",
       "    }\n",
       "</style>\n",
       "<table border=\"1\" class=\"dataframe\">\n",
       "  <thead>\n",
       "    <tr style=\"text-align: right;\">\n",
       "      <th></th>\n",
       "      <th>model</th>\n",
       "      <th>year</th>\n",
       "      <th>price</th>\n",
       "      <th>transmission</th>\n",
       "      <th>mileage</th>\n",
       "      <th>fuelType</th>\n",
       "      <th>mpg</th>\n",
       "      <th>engineSize</th>\n",
       "      <th>make</th>\n",
       "    </tr>\n",
       "  </thead>\n",
       "  <tbody>\n",
       "    <tr>\n",
       "      <th>0</th>\n",
       "      <td>A1</td>\n",
       "      <td>2017</td>\n",
       "      <td>12500</td>\n",
       "      <td>Manual</td>\n",
       "      <td>15735</td>\n",
       "      <td>Petrol</td>\n",
       "      <td>55.4</td>\n",
       "      <td>1.4</td>\n",
       "      <td>Audi</td>\n",
       "    </tr>\n",
       "    <tr>\n",
       "      <th>1</th>\n",
       "      <td>A6</td>\n",
       "      <td>2016</td>\n",
       "      <td>16500</td>\n",
       "      <td>Automatic</td>\n",
       "      <td>36203</td>\n",
       "      <td>Diesel</td>\n",
       "      <td>64.2</td>\n",
       "      <td>2.0</td>\n",
       "      <td>Audi</td>\n",
       "    </tr>\n",
       "    <tr>\n",
       "      <th>2</th>\n",
       "      <td>A1</td>\n",
       "      <td>2016</td>\n",
       "      <td>11000</td>\n",
       "      <td>Manual</td>\n",
       "      <td>29946</td>\n",
       "      <td>Petrol</td>\n",
       "      <td>55.4</td>\n",
       "      <td>1.4</td>\n",
       "      <td>Audi</td>\n",
       "    </tr>\n",
       "    <tr>\n",
       "      <th>3</th>\n",
       "      <td>A4</td>\n",
       "      <td>2017</td>\n",
       "      <td>16800</td>\n",
       "      <td>Automatic</td>\n",
       "      <td>25952</td>\n",
       "      <td>Diesel</td>\n",
       "      <td>67.3</td>\n",
       "      <td>2.0</td>\n",
       "      <td>Audi</td>\n",
       "    </tr>\n",
       "    <tr>\n",
       "      <th>4</th>\n",
       "      <td>A3</td>\n",
       "      <td>2019</td>\n",
       "      <td>17300</td>\n",
       "      <td>Manual</td>\n",
       "      <td>1998</td>\n",
       "      <td>Petrol</td>\n",
       "      <td>49.6</td>\n",
       "      <td>1.0</td>\n",
       "      <td>Audi</td>\n",
       "    </tr>\n",
       "  </tbody>\n",
       "</table>\n",
       "</div>"
      ],
      "text/plain": [
       "  model  year  price transmission  mileage fuelType   mpg  engineSize  make\n",
       "0    A1  2017  12500       Manual    15735   Petrol  55.4         1.4  Audi\n",
       "1    A6  2016  16500    Automatic    36203   Diesel  64.2         2.0  Audi\n",
       "2    A1  2016  11000       Manual    29946   Petrol  55.4         1.4  Audi\n",
       "3    A4  2017  16800    Automatic    25952   Diesel  67.3         2.0  Audi\n",
       "4    A3  2019  17300       Manual     1998   Petrol  49.6         1.0  Audi"
      ]
     },
     "execution_count": 11,
     "metadata": {},
     "output_type": "execute_result"
    }
   ],
   "source": [
    "usedcars_df.head()"
   ]
  },
  {
   "cell_type": "markdown",
   "metadata": {},
   "source": [
    "## Preliminary Data Analysis"
   ]
  },
  {
   "cell_type": "code",
   "execution_count": 12,
   "metadata": {},
   "outputs": [
    {
     "data": {
      "text/plain": [
       "model           0\n",
       "year            0\n",
       "price           0\n",
       "transmission    0\n",
       "mileage         0\n",
       "fuelType        0\n",
       "mpg             0\n",
       "engineSize      0\n",
       "make            0\n",
       "dtype: int64"
      ]
     },
     "execution_count": 12,
     "metadata": {},
     "output_type": "execute_result"
    }
   ],
   "source": [
    "usedcars_df.isnull().sum(axis=0)"
   ]
  },
  {
   "cell_type": "markdown",
   "metadata": {},
   "source": [
    "## Train Test Split"
   ]
  },
  {
   "cell_type": "code",
   "execution_count": 13,
   "metadata": {},
   "outputs": [
    {
     "name": "stdout",
     "output_type": "stream",
     "text": [
      "(85542, 8) (85542,)\n"
     ]
    }
   ],
   "source": [
    "# Assign X (data) and y (target)\n",
    "X = usedcars_df.drop(\"price\", axis=1)\n",
    "y = usedcars_df[\"price\"]\n",
    "print(X.shape, y.shape)"
   ]
  },
  {
   "cell_type": "code",
   "execution_count": 14,
   "metadata": {
    "nbgrader": {
     "grade": false,
     "grade_id": "cell-62193e4c8caef9c5",
     "locked": false,
     "schema_version": 1,
     "solution": true
    }
   },
   "outputs": [],
   "source": [
    "# split to training and testing sets\n",
    "X_train, X_test, y_train, y_test = train_test_split(X, y, test_size=0.2, random_state=42)"
   ]
  },
  {
   "cell_type": "code",
   "execution_count": 15,
   "metadata": {},
   "outputs": [],
   "source": [
    "del usedcars_df"
   ]
  },
  {
   "cell_type": "markdown",
   "metadata": {},
   "source": [
    "## Create Pipeline"
   ]
  },
  {
   "cell_type": "code",
   "execution_count": 16,
   "metadata": {},
   "outputs": [],
   "source": [
    "cat_cols = X.columns[X.dtypes == 'O']\n",
    "num_cols = X.columns[X.dtypes == 'float64']"
   ]
  },
  {
   "cell_type": "code",
   "execution_count": 17,
   "metadata": {},
   "outputs": [
    {
     "data": {
      "text/plain": [
       "Index(['model', 'year', 'transmission', 'fuelType', 'make'], dtype='object')"
      ]
     },
     "execution_count": 17,
     "metadata": {},
     "output_type": "execute_result"
    }
   ],
   "source": [
    "cat_cols"
   ]
  },
  {
   "cell_type": "code",
   "execution_count": 18,
   "metadata": {},
   "outputs": [],
   "source": [
    "categories = [\n",
    "    X[column].unique() for column in X[cat_cols]]\n",
    "\n",
    "for cat in categories:\n",
    "    cat[cat == None] = 'missing'  # noqa"
   ]
  },
  {
   "cell_type": "code",
   "execution_count": 19,
   "metadata": {},
   "outputs": [
    {
     "data": {
      "text/plain": [
       "[array(['A1', 'A6', 'A4', 'A3', 'Q3', 'Q5', 'A5', 'S4', 'Q2', 'A7', 'TT',\n",
       "        'Q7', 'RS6', 'RS3', 'A8', 'Q8', 'RS4', 'RS5', 'R8', 'SQ5', 'S8',\n",
       "        'SQ7', 'S3', 'S5', 'A2', 'RS7', '5 Series', '6 Series', '1 Series',\n",
       "        '7 Series', '2 Series', '4 Series', 'X3', '3 Series', 'X5', 'X4',\n",
       "        'i3', 'X1', 'M4', 'X2', 'X6', '8 Series', 'Z4', 'X7', 'M5', 'i8',\n",
       "        'M2', 'M3', 'M6', 'Z3', 'Fiesta', 'Focus', 'Puma', 'Kuga',\n",
       "        'EcoSport', 'C-MAX', 'Mondeo', 'Ka+', 'Tourneo Custom', 'S-MAX',\n",
       "        'B-MAX', 'Edge', 'Tourneo Connect', 'Grand C-MAX', 'KA', 'Galaxy',\n",
       "        'Mustang', 'Grand Tourneo Connect', 'Fusion', 'Ranger', 'Streetka',\n",
       "        'Escort', 'Transit Tourneo', 'I20', 'Tucson', 'I10', 'IX35', 'I30',\n",
       "        'I40', 'Ioniq', 'Kona', 'Veloster', 'I800', 'IX20', 'Santa Fe',\n",
       "        'Accent', 'Terracan', 'Getz', 'Amica', 'SLK', 'S Class',\n",
       "        'SL CLASS', 'G Class', 'GLE Class', 'GLA Class', 'A Class',\n",
       "        'B Class', 'GLC Class', 'C Class', 'E Class', 'GL Class',\n",
       "        'CLS Class', 'CLC Class', 'CLA Class', 'V Class', 'M Class',\n",
       "        'CL Class', 'GLS Class', 'GLB Class', 'X-CLASS', '180', 'CLK',\n",
       "        'R Class', '230', '220', '200', 'Octavia', 'Citigo',\n",
       "        'Yeti Outdoor', 'Superb', 'Kodiaq', 'Rapid', 'Karoq', 'Fabia',\n",
       "        'Yeti', 'Scala', 'Roomster', 'Kamiq', 'GT86', 'Corolla', 'RAV4',\n",
       "        'Yaris', 'Auris', 'Aygo', 'C-HR', 'Prius', 'Avensis', 'Verso',\n",
       "        'Hilux', 'PROACE VERSO', 'Land Cruiser', 'Supra', 'Camry',\n",
       "        'Verso-S', 'IQ', 'Urban Cruiser', 'T-Roc', 'Golf', 'Passat',\n",
       "        'T-Cross', 'Polo', 'Tiguan', 'Sharan', 'Up', 'Scirocco', 'Beetle',\n",
       "        'Caddy Maxi Life', 'Caravelle', 'Touareg', 'Arteon', 'Touran',\n",
       "        'Golf SV', 'Amarok', 'Tiguan Allspace', 'Shuttle', 'Jetta', 'CC',\n",
       "        'California', 'Caddy Life', 'Caddy', 'Caddy Maxi', 'Eos', 'Fox'],\n",
       "       dtype=object),\n",
       " array(['2017', '2016', '2019', '2015', '2014', '2018', '2013', '2020',\n",
       "        '2004', '2009', '2012', '2010', '2007', '2011', '2008', '2003',\n",
       "        '2005', '2002', '2006', '1998', '1997', '2001', '2000', '1999',\n",
       "        '1996', '1970'], dtype=object),\n",
       " array(['Manual', 'Automatic', 'Semi-Auto', 'Other'], dtype=object),\n",
       " array(['Petrol', 'Diesel', 'Hybrid', 'Other', 'Electric'], dtype=object),\n",
       " array(['Audi', 'BMW', 'Ford', 'Hyundi', 'Mercedes Benz', 'Skoda',\n",
       "        'Toyota', 'Volkswagen'], dtype=object)]"
      ]
     },
     "execution_count": 19,
     "metadata": {},
     "output_type": "execute_result"
    }
   ],
   "source": [
    "categories"
   ]
  },
  {
   "cell_type": "code",
   "execution_count": 20,
   "metadata": {},
   "outputs": [],
   "source": [
    "cat_proc_lin = make_pipeline(\n",
    "    SimpleImputer(missing_values=None,\n",
    "                  strategy='constant',\n",
    "                  fill_value='missing'),\n",
    "    OneHotEncoder(categories=categories)\n",
    ")\n",
    "\n",
    "num_proc_lin = make_pipeline(\n",
    "    SimpleImputer(strategy='mean'),\n",
    "    StandardScaler()\n",
    ")\n",
    "# transformation to use for linear estimators\n",
    "processor_lin = make_column_transformer(\n",
    "    (cat_proc_lin, cat_cols),\n",
    "    (num_proc_lin, num_cols),\n",
    "    remainder='passthrough')"
   ]
  },
  {
   "cell_type": "code",
   "execution_count": 21,
   "metadata": {},
   "outputs": [],
   "source": [
    "del cat_cols, num_cols, categories"
   ]
  },
  {
   "cell_type": "markdown",
   "metadata": {},
   "source": [
    "## EVALUATE FUNCTION\n",
    "\n",
    "A single function that will evaluate all models \n",
    "\n",
    "This will allow us to easily pick out the model we want to move forward with.\n",
    "\n",
    "This function takes in a model ( pipeline ) and our train test split data. From there it simply performes predictions and generates results"
   ]
  },
  {
   "cell_type": "code",
   "execution_count": 22,
   "metadata": {},
   "outputs": [],
   "source": [
    "def evaluate(pipeline, X_train, X_test, y_train, y_test):\n",
    "    '''\n",
    "    Evaluate a pipeline on training and test datasets\n",
    "    '''    \n",
    "    pipeline.fit(X_train, y_train)\n",
    "    \n",
    "    test_acc = pipeline.score(X_test, y_test)\n",
    "\n",
    "    print(f\"========== Predictor: {type(pipeline).__name__} ==========\")\n",
    "    print(f\"Test result: f1: , acc: {test_acc:.3f}\")\n",
    "    print()\n"
   ]
  },
  {
   "cell_type": "markdown",
   "metadata": {},
   "source": [
    "## Pick A Model For A Base Point To Evaluate Other Models Against\n",
    "\n",
    "In this case we are choosing Logistric Regression"
   ]
  },
  {
   "cell_type": "code",
   "execution_count": 23,
   "metadata": {},
   "outputs": [
    {
     "name": "stdout",
     "output_type": "stream",
     "text": [
      "========== Predictor: Pipeline ==========\n",
      "Test result: f1: , acc: 0.954\n",
      "\n"
     ]
    }
   ],
   "source": [
    "# try XGBRegressor\n",
    "# evaluate(XGBRegressor(n_jobs=-1), X_train, X_test, y_train, y_test)\n",
    "XGBrf = Pipeline(steps=[\n",
    "    ('preprocess', processor_lin),\n",
    "    ('regressor',XGBRegressor(n_jobs=-1))\n",
    "])\n",
    "evaluate(XGBrf, X_train, X_test, y_train, y_test)"
   ]
  },
  {
   "cell_type": "code",
   "execution_count": 24,
   "metadata": {},
   "outputs": [
    {
     "name": "stdout",
     "output_type": "stream",
     "text": [
      "========== Predictor: Pipeline ==========\n",
      "Test result: f1: , acc: 0.944\n",
      "\n"
     ]
    }
   ],
   "source": [
    "LGBrf =  Pipeline(steps=[\n",
    "    ('preprocess', processor_lin),\n",
    "    ('regressor',LGBMRegressor(n_jobs=-1))\n",
    "])\n",
    "\n",
    "evaluate(LGBrf, X_train, X_test, y_train, y_test)\n"
   ]
  },
  {
   "cell_type": "code",
   "execution_count": 25,
   "metadata": {},
   "outputs": [
    {
     "name": "stdout",
     "output_type": "stream",
     "text": [
      "========== Predictor: Pipeline ==========\n",
      "Test result: f1: , acc: 0.898\n",
      "\n"
     ]
    }
   ],
   "source": [
    "rf =  Pipeline(steps=[\n",
    "    ('preprocess', processor_lin),\n",
    "    ('regressor',RandomForestRegressor(n_estimators=140, min_samples_split=5, min_samples_leaf=4, max_features=\"sqrt\", max_depth=20,bootstrap=False))\n",
    "])\n",
    "evaluate(rf, X_train, X_test, y_train, y_test)\n"
   ]
  },
  {
   "cell_type": "code",
   "execution_count": 26,
   "metadata": {},
   "outputs": [
    {
     "name": "stdout",
     "output_type": "stream",
     "text": [
      "========== Predictor: Pipeline ==========\n",
      "Test result: f1: , acc: 0.890\n",
      "\n"
     ]
    }
   ],
   "source": [
    "GBrf =  Pipeline(steps=[\n",
    "    ('preprocess', processor_lin),\n",
    "    ('regressor',GradientBoostingRegressor())\n",
    "])\n",
    "evaluate(GBrf, X_train, X_test, y_train, y_test)"
   ]
  },
  {
   "cell_type": "markdown",
   "metadata": {},
   "source": [
    "## Tuning final model and finding the best parameters for the model\n",
    "\n",
    "The RandomizedSearchCV function will try all our combinations above and select the most accurate model.  \n",
    "\n",
    "That best model is found in the best_estimator_ property of the RandomizedSerachCV object. "
   ]
  },
  {
   "cell_type": "code",
   "execution_count": 27,
   "metadata": {},
   "outputs": [],
   "source": [
    "XGBF = XGBRegressor(n_jobs=-1)\n",
    "clf = Pipeline(steps=[\n",
    "    ('preprocess', processor_lin),\n",
    "    ('regressor',XGBF)\n",
    "])\n",
    "# Number of trees in random forest\n",
    "n_estimators = [int(x) for x in np.linspace(start = 20, stop = 40, num = 5)]\n",
    "max_depth = [int(x) for x in np.linspace(2, 18, num = 10)]\n",
    "max_depth.append(None)\n",
    "gbm_param_grid = {\n",
    "    'regressor__colsample_bytree': [0.3, 0.7],\n",
    "    'regressor__n_estimators': n_estimators,\n",
    "    'regressor__max_depth': max_depth\n",
    "}\n",
    "\n",
    "clf2 = GridSearchCV(estimator=clf, param_grid=gbm_param_grid, cv=4, verbose=3)"
   ]
  },
  {
   "cell_type": "code",
   "execution_count": 28,
   "metadata": {
    "scrolled": false
   },
   "outputs": [
    {
     "name": "stdout",
     "output_type": "stream",
     "text": [
      "Fitting 4 folds for each of 110 candidates, totalling 440 fits\n",
      "[CV] regressor__colsample_bytree=0.3, regressor__max_depth=2, regressor__n_estimators=20 \n"
     ]
    },
    {
     "name": "stderr",
     "output_type": "stream",
     "text": [
      "[Parallel(n_jobs=1)]: Using backend SequentialBackend with 1 concurrent workers.\n"
     ]
    },
    {
     "name": "stdout",
     "output_type": "stream",
     "text": [
      "[CV]  regressor__colsample_bytree=0.3, regressor__max_depth=2, regressor__n_estimators=20, score=0.813, total=   0.6s\n",
      "[CV] regressor__colsample_bytree=0.3, regressor__max_depth=2, regressor__n_estimators=20 \n"
     ]
    },
    {
     "name": "stderr",
     "output_type": "stream",
     "text": [
      "[Parallel(n_jobs=1)]: Done   1 out of   1 | elapsed:    0.5s remaining:    0.0s\n"
     ]
    },
    {
     "name": "stdout",
     "output_type": "stream",
     "text": [
      "[CV]  regressor__colsample_bytree=0.3, regressor__max_depth=2, regressor__n_estimators=20, score=0.822, total=   0.6s\n",
      "[CV] regressor__colsample_bytree=0.3, regressor__max_depth=2, regressor__n_estimators=20 \n"
     ]
    },
    {
     "name": "stderr",
     "output_type": "stream",
     "text": [
      "[Parallel(n_jobs=1)]: Done   2 out of   2 | elapsed:    1.1s remaining:    0.0s\n"
     ]
    },
    {
     "name": "stdout",
     "output_type": "stream",
     "text": [
      "[CV]  regressor__colsample_bytree=0.3, regressor__max_depth=2, regressor__n_estimators=20, score=0.826, total=   0.6s\n",
      "[CV] regressor__colsample_bytree=0.3, regressor__max_depth=2, regressor__n_estimators=20 \n",
      "[CV]  regressor__colsample_bytree=0.3, regressor__max_depth=2, regressor__n_estimators=20, score=0.816, total=   0.6s\n",
      "[CV] regressor__colsample_bytree=0.3, regressor__max_depth=2, regressor__n_estimators=25 \n",
      "[CV]  regressor__colsample_bytree=0.3, regressor__max_depth=2, regressor__n_estimators=25, score=0.824, total=   0.6s\n",
      "[CV] regressor__colsample_bytree=0.3, regressor__max_depth=2, regressor__n_estimators=25 \n",
      "[CV]  regressor__colsample_bytree=0.3, regressor__max_depth=2, regressor__n_estimators=25, score=0.835, total=   0.6s\n",
      "[CV] regressor__colsample_bytree=0.3, regressor__max_depth=2, regressor__n_estimators=25 \n",
      "[CV]  regressor__colsample_bytree=0.3, regressor__max_depth=2, regressor__n_estimators=25, score=0.837, total=   0.6s\n",
      "[CV] regressor__colsample_bytree=0.3, regressor__max_depth=2, regressor__n_estimators=25 \n",
      "[CV]  regressor__colsample_bytree=0.3, regressor__max_depth=2, regressor__n_estimators=25, score=0.828, total=   0.6s\n",
      "[CV] regressor__colsample_bytree=0.3, regressor__max_depth=2, regressor__n_estimators=30 \n",
      "[CV]  regressor__colsample_bytree=0.3, regressor__max_depth=2, regressor__n_estimators=30, score=0.835, total=   0.7s\n",
      "[CV] regressor__colsample_bytree=0.3, regressor__max_depth=2, regressor__n_estimators=30 \n",
      "[CV]  regressor__colsample_bytree=0.3, regressor__max_depth=2, regressor__n_estimators=30, score=0.845, total=   0.7s\n",
      "[CV] regressor__colsample_bytree=0.3, regressor__max_depth=2, regressor__n_estimators=30 \n",
      "[CV]  regressor__colsample_bytree=0.3, regressor__max_depth=2, regressor__n_estimators=30, score=0.847, total=   0.7s\n",
      "[CV] regressor__colsample_bytree=0.3, regressor__max_depth=2, regressor__n_estimators=30 \n",
      "[CV]  regressor__colsample_bytree=0.3, regressor__max_depth=2, regressor__n_estimators=30, score=0.838, total=   0.7s\n",
      "[CV] regressor__colsample_bytree=0.3, regressor__max_depth=2, regressor__n_estimators=35 \n",
      "[CV]  regressor__colsample_bytree=0.3, regressor__max_depth=2, regressor__n_estimators=35, score=0.842, total=   0.7s\n",
      "[CV] regressor__colsample_bytree=0.3, regressor__max_depth=2, regressor__n_estimators=35 \n",
      "[CV]  regressor__colsample_bytree=0.3, regressor__max_depth=2, regressor__n_estimators=35, score=0.853, total=   0.7s\n",
      "[CV] regressor__colsample_bytree=0.3, regressor__max_depth=2, regressor__n_estimators=35 \n",
      "[CV]  regressor__colsample_bytree=0.3, regressor__max_depth=2, regressor__n_estimators=35, score=0.854, total=   0.7s\n",
      "[CV] regressor__colsample_bytree=0.3, regressor__max_depth=2, regressor__n_estimators=35 \n",
      "[CV]  regressor__colsample_bytree=0.3, regressor__max_depth=2, regressor__n_estimators=35, score=0.845, total=   0.8s\n",
      "[CV] regressor__colsample_bytree=0.3, regressor__max_depth=2, regressor__n_estimators=40 \n",
      "[CV]  regressor__colsample_bytree=0.3, regressor__max_depth=2, regressor__n_estimators=40, score=0.851, total=   0.8s\n",
      "[CV] regressor__colsample_bytree=0.3, regressor__max_depth=2, regressor__n_estimators=40 \n",
      "[CV]  regressor__colsample_bytree=0.3, regressor__max_depth=2, regressor__n_estimators=40, score=0.859, total=   0.7s\n",
      "[CV] regressor__colsample_bytree=0.3, regressor__max_depth=2, regressor__n_estimators=40 \n",
      "[CV]  regressor__colsample_bytree=0.3, regressor__max_depth=2, regressor__n_estimators=40, score=0.860, total=   0.7s\n",
      "[CV] regressor__colsample_bytree=0.3, regressor__max_depth=2, regressor__n_estimators=40 \n",
      "[CV]  regressor__colsample_bytree=0.3, regressor__max_depth=2, regressor__n_estimators=40, score=0.852, total=   0.7s\n",
      "[CV] regressor__colsample_bytree=0.3, regressor__max_depth=3, regressor__n_estimators=20 \n",
      "[CV]  regressor__colsample_bytree=0.3, regressor__max_depth=3, regressor__n_estimators=20, score=0.851, total=   0.6s\n",
      "[CV] regressor__colsample_bytree=0.3, regressor__max_depth=3, regressor__n_estimators=20 \n",
      "[CV]  regressor__colsample_bytree=0.3, regressor__max_depth=3, regressor__n_estimators=20, score=0.862, total=   0.6s\n",
      "[CV] regressor__colsample_bytree=0.3, regressor__max_depth=3, regressor__n_estimators=20 \n",
      "[CV]  regressor__colsample_bytree=0.3, regressor__max_depth=3, regressor__n_estimators=20, score=0.859, total=   0.7s\n",
      "[CV] regressor__colsample_bytree=0.3, regressor__max_depth=3, regressor__n_estimators=20 \n",
      "[CV]  regressor__colsample_bytree=0.3, regressor__max_depth=3, regressor__n_estimators=20, score=0.855, total=   0.6s\n",
      "[CV] regressor__colsample_bytree=0.3, regressor__max_depth=3, regressor__n_estimators=25 \n",
      "[CV]  regressor__colsample_bytree=0.3, regressor__max_depth=3, regressor__n_estimators=25, score=0.859, total=   0.7s\n",
      "[CV] regressor__colsample_bytree=0.3, regressor__max_depth=3, regressor__n_estimators=25 \n",
      "[CV]  regressor__colsample_bytree=0.3, regressor__max_depth=3, regressor__n_estimators=25, score=0.872, total=   0.7s\n",
      "[CV] regressor__colsample_bytree=0.3, regressor__max_depth=3, regressor__n_estimators=25 \n",
      "[CV]  regressor__colsample_bytree=0.3, regressor__max_depth=3, regressor__n_estimators=25, score=0.869, total=   0.7s\n",
      "[CV] regressor__colsample_bytree=0.3, regressor__max_depth=3, regressor__n_estimators=25 \n",
      "[CV]  regressor__colsample_bytree=0.3, regressor__max_depth=3, regressor__n_estimators=25, score=0.864, total=   0.7s\n",
      "[CV] regressor__colsample_bytree=0.3, regressor__max_depth=3, regressor__n_estimators=30 \n",
      "[CV]  regressor__colsample_bytree=0.3, regressor__max_depth=3, regressor__n_estimators=30, score=0.867, total=   0.7s\n",
      "[CV] regressor__colsample_bytree=0.3, regressor__max_depth=3, regressor__n_estimators=30 \n",
      "[CV]  regressor__colsample_bytree=0.3, regressor__max_depth=3, regressor__n_estimators=30, score=0.882, total=   0.7s\n",
      "[CV] regressor__colsample_bytree=0.3, regressor__max_depth=3, regressor__n_estimators=30 \n",
      "[CV]  regressor__colsample_bytree=0.3, regressor__max_depth=3, regressor__n_estimators=30, score=0.877, total=   0.7s\n",
      "[CV] regressor__colsample_bytree=0.3, regressor__max_depth=3, regressor__n_estimators=30 \n",
      "[CV]  regressor__colsample_bytree=0.3, regressor__max_depth=3, regressor__n_estimators=30, score=0.872, total=   0.7s\n",
      "[CV] regressor__colsample_bytree=0.3, regressor__max_depth=3, regressor__n_estimators=35 \n",
      "[CV]  regressor__colsample_bytree=0.3, regressor__max_depth=3, regressor__n_estimators=35, score=0.873, total=   0.7s\n",
      "[CV] regressor__colsample_bytree=0.3, regressor__max_depth=3, regressor__n_estimators=35 \n",
      "[CV]  regressor__colsample_bytree=0.3, regressor__max_depth=3, regressor__n_estimators=35, score=0.888, total=   0.7s\n",
      "[CV] regressor__colsample_bytree=0.3, regressor__max_depth=3, regressor__n_estimators=35 \n",
      "[CV]  regressor__colsample_bytree=0.3, regressor__max_depth=3, regressor__n_estimators=35, score=0.883, total=   0.7s\n",
      "[CV] regressor__colsample_bytree=0.3, regressor__max_depth=3, regressor__n_estimators=35 \n",
      "[CV]  regressor__colsample_bytree=0.3, regressor__max_depth=3, regressor__n_estimators=35, score=0.878, total=   0.8s\n",
      "[CV] regressor__colsample_bytree=0.3, regressor__max_depth=3, regressor__n_estimators=40 \n",
      "[CV]  regressor__colsample_bytree=0.3, regressor__max_depth=3, regressor__n_estimators=40, score=0.880, total=   0.8s\n",
      "[CV] regressor__colsample_bytree=0.3, regressor__max_depth=3, regressor__n_estimators=40 \n",
      "[CV]  regressor__colsample_bytree=0.3, regressor__max_depth=3, regressor__n_estimators=40, score=0.892, total=   0.7s\n",
      "[CV] regressor__colsample_bytree=0.3, regressor__max_depth=3, regressor__n_estimators=40 \n",
      "[CV]  regressor__colsample_bytree=0.3, regressor__max_depth=3, regressor__n_estimators=40, score=0.888, total=   0.8s\n",
      "[CV] regressor__colsample_bytree=0.3, regressor__max_depth=3, regressor__n_estimators=40 \n",
      "[CV]  regressor__colsample_bytree=0.3, regressor__max_depth=3, regressor__n_estimators=40, score=0.884, total=   0.8s\n",
      "[CV] regressor__colsample_bytree=0.3, regressor__max_depth=5, regressor__n_estimators=20 \n",
      "[CV]  regressor__colsample_bytree=0.3, regressor__max_depth=5, regressor__n_estimators=20, score=0.900, total=   0.7s\n",
      "[CV] regressor__colsample_bytree=0.3, regressor__max_depth=5, regressor__n_estimators=20 \n",
      "[CV]  regressor__colsample_bytree=0.3, regressor__max_depth=5, regressor__n_estimators=20, score=0.907, total=   0.7s\n",
      "[CV] regressor__colsample_bytree=0.3, regressor__max_depth=5, regressor__n_estimators=20 \n"
     ]
    },
    {
     "name": "stdout",
     "output_type": "stream",
     "text": [
      "[CV]  regressor__colsample_bytree=0.3, regressor__max_depth=5, regressor__n_estimators=20, score=0.903, total=   0.7s\n",
      "[CV] regressor__colsample_bytree=0.3, regressor__max_depth=5, regressor__n_estimators=20 \n",
      "[CV]  regressor__colsample_bytree=0.3, regressor__max_depth=5, regressor__n_estimators=20, score=0.899, total=   0.7s\n",
      "[CV] regressor__colsample_bytree=0.3, regressor__max_depth=5, regressor__n_estimators=25 \n",
      "[CV]  regressor__colsample_bytree=0.3, regressor__max_depth=5, regressor__n_estimators=25, score=0.908, total=   0.7s\n",
      "[CV] regressor__colsample_bytree=0.3, regressor__max_depth=5, regressor__n_estimators=25 \n",
      "[CV]  regressor__colsample_bytree=0.3, regressor__max_depth=5, regressor__n_estimators=25, score=0.912, total=   0.8s\n",
      "[CV] regressor__colsample_bytree=0.3, regressor__max_depth=5, regressor__n_estimators=25 \n",
      "[CV]  regressor__colsample_bytree=0.3, regressor__max_depth=5, regressor__n_estimators=25, score=0.910, total=   0.8s\n",
      "[CV] regressor__colsample_bytree=0.3, regressor__max_depth=5, regressor__n_estimators=25 \n",
      "[CV]  regressor__colsample_bytree=0.3, regressor__max_depth=5, regressor__n_estimators=25, score=0.906, total=   0.7s\n",
      "[CV] regressor__colsample_bytree=0.3, regressor__max_depth=5, regressor__n_estimators=30 \n",
      "[CV]  regressor__colsample_bytree=0.3, regressor__max_depth=5, regressor__n_estimators=30, score=0.913, total=   0.8s\n",
      "[CV] regressor__colsample_bytree=0.3, regressor__max_depth=5, regressor__n_estimators=30 \n",
      "[CV]  regressor__colsample_bytree=0.3, regressor__max_depth=5, regressor__n_estimators=30, score=0.918, total=   0.8s\n",
      "[CV] regressor__colsample_bytree=0.3, regressor__max_depth=5, regressor__n_estimators=30 \n",
      "[CV]  regressor__colsample_bytree=0.3, regressor__max_depth=5, regressor__n_estimators=30, score=0.916, total=   0.8s\n",
      "[CV] regressor__colsample_bytree=0.3, regressor__max_depth=5, regressor__n_estimators=30 \n",
      "[CV]  regressor__colsample_bytree=0.3, regressor__max_depth=5, regressor__n_estimators=30, score=0.912, total=   0.8s\n",
      "[CV] regressor__colsample_bytree=0.3, regressor__max_depth=5, regressor__n_estimators=35 \n",
      "[CV]  regressor__colsample_bytree=0.3, regressor__max_depth=5, regressor__n_estimators=35, score=0.917, total=   0.8s\n",
      "[CV] regressor__colsample_bytree=0.3, regressor__max_depth=5, regressor__n_estimators=35 \n",
      "[CV]  regressor__colsample_bytree=0.3, regressor__max_depth=5, regressor__n_estimators=35, score=0.923, total=   0.8s\n",
      "[CV] regressor__colsample_bytree=0.3, regressor__max_depth=5, regressor__n_estimators=35 \n",
      "[CV]  regressor__colsample_bytree=0.3, regressor__max_depth=5, regressor__n_estimators=35, score=0.921, total=   0.8s\n",
      "[CV] regressor__colsample_bytree=0.3, regressor__max_depth=5, regressor__n_estimators=35 \n",
      "[CV]  regressor__colsample_bytree=0.3, regressor__max_depth=5, regressor__n_estimators=35, score=0.916, total=   0.8s\n",
      "[CV] regressor__colsample_bytree=0.3, regressor__max_depth=5, regressor__n_estimators=40 \n",
      "[CV]  regressor__colsample_bytree=0.3, regressor__max_depth=5, regressor__n_estimators=40, score=0.921, total=   0.8s\n",
      "[CV] regressor__colsample_bytree=0.3, regressor__max_depth=5, regressor__n_estimators=40 \n",
      "[CV]  regressor__colsample_bytree=0.3, regressor__max_depth=5, regressor__n_estimators=40, score=0.926, total=   0.9s\n",
      "[CV] regressor__colsample_bytree=0.3, regressor__max_depth=5, regressor__n_estimators=40 \n",
      "[CV]  regressor__colsample_bytree=0.3, regressor__max_depth=5, regressor__n_estimators=40, score=0.923, total=   0.9s\n",
      "[CV] regressor__colsample_bytree=0.3, regressor__max_depth=5, regressor__n_estimators=40 \n",
      "[CV]  regressor__colsample_bytree=0.3, regressor__max_depth=5, regressor__n_estimators=40, score=0.919, total=   0.9s\n",
      "[CV] regressor__colsample_bytree=0.3, regressor__max_depth=7, regressor__n_estimators=20 \n",
      "[CV]  regressor__colsample_bytree=0.3, regressor__max_depth=7, regressor__n_estimators=20, score=0.923, total=   0.8s\n",
      "[CV] regressor__colsample_bytree=0.3, regressor__max_depth=7, regressor__n_estimators=20 \n",
      "[CV]  regressor__colsample_bytree=0.3, regressor__max_depth=7, regressor__n_estimators=20, score=0.928, total=   0.8s\n",
      "[CV] regressor__colsample_bytree=0.3, regressor__max_depth=7, regressor__n_estimators=20 \n",
      "[CV]  regressor__colsample_bytree=0.3, regressor__max_depth=7, regressor__n_estimators=20, score=0.927, total=   0.8s\n",
      "[CV] regressor__colsample_bytree=0.3, regressor__max_depth=7, regressor__n_estimators=20 \n",
      "[CV]  regressor__colsample_bytree=0.3, regressor__max_depth=7, regressor__n_estimators=20, score=0.924, total=   0.8s\n",
      "[CV] regressor__colsample_bytree=0.3, regressor__max_depth=7, regressor__n_estimators=25 \n",
      "[CV]  regressor__colsample_bytree=0.3, regressor__max_depth=7, regressor__n_estimators=25, score=0.928, total=   0.8s\n",
      "[CV] regressor__colsample_bytree=0.3, regressor__max_depth=7, regressor__n_estimators=25 \n",
      "[CV]  regressor__colsample_bytree=0.3, regressor__max_depth=7, regressor__n_estimators=25, score=0.932, total=   0.8s\n",
      "[CV] regressor__colsample_bytree=0.3, regressor__max_depth=7, regressor__n_estimators=25 \n",
      "[CV]  regressor__colsample_bytree=0.3, regressor__max_depth=7, regressor__n_estimators=25, score=0.932, total=   0.8s\n",
      "[CV] regressor__colsample_bytree=0.3, regressor__max_depth=7, regressor__n_estimators=25 \n",
      "[CV]  regressor__colsample_bytree=0.3, regressor__max_depth=7, regressor__n_estimators=25, score=0.929, total=   0.8s\n",
      "[CV] regressor__colsample_bytree=0.3, regressor__max_depth=7, regressor__n_estimators=30 \n",
      "[CV]  regressor__colsample_bytree=0.3, regressor__max_depth=7, regressor__n_estimators=30, score=0.932, total=   0.9s\n",
      "[CV] regressor__colsample_bytree=0.3, regressor__max_depth=7, regressor__n_estimators=30 \n",
      "[CV]  regressor__colsample_bytree=0.3, regressor__max_depth=7, regressor__n_estimators=30, score=0.936, total=   0.9s\n",
      "[CV] regressor__colsample_bytree=0.3, regressor__max_depth=7, regressor__n_estimators=30 \n",
      "[CV]  regressor__colsample_bytree=0.3, regressor__max_depth=7, regressor__n_estimators=30, score=0.936, total=   0.9s\n",
      "[CV] regressor__colsample_bytree=0.3, regressor__max_depth=7, regressor__n_estimators=30 \n",
      "[CV]  regressor__colsample_bytree=0.3, regressor__max_depth=7, regressor__n_estimators=30, score=0.933, total=   0.9s\n",
      "[CV] regressor__colsample_bytree=0.3, regressor__max_depth=7, regressor__n_estimators=35 \n",
      "[CV]  regressor__colsample_bytree=0.3, regressor__max_depth=7, regressor__n_estimators=35, score=0.934, total=   1.0s\n",
      "[CV] regressor__colsample_bytree=0.3, regressor__max_depth=7, regressor__n_estimators=35 \n",
      "[CV]  regressor__colsample_bytree=0.3, regressor__max_depth=7, regressor__n_estimators=35, score=0.938, total=   1.0s\n",
      "[CV] regressor__colsample_bytree=0.3, regressor__max_depth=7, regressor__n_estimators=35 \n",
      "[CV]  regressor__colsample_bytree=0.3, regressor__max_depth=7, regressor__n_estimators=35, score=0.938, total=   0.9s\n",
      "[CV] regressor__colsample_bytree=0.3, regressor__max_depth=7, regressor__n_estimators=35 \n",
      "[CV]  regressor__colsample_bytree=0.3, regressor__max_depth=7, regressor__n_estimators=35, score=0.936, total=   1.0s\n",
      "[CV] regressor__colsample_bytree=0.3, regressor__max_depth=7, regressor__n_estimators=40 \n",
      "[CV]  regressor__colsample_bytree=0.3, regressor__max_depth=7, regressor__n_estimators=40, score=0.936, total=   1.0s\n",
      "[CV] regressor__colsample_bytree=0.3, regressor__max_depth=7, regressor__n_estimators=40 \n",
      "[CV]  regressor__colsample_bytree=0.3, regressor__max_depth=7, regressor__n_estimators=40, score=0.940, total=   1.1s\n",
      "[CV] regressor__colsample_bytree=0.3, regressor__max_depth=7, regressor__n_estimators=40 \n",
      "[CV]  regressor__colsample_bytree=0.3, regressor__max_depth=7, regressor__n_estimators=40, score=0.940, total=   1.0s\n",
      "[CV] regressor__colsample_bytree=0.3, regressor__max_depth=7, regressor__n_estimators=40 \n",
      "[CV]  regressor__colsample_bytree=0.3, regressor__max_depth=7, regressor__n_estimators=40, score=0.937, total=   1.0s\n",
      "[CV] regressor__colsample_bytree=0.3, regressor__max_depth=9, regressor__n_estimators=20 \n",
      "[CV]  regressor__colsample_bytree=0.3, regressor__max_depth=9, regressor__n_estimators=20, score=0.932, total=   0.9s\n",
      "[CV] regressor__colsample_bytree=0.3, regressor__max_depth=9, regressor__n_estimators=20 \n",
      "[CV]  regressor__colsample_bytree=0.3, regressor__max_depth=9, regressor__n_estimators=20, score=0.937, total=   0.9s\n",
      "[CV] regressor__colsample_bytree=0.3, regressor__max_depth=9, regressor__n_estimators=20 \n"
     ]
    },
    {
     "name": "stdout",
     "output_type": "stream",
     "text": [
      "[CV]  regressor__colsample_bytree=0.3, regressor__max_depth=9, regressor__n_estimators=20, score=0.940, total=   0.9s\n",
      "[CV] regressor__colsample_bytree=0.3, regressor__max_depth=9, regressor__n_estimators=20 \n",
      "[CV]  regressor__colsample_bytree=0.3, regressor__max_depth=9, regressor__n_estimators=20, score=0.935, total=   0.8s\n",
      "[CV] regressor__colsample_bytree=0.3, regressor__max_depth=9, regressor__n_estimators=25 \n",
      "[CV]  regressor__colsample_bytree=0.3, regressor__max_depth=9, regressor__n_estimators=25, score=0.936, total=   0.9s\n",
      "[CV] regressor__colsample_bytree=0.3, regressor__max_depth=9, regressor__n_estimators=25 \n",
      "[CV]  regressor__colsample_bytree=0.3, regressor__max_depth=9, regressor__n_estimators=25, score=0.940, total=   0.9s\n",
      "[CV] regressor__colsample_bytree=0.3, regressor__max_depth=9, regressor__n_estimators=25 \n",
      "[CV]  regressor__colsample_bytree=0.3, regressor__max_depth=9, regressor__n_estimators=25, score=0.943, total=   0.9s\n",
      "[CV] regressor__colsample_bytree=0.3, regressor__max_depth=9, regressor__n_estimators=25 \n",
      "[CV]  regressor__colsample_bytree=0.3, regressor__max_depth=9, regressor__n_estimators=25, score=0.939, total=   0.9s\n",
      "[CV] regressor__colsample_bytree=0.3, regressor__max_depth=9, regressor__n_estimators=30 \n",
      "[CV]  regressor__colsample_bytree=0.3, regressor__max_depth=9, regressor__n_estimators=30, score=0.940, total=   1.0s\n",
      "[CV] regressor__colsample_bytree=0.3, regressor__max_depth=9, regressor__n_estimators=30 \n",
      "[CV]  regressor__colsample_bytree=0.3, regressor__max_depth=9, regressor__n_estimators=30, score=0.943, total=   1.0s\n",
      "[CV] regressor__colsample_bytree=0.3, regressor__max_depth=9, regressor__n_estimators=30 \n",
      "[CV]  regressor__colsample_bytree=0.3, regressor__max_depth=9, regressor__n_estimators=30, score=0.947, total=   1.0s\n",
      "[CV] regressor__colsample_bytree=0.3, regressor__max_depth=9, regressor__n_estimators=30 \n",
      "[CV]  regressor__colsample_bytree=0.3, regressor__max_depth=9, regressor__n_estimators=30, score=0.942, total=   1.0s\n",
      "[CV] regressor__colsample_bytree=0.3, regressor__max_depth=9, regressor__n_estimators=35 \n",
      "[CV]  regressor__colsample_bytree=0.3, regressor__max_depth=9, regressor__n_estimators=35, score=0.942, total=   1.1s\n",
      "[CV] regressor__colsample_bytree=0.3, regressor__max_depth=9, regressor__n_estimators=35 \n",
      "[CV]  regressor__colsample_bytree=0.3, regressor__max_depth=9, regressor__n_estimators=35, score=0.945, total=   1.1s\n",
      "[CV] regressor__colsample_bytree=0.3, regressor__max_depth=9, regressor__n_estimators=35 \n",
      "[CV]  regressor__colsample_bytree=0.3, regressor__max_depth=9, regressor__n_estimators=35, score=0.948, total=   1.1s\n",
      "[CV] regressor__colsample_bytree=0.3, regressor__max_depth=9, regressor__n_estimators=35 \n",
      "[CV]  regressor__colsample_bytree=0.3, regressor__max_depth=9, regressor__n_estimators=35, score=0.944, total=   1.1s\n",
      "[CV] regressor__colsample_bytree=0.3, regressor__max_depth=9, regressor__n_estimators=40 \n",
      "[CV]  regressor__colsample_bytree=0.3, regressor__max_depth=9, regressor__n_estimators=40, score=0.943, total=   1.1s\n",
      "[CV] regressor__colsample_bytree=0.3, regressor__max_depth=9, regressor__n_estimators=40 \n",
      "[CV]  regressor__colsample_bytree=0.3, regressor__max_depth=9, regressor__n_estimators=40, score=0.946, total=   1.1s\n",
      "[CV] regressor__colsample_bytree=0.3, regressor__max_depth=9, regressor__n_estimators=40 \n",
      "[CV]  regressor__colsample_bytree=0.3, regressor__max_depth=9, regressor__n_estimators=40, score=0.949, total=   1.1s\n",
      "[CV] regressor__colsample_bytree=0.3, regressor__max_depth=9, regressor__n_estimators=40 \n",
      "[CV]  regressor__colsample_bytree=0.3, regressor__max_depth=9, regressor__n_estimators=40, score=0.945, total=   1.1s\n",
      "[CV] regressor__colsample_bytree=0.3, regressor__max_depth=10, regressor__n_estimators=20 \n",
      "[CV]  regressor__colsample_bytree=0.3, regressor__max_depth=10, regressor__n_estimators=20, score=0.936, total=   0.9s\n",
      "[CV] regressor__colsample_bytree=0.3, regressor__max_depth=10, regressor__n_estimators=20 \n",
      "[CV]  regressor__colsample_bytree=0.3, regressor__max_depth=10, regressor__n_estimators=20, score=0.938, total=   0.9s\n",
      "[CV] regressor__colsample_bytree=0.3, regressor__max_depth=10, regressor__n_estimators=20 \n",
      "[CV]  regressor__colsample_bytree=0.3, regressor__max_depth=10, regressor__n_estimators=20, score=0.944, total=   0.9s\n",
      "[CV] regressor__colsample_bytree=0.3, regressor__max_depth=10, regressor__n_estimators=20 \n",
      "[CV]  regressor__colsample_bytree=0.3, regressor__max_depth=10, regressor__n_estimators=20, score=0.938, total=   0.9s\n",
      "[CV] regressor__colsample_bytree=0.3, regressor__max_depth=10, regressor__n_estimators=25 \n",
      "[CV]  regressor__colsample_bytree=0.3, regressor__max_depth=10, regressor__n_estimators=25, score=0.940, total=   1.0s\n",
      "[CV] regressor__colsample_bytree=0.3, regressor__max_depth=10, regressor__n_estimators=25 \n",
      "[CV]  regressor__colsample_bytree=0.3, regressor__max_depth=10, regressor__n_estimators=25, score=0.942, total=   1.0s\n",
      "[CV] regressor__colsample_bytree=0.3, regressor__max_depth=10, regressor__n_estimators=25 \n",
      "[CV]  regressor__colsample_bytree=0.3, regressor__max_depth=10, regressor__n_estimators=25, score=0.948, total=   1.0s\n",
      "[CV] regressor__colsample_bytree=0.3, regressor__max_depth=10, regressor__n_estimators=25 \n",
      "[CV]  regressor__colsample_bytree=0.3, regressor__max_depth=10, regressor__n_estimators=25, score=0.941, total=   1.0s\n",
      "[CV] regressor__colsample_bytree=0.3, regressor__max_depth=10, regressor__n_estimators=30 \n",
      "[CV]  regressor__colsample_bytree=0.3, regressor__max_depth=10, regressor__n_estimators=30, score=0.943, total=   1.1s\n",
      "[CV] regressor__colsample_bytree=0.3, regressor__max_depth=10, regressor__n_estimators=30 \n",
      "[CV]  regressor__colsample_bytree=0.3, regressor__max_depth=10, regressor__n_estimators=30, score=0.944, total=   1.1s\n",
      "[CV] regressor__colsample_bytree=0.3, regressor__max_depth=10, regressor__n_estimators=30 \n",
      "[CV]  regressor__colsample_bytree=0.3, regressor__max_depth=10, regressor__n_estimators=30, score=0.951, total=   1.0s\n",
      "[CV] regressor__colsample_bytree=0.3, regressor__max_depth=10, regressor__n_estimators=30 \n",
      "[CV]  regressor__colsample_bytree=0.3, regressor__max_depth=10, regressor__n_estimators=30, score=0.945, total=   1.0s\n",
      "[CV] regressor__colsample_bytree=0.3, regressor__max_depth=10, regressor__n_estimators=35 \n",
      "[CV]  regressor__colsample_bytree=0.3, regressor__max_depth=10, regressor__n_estimators=35, score=0.944, total=   1.1s\n",
      "[CV] regressor__colsample_bytree=0.3, regressor__max_depth=10, regressor__n_estimators=35 \n",
      "[CV]  regressor__colsample_bytree=0.3, regressor__max_depth=10, regressor__n_estimators=35, score=0.946, total=   1.1s\n",
      "[CV] regressor__colsample_bytree=0.3, regressor__max_depth=10, regressor__n_estimators=35 \n",
      "[CV]  regressor__colsample_bytree=0.3, regressor__max_depth=10, regressor__n_estimators=35, score=0.952, total=   1.1s\n",
      "[CV] regressor__colsample_bytree=0.3, regressor__max_depth=10, regressor__n_estimators=35 \n",
      "[CV]  regressor__colsample_bytree=0.3, regressor__max_depth=10, regressor__n_estimators=35, score=0.946, total=   1.1s\n",
      "[CV] regressor__colsample_bytree=0.3, regressor__max_depth=10, regressor__n_estimators=40 \n",
      "[CV]  regressor__colsample_bytree=0.3, regressor__max_depth=10, regressor__n_estimators=40, score=0.946, total=   1.2s\n",
      "[CV] regressor__colsample_bytree=0.3, regressor__max_depth=10, regressor__n_estimators=40 \n",
      "[CV]  regressor__colsample_bytree=0.3, regressor__max_depth=10, regressor__n_estimators=40, score=0.947, total=   1.2s\n",
      "[CV] regressor__colsample_bytree=0.3, regressor__max_depth=10, regressor__n_estimators=40 \n",
      "[CV]  regressor__colsample_bytree=0.3, regressor__max_depth=10, regressor__n_estimators=40, score=0.953, total=   1.2s\n",
      "[CV] regressor__colsample_bytree=0.3, regressor__max_depth=10, regressor__n_estimators=40 \n",
      "[CV]  regressor__colsample_bytree=0.3, regressor__max_depth=10, regressor__n_estimators=40, score=0.947, total=   1.2s\n",
      "[CV] regressor__colsample_bytree=0.3, regressor__max_depth=12, regressor__n_estimators=20 \n",
      "[CV]  regressor__colsample_bytree=0.3, regressor__max_depth=12, regressor__n_estimators=20, score=0.942, total=   0.9s\n",
      "[CV] regressor__colsample_bytree=0.3, regressor__max_depth=12, regressor__n_estimators=20 \n",
      "[CV]  regressor__colsample_bytree=0.3, regressor__max_depth=12, regressor__n_estimators=20, score=0.942, total=   1.0s\n",
      "[CV] regressor__colsample_bytree=0.3, regressor__max_depth=12, regressor__n_estimators=20 \n"
     ]
    },
    {
     "name": "stdout",
     "output_type": "stream",
     "text": [
      "[CV]  regressor__colsample_bytree=0.3, regressor__max_depth=12, regressor__n_estimators=20, score=0.948, total=   1.0s\n",
      "[CV] regressor__colsample_bytree=0.3, regressor__max_depth=12, regressor__n_estimators=20 \n",
      "[CV]  regressor__colsample_bytree=0.3, regressor__max_depth=12, regressor__n_estimators=20, score=0.944, total=   1.0s\n",
      "[CV] regressor__colsample_bytree=0.3, regressor__max_depth=12, regressor__n_estimators=25 \n",
      "[CV]  regressor__colsample_bytree=0.3, regressor__max_depth=12, regressor__n_estimators=25, score=0.946, total=   1.0s\n",
      "[CV] regressor__colsample_bytree=0.3, regressor__max_depth=12, regressor__n_estimators=25 \n",
      "[CV]  regressor__colsample_bytree=0.3, regressor__max_depth=12, regressor__n_estimators=25, score=0.944, total=   1.1s\n",
      "[CV] regressor__colsample_bytree=0.3, regressor__max_depth=12, regressor__n_estimators=25 \n",
      "[CV]  regressor__colsample_bytree=0.3, regressor__max_depth=12, regressor__n_estimators=25, score=0.951, total=   1.0s\n",
      "[CV] regressor__colsample_bytree=0.3, regressor__max_depth=12, regressor__n_estimators=25 \n",
      "[CV]  regressor__colsample_bytree=0.3, regressor__max_depth=12, regressor__n_estimators=25, score=0.947, total=   1.0s\n",
      "[CV] regressor__colsample_bytree=0.3, regressor__max_depth=12, regressor__n_estimators=30 \n",
      "[CV]  regressor__colsample_bytree=0.3, regressor__max_depth=12, regressor__n_estimators=30, score=0.949, total=   1.2s\n",
      "[CV] regressor__colsample_bytree=0.3, regressor__max_depth=12, regressor__n_estimators=30 \n",
      "[CV]  regressor__colsample_bytree=0.3, regressor__max_depth=12, regressor__n_estimators=30, score=0.947, total=   1.2s\n",
      "[CV] regressor__colsample_bytree=0.3, regressor__max_depth=12, regressor__n_estimators=30 \n",
      "[CV]  regressor__colsample_bytree=0.3, regressor__max_depth=12, regressor__n_estimators=30, score=0.954, total=   1.2s\n",
      "[CV] regressor__colsample_bytree=0.3, regressor__max_depth=12, regressor__n_estimators=30 \n",
      "[CV]  regressor__colsample_bytree=0.3, regressor__max_depth=12, regressor__n_estimators=30, score=0.950, total=   1.2s\n",
      "[CV] regressor__colsample_bytree=0.3, regressor__max_depth=12, regressor__n_estimators=35 \n",
      "[CV]  regressor__colsample_bytree=0.3, regressor__max_depth=12, regressor__n_estimators=35, score=0.950, total=   1.2s\n",
      "[CV] regressor__colsample_bytree=0.3, regressor__max_depth=12, regressor__n_estimators=35 \n",
      "[CV]  regressor__colsample_bytree=0.3, regressor__max_depth=12, regressor__n_estimators=35, score=0.948, total=   1.2s\n",
      "[CV] regressor__colsample_bytree=0.3, regressor__max_depth=12, regressor__n_estimators=35 \n",
      "[CV]  regressor__colsample_bytree=0.3, regressor__max_depth=12, regressor__n_estimators=35, score=0.955, total=   1.3s\n",
      "[CV] regressor__colsample_bytree=0.3, regressor__max_depth=12, regressor__n_estimators=35 \n",
      "[CV]  regressor__colsample_bytree=0.3, regressor__max_depth=12, regressor__n_estimators=35, score=0.951, total=   1.2s\n",
      "[CV] regressor__colsample_bytree=0.3, regressor__max_depth=12, regressor__n_estimators=40 \n",
      "[CV]  regressor__colsample_bytree=0.3, regressor__max_depth=12, regressor__n_estimators=40, score=0.951, total=   1.3s\n",
      "[CV] regressor__colsample_bytree=0.3, regressor__max_depth=12, regressor__n_estimators=40 \n",
      "[CV]  regressor__colsample_bytree=0.3, regressor__max_depth=12, regressor__n_estimators=40, score=0.949, total=   1.3s\n",
      "[CV] regressor__colsample_bytree=0.3, regressor__max_depth=12, regressor__n_estimators=40 \n",
      "[CV]  regressor__colsample_bytree=0.3, regressor__max_depth=12, regressor__n_estimators=40, score=0.955, total=   1.3s\n",
      "[CV] regressor__colsample_bytree=0.3, regressor__max_depth=12, regressor__n_estimators=40 \n",
      "[CV]  regressor__colsample_bytree=0.3, regressor__max_depth=12, regressor__n_estimators=40, score=0.952, total=   1.3s\n",
      "[CV] regressor__colsample_bytree=0.3, regressor__max_depth=14, regressor__n_estimators=20 \n",
      "[CV]  regressor__colsample_bytree=0.3, regressor__max_depth=14, regressor__n_estimators=20, score=0.945, total=   1.1s\n",
      "[CV] regressor__colsample_bytree=0.3, regressor__max_depth=14, regressor__n_estimators=20 \n",
      "[CV]  regressor__colsample_bytree=0.3, regressor__max_depth=14, regressor__n_estimators=20, score=0.945, total=   1.0s\n",
      "[CV] regressor__colsample_bytree=0.3, regressor__max_depth=14, regressor__n_estimators=20 \n",
      "[CV]  regressor__colsample_bytree=0.3, regressor__max_depth=14, regressor__n_estimators=20, score=0.951, total=   1.0s\n",
      "[CV] regressor__colsample_bytree=0.3, regressor__max_depth=14, regressor__n_estimators=20 \n",
      "[CV]  regressor__colsample_bytree=0.3, regressor__max_depth=14, regressor__n_estimators=20, score=0.946, total=   1.0s\n",
      "[CV] regressor__colsample_bytree=0.3, regressor__max_depth=14, regressor__n_estimators=25 \n",
      "[CV]  regressor__colsample_bytree=0.3, regressor__max_depth=14, regressor__n_estimators=25, score=0.948, total=   1.1s\n",
      "[CV] regressor__colsample_bytree=0.3, regressor__max_depth=14, regressor__n_estimators=25 \n",
      "[CV]  regressor__colsample_bytree=0.3, regressor__max_depth=14, regressor__n_estimators=25, score=0.948, total=   1.1s\n",
      "[CV] regressor__colsample_bytree=0.3, regressor__max_depth=14, regressor__n_estimators=25 \n",
      "[CV]  regressor__colsample_bytree=0.3, regressor__max_depth=14, regressor__n_estimators=25, score=0.953, total=   1.1s\n",
      "[CV] regressor__colsample_bytree=0.3, regressor__max_depth=14, regressor__n_estimators=25 \n",
      "[CV]  regressor__colsample_bytree=0.3, regressor__max_depth=14, regressor__n_estimators=25, score=0.949, total=   1.1s\n",
      "[CV] regressor__colsample_bytree=0.3, regressor__max_depth=14, regressor__n_estimators=30 \n",
      "[CV]  regressor__colsample_bytree=0.3, regressor__max_depth=14, regressor__n_estimators=30, score=0.951, total=   1.3s\n",
      "[CV] regressor__colsample_bytree=0.3, regressor__max_depth=14, regressor__n_estimators=30 \n",
      "[CV]  regressor__colsample_bytree=0.3, regressor__max_depth=14, regressor__n_estimators=30, score=0.950, total=   1.3s\n",
      "[CV] regressor__colsample_bytree=0.3, regressor__max_depth=14, regressor__n_estimators=30 \n",
      "[CV]  regressor__colsample_bytree=0.3, regressor__max_depth=14, regressor__n_estimators=30, score=0.956, total=   1.3s\n",
      "[CV] regressor__colsample_bytree=0.3, regressor__max_depth=14, regressor__n_estimators=30 \n",
      "[CV]  regressor__colsample_bytree=0.3, regressor__max_depth=14, regressor__n_estimators=30, score=0.952, total=   1.3s\n",
      "[CV] regressor__colsample_bytree=0.3, regressor__max_depth=14, regressor__n_estimators=35 \n",
      "[CV]  regressor__colsample_bytree=0.3, regressor__max_depth=14, regressor__n_estimators=35, score=0.952, total=   1.4s\n",
      "[CV] regressor__colsample_bytree=0.3, regressor__max_depth=14, regressor__n_estimators=35 \n",
      "[CV]  regressor__colsample_bytree=0.3, regressor__max_depth=14, regressor__n_estimators=35, score=0.951, total=   1.4s\n",
      "[CV] regressor__colsample_bytree=0.3, regressor__max_depth=14, regressor__n_estimators=35 \n",
      "[CV]  regressor__colsample_bytree=0.3, regressor__max_depth=14, regressor__n_estimators=35, score=0.957, total=   1.4s\n",
      "[CV] regressor__colsample_bytree=0.3, regressor__max_depth=14, regressor__n_estimators=35 \n",
      "[CV]  regressor__colsample_bytree=0.3, regressor__max_depth=14, regressor__n_estimators=35, score=0.953, total=   1.4s\n",
      "[CV] regressor__colsample_bytree=0.3, regressor__max_depth=14, regressor__n_estimators=40 \n",
      "[CV]  regressor__colsample_bytree=0.3, regressor__max_depth=14, regressor__n_estimators=40, score=0.953, total=   1.4s\n",
      "[CV] regressor__colsample_bytree=0.3, regressor__max_depth=14, regressor__n_estimators=40 \n",
      "[CV]  regressor__colsample_bytree=0.3, regressor__max_depth=14, regressor__n_estimators=40, score=0.952, total=   1.4s\n",
      "[CV] regressor__colsample_bytree=0.3, regressor__max_depth=14, regressor__n_estimators=40 \n",
      "[CV]  regressor__colsample_bytree=0.3, regressor__max_depth=14, regressor__n_estimators=40, score=0.957, total=   1.4s\n",
      "[CV] regressor__colsample_bytree=0.3, regressor__max_depth=14, regressor__n_estimators=40 \n",
      "[CV]  regressor__colsample_bytree=0.3, regressor__max_depth=14, regressor__n_estimators=40, score=0.954, total=   1.5s\n",
      "[CV] regressor__colsample_bytree=0.3, regressor__max_depth=16, regressor__n_estimators=20 \n",
      "[CV]  regressor__colsample_bytree=0.3, regressor__max_depth=16, regressor__n_estimators=20, score=0.948, total=   1.1s\n",
      "[CV] regressor__colsample_bytree=0.3, regressor__max_depth=16, regressor__n_estimators=20 \n",
      "[CV]  regressor__colsample_bytree=0.3, regressor__max_depth=16, regressor__n_estimators=20, score=0.946, total=   1.1s\n",
      "[CV] regressor__colsample_bytree=0.3, regressor__max_depth=16, regressor__n_estimators=20 \n"
     ]
    },
    {
     "name": "stdout",
     "output_type": "stream",
     "text": [
      "[CV]  regressor__colsample_bytree=0.3, regressor__max_depth=16, regressor__n_estimators=20, score=0.953, total=   1.1s\n",
      "[CV] regressor__colsample_bytree=0.3, regressor__max_depth=16, regressor__n_estimators=20 \n",
      "[CV]  regressor__colsample_bytree=0.3, regressor__max_depth=16, regressor__n_estimators=20, score=0.948, total=   1.1s\n",
      "[CV] regressor__colsample_bytree=0.3, regressor__max_depth=16, regressor__n_estimators=25 \n",
      "[CV]  regressor__colsample_bytree=0.3, regressor__max_depth=16, regressor__n_estimators=25, score=0.951, total=   1.2s\n",
      "[CV] regressor__colsample_bytree=0.3, regressor__max_depth=16, regressor__n_estimators=25 \n",
      "[CV]  regressor__colsample_bytree=0.3, regressor__max_depth=16, regressor__n_estimators=25, score=0.948, total=   1.2s\n",
      "[CV] regressor__colsample_bytree=0.3, regressor__max_depth=16, regressor__n_estimators=25 \n",
      "[CV]  regressor__colsample_bytree=0.3, regressor__max_depth=16, regressor__n_estimators=25, score=0.956, total=   1.2s\n",
      "[CV] regressor__colsample_bytree=0.3, regressor__max_depth=16, regressor__n_estimators=25 \n",
      "[CV]  regressor__colsample_bytree=0.3, regressor__max_depth=16, regressor__n_estimators=25, score=0.951, total=   1.2s\n",
      "[CV] regressor__colsample_bytree=0.3, regressor__max_depth=16, regressor__n_estimators=30 \n",
      "[CV]  regressor__colsample_bytree=0.3, regressor__max_depth=16, regressor__n_estimators=30, score=0.953, total=   1.4s\n",
      "[CV] regressor__colsample_bytree=0.3, regressor__max_depth=16, regressor__n_estimators=30 \n",
      "[CV]  regressor__colsample_bytree=0.3, regressor__max_depth=16, regressor__n_estimators=30, score=0.950, total=   1.4s\n",
      "[CV] regressor__colsample_bytree=0.3, regressor__max_depth=16, regressor__n_estimators=30 \n",
      "[CV]  regressor__colsample_bytree=0.3, regressor__max_depth=16, regressor__n_estimators=30, score=0.958, total=   1.4s\n",
      "[CV] regressor__colsample_bytree=0.3, regressor__max_depth=16, regressor__n_estimators=30 \n",
      "[CV]  regressor__colsample_bytree=0.3, regressor__max_depth=16, regressor__n_estimators=30, score=0.953, total=   1.4s\n",
      "[CV] regressor__colsample_bytree=0.3, regressor__max_depth=16, regressor__n_estimators=35 \n",
      "[CV]  regressor__colsample_bytree=0.3, regressor__max_depth=16, regressor__n_estimators=35, score=0.954, total=   1.5s\n",
      "[CV] regressor__colsample_bytree=0.3, regressor__max_depth=16, regressor__n_estimators=35 \n",
      "[CV]  regressor__colsample_bytree=0.3, regressor__max_depth=16, regressor__n_estimators=35, score=0.951, total=   1.5s\n",
      "[CV] regressor__colsample_bytree=0.3, regressor__max_depth=16, regressor__n_estimators=35 \n",
      "[CV]  regressor__colsample_bytree=0.3, regressor__max_depth=16, regressor__n_estimators=35, score=0.959, total=   1.5s\n",
      "[CV] regressor__colsample_bytree=0.3, regressor__max_depth=16, regressor__n_estimators=35 \n",
      "[CV]  regressor__colsample_bytree=0.3, regressor__max_depth=16, regressor__n_estimators=35, score=0.954, total=   1.5s\n",
      "[CV] regressor__colsample_bytree=0.3, regressor__max_depth=16, regressor__n_estimators=40 \n",
      "[CV]  regressor__colsample_bytree=0.3, regressor__max_depth=16, regressor__n_estimators=40, score=0.955, total=   1.6s\n",
      "[CV] regressor__colsample_bytree=0.3, regressor__max_depth=16, regressor__n_estimators=40 \n",
      "[CV]  regressor__colsample_bytree=0.3, regressor__max_depth=16, regressor__n_estimators=40, score=0.951, total=   1.6s\n",
      "[CV] regressor__colsample_bytree=0.3, regressor__max_depth=16, regressor__n_estimators=40 \n",
      "[CV]  regressor__colsample_bytree=0.3, regressor__max_depth=16, regressor__n_estimators=40, score=0.959, total=   1.6s\n",
      "[CV] regressor__colsample_bytree=0.3, regressor__max_depth=16, regressor__n_estimators=40 \n",
      "[CV]  regressor__colsample_bytree=0.3, regressor__max_depth=16, regressor__n_estimators=40, score=0.955, total=   1.6s\n",
      "[CV] regressor__colsample_bytree=0.3, regressor__max_depth=18, regressor__n_estimators=20 \n",
      "[CV]  regressor__colsample_bytree=0.3, regressor__max_depth=18, regressor__n_estimators=20, score=0.948, total=   1.2s\n",
      "[CV] regressor__colsample_bytree=0.3, regressor__max_depth=18, regressor__n_estimators=20 \n",
      "[CV]  regressor__colsample_bytree=0.3, regressor__max_depth=18, regressor__n_estimators=20, score=0.947, total=   1.2s\n",
      "[CV] regressor__colsample_bytree=0.3, regressor__max_depth=18, regressor__n_estimators=20 \n",
      "[CV]  regressor__colsample_bytree=0.3, regressor__max_depth=18, regressor__n_estimators=20, score=0.954, total=   1.2s\n",
      "[CV] regressor__colsample_bytree=0.3, regressor__max_depth=18, regressor__n_estimators=20 \n",
      "[CV]  regressor__colsample_bytree=0.3, regressor__max_depth=18, regressor__n_estimators=20, score=0.949, total=   1.2s\n",
      "[CV] regressor__colsample_bytree=0.3, regressor__max_depth=18, regressor__n_estimators=25 \n",
      "[CV]  regressor__colsample_bytree=0.3, regressor__max_depth=18, regressor__n_estimators=25, score=0.951, total=   1.3s\n",
      "[CV] regressor__colsample_bytree=0.3, regressor__max_depth=18, regressor__n_estimators=25 \n",
      "[CV]  regressor__colsample_bytree=0.3, regressor__max_depth=18, regressor__n_estimators=25, score=0.949, total=   1.3s\n",
      "[CV] regressor__colsample_bytree=0.3, regressor__max_depth=18, regressor__n_estimators=25 \n",
      "[CV]  regressor__colsample_bytree=0.3, regressor__max_depth=18, regressor__n_estimators=25, score=0.957, total=   1.3s\n",
      "[CV] regressor__colsample_bytree=0.3, regressor__max_depth=18, regressor__n_estimators=25 \n",
      "[CV]  regressor__colsample_bytree=0.3, regressor__max_depth=18, regressor__n_estimators=25, score=0.952, total=   1.4s\n",
      "[CV] regressor__colsample_bytree=0.3, regressor__max_depth=18, regressor__n_estimators=30 \n",
      "[CV]  regressor__colsample_bytree=0.3, regressor__max_depth=18, regressor__n_estimators=30, score=0.953, total=   1.6s\n",
      "[CV] regressor__colsample_bytree=0.3, regressor__max_depth=18, regressor__n_estimators=30 \n",
      "[CV]  regressor__colsample_bytree=0.3, regressor__max_depth=18, regressor__n_estimators=30, score=0.951, total=   1.7s\n",
      "[CV] regressor__colsample_bytree=0.3, regressor__max_depth=18, regressor__n_estimators=30 \n",
      "[CV]  regressor__colsample_bytree=0.3, regressor__max_depth=18, regressor__n_estimators=30, score=0.959, total=   1.6s\n",
      "[CV] regressor__colsample_bytree=0.3, regressor__max_depth=18, regressor__n_estimators=30 \n",
      "[CV]  regressor__colsample_bytree=0.3, regressor__max_depth=18, regressor__n_estimators=30, score=0.954, total=   1.6s\n",
      "[CV] regressor__colsample_bytree=0.3, regressor__max_depth=18, regressor__n_estimators=35 \n",
      "[CV]  regressor__colsample_bytree=0.3, regressor__max_depth=18, regressor__n_estimators=35, score=0.954, total=   1.8s\n",
      "[CV] regressor__colsample_bytree=0.3, regressor__max_depth=18, regressor__n_estimators=35 \n",
      "[CV]  regressor__colsample_bytree=0.3, regressor__max_depth=18, regressor__n_estimators=35, score=0.952, total=   1.8s\n",
      "[CV] regressor__colsample_bytree=0.3, regressor__max_depth=18, regressor__n_estimators=35 \n",
      "[CV]  regressor__colsample_bytree=0.3, regressor__max_depth=18, regressor__n_estimators=35, score=0.959, total=   1.8s\n",
      "[CV] regressor__colsample_bytree=0.3, regressor__max_depth=18, regressor__n_estimators=35 \n",
      "[CV]  regressor__colsample_bytree=0.3, regressor__max_depth=18, regressor__n_estimators=35, score=0.955, total=   1.7s\n",
      "[CV] regressor__colsample_bytree=0.3, regressor__max_depth=18, regressor__n_estimators=40 \n",
      "[CV]  regressor__colsample_bytree=0.3, regressor__max_depth=18, regressor__n_estimators=40, score=0.954, total=   1.8s\n",
      "[CV] regressor__colsample_bytree=0.3, regressor__max_depth=18, regressor__n_estimators=40 \n",
      "[CV]  regressor__colsample_bytree=0.3, regressor__max_depth=18, regressor__n_estimators=40, score=0.952, total=   1.8s\n",
      "[CV] regressor__colsample_bytree=0.3, regressor__max_depth=18, regressor__n_estimators=40 \n",
      "[CV]  regressor__colsample_bytree=0.3, regressor__max_depth=18, regressor__n_estimators=40, score=0.960, total=   1.8s\n",
      "[CV] regressor__colsample_bytree=0.3, regressor__max_depth=18, regressor__n_estimators=40 \n",
      "[CV]  regressor__colsample_bytree=0.3, regressor__max_depth=18, regressor__n_estimators=40, score=0.955, total=   1.8s\n",
      "[CV] regressor__colsample_bytree=0.3, regressor__max_depth=None, regressor__n_estimators=20 \n",
      "[CV]  regressor__colsample_bytree=0.3, regressor__max_depth=None, regressor__n_estimators=20, score=0.913, total=   0.7s\n",
      "[CV] regressor__colsample_bytree=0.3, regressor__max_depth=None, regressor__n_estimators=20 \n"
     ]
    },
    {
     "name": "stdout",
     "output_type": "stream",
     "text": [
      "[CV]  regressor__colsample_bytree=0.3, regressor__max_depth=None, regressor__n_estimators=20, score=0.921, total=   0.7s\n",
      "[CV] regressor__colsample_bytree=0.3, regressor__max_depth=None, regressor__n_estimators=20 \n",
      "[CV]  regressor__colsample_bytree=0.3, regressor__max_depth=None, regressor__n_estimators=20, score=0.919, total=   0.8s\n",
      "[CV] regressor__colsample_bytree=0.3, regressor__max_depth=None, regressor__n_estimators=20 \n",
      "[CV]  regressor__colsample_bytree=0.3, regressor__max_depth=None, regressor__n_estimators=20, score=0.915, total=   0.7s\n",
      "[CV] regressor__colsample_bytree=0.3, regressor__max_depth=None, regressor__n_estimators=25 \n",
      "[CV]  regressor__colsample_bytree=0.3, regressor__max_depth=None, regressor__n_estimators=25, score=0.918, total=   0.8s\n",
      "[CV] regressor__colsample_bytree=0.3, regressor__max_depth=None, regressor__n_estimators=25 \n",
      "[CV]  regressor__colsample_bytree=0.3, regressor__max_depth=None, regressor__n_estimators=25, score=0.926, total=   0.8s\n",
      "[CV] regressor__colsample_bytree=0.3, regressor__max_depth=None, regressor__n_estimators=25 \n",
      "[CV]  regressor__colsample_bytree=0.3, regressor__max_depth=None, regressor__n_estimators=25, score=0.924, total=   0.8s\n",
      "[CV] regressor__colsample_bytree=0.3, regressor__max_depth=None, regressor__n_estimators=25 \n",
      "[CV]  regressor__colsample_bytree=0.3, regressor__max_depth=None, regressor__n_estimators=25, score=0.921, total=   0.8s\n",
      "[CV] regressor__colsample_bytree=0.3, regressor__max_depth=None, regressor__n_estimators=30 \n",
      "[CV]  regressor__colsample_bytree=0.3, regressor__max_depth=None, regressor__n_estimators=30, score=0.923, total=   0.9s\n",
      "[CV] regressor__colsample_bytree=0.3, regressor__max_depth=None, regressor__n_estimators=30 \n",
      "[CV]  regressor__colsample_bytree=0.3, regressor__max_depth=None, regressor__n_estimators=30, score=0.931, total=   0.9s\n",
      "[CV] regressor__colsample_bytree=0.3, regressor__max_depth=None, regressor__n_estimators=30 \n",
      "[CV]  regressor__colsample_bytree=0.3, regressor__max_depth=None, regressor__n_estimators=30, score=0.929, total=   0.9s\n",
      "[CV] regressor__colsample_bytree=0.3, regressor__max_depth=None, regressor__n_estimators=30 \n",
      "[CV]  regressor__colsample_bytree=0.3, regressor__max_depth=None, regressor__n_estimators=30, score=0.926, total=   0.9s\n",
      "[CV] regressor__colsample_bytree=0.3, regressor__max_depth=None, regressor__n_estimators=35 \n",
      "[CV]  regressor__colsample_bytree=0.3, regressor__max_depth=None, regressor__n_estimators=35, score=0.927, total=   0.9s\n",
      "[CV] regressor__colsample_bytree=0.3, regressor__max_depth=None, regressor__n_estimators=35 \n",
      "[CV]  regressor__colsample_bytree=0.3, regressor__max_depth=None, regressor__n_estimators=35, score=0.934, total=   0.9s\n",
      "[CV] regressor__colsample_bytree=0.3, regressor__max_depth=None, regressor__n_estimators=35 \n",
      "[CV]  regressor__colsample_bytree=0.3, regressor__max_depth=None, regressor__n_estimators=35, score=0.933, total=   0.9s\n",
      "[CV] regressor__colsample_bytree=0.3, regressor__max_depth=None, regressor__n_estimators=35 \n",
      "[CV]  regressor__colsample_bytree=0.3, regressor__max_depth=None, regressor__n_estimators=35, score=0.930, total=   0.9s\n",
      "[CV] regressor__colsample_bytree=0.3, regressor__max_depth=None, regressor__n_estimators=40 \n",
      "[CV]  regressor__colsample_bytree=0.3, regressor__max_depth=None, regressor__n_estimators=40, score=0.930, total=   0.9s\n",
      "[CV] regressor__colsample_bytree=0.3, regressor__max_depth=None, regressor__n_estimators=40 \n",
      "[CV]  regressor__colsample_bytree=0.3, regressor__max_depth=None, regressor__n_estimators=40, score=0.936, total=   0.9s\n",
      "[CV] regressor__colsample_bytree=0.3, regressor__max_depth=None, regressor__n_estimators=40 \n",
      "[CV]  regressor__colsample_bytree=0.3, regressor__max_depth=None, regressor__n_estimators=40, score=0.935, total=   0.9s\n",
      "[CV] regressor__colsample_bytree=0.3, regressor__max_depth=None, regressor__n_estimators=40 \n",
      "[CV]  regressor__colsample_bytree=0.3, regressor__max_depth=None, regressor__n_estimators=40, score=0.932, total=   0.9s\n",
      "[CV] regressor__colsample_bytree=0.7, regressor__max_depth=2, regressor__n_estimators=20 \n",
      "[CV]  regressor__colsample_bytree=0.7, regressor__max_depth=2, regressor__n_estimators=20, score=0.816, total=   0.6s\n",
      "[CV] regressor__colsample_bytree=0.7, regressor__max_depth=2, regressor__n_estimators=20 \n",
      "[CV]  regressor__colsample_bytree=0.7, regressor__max_depth=2, regressor__n_estimators=20, score=0.825, total=   0.6s\n",
      "[CV] regressor__colsample_bytree=0.7, regressor__max_depth=2, regressor__n_estimators=20 \n",
      "[CV]  regressor__colsample_bytree=0.7, regressor__max_depth=2, regressor__n_estimators=20, score=0.827, total=   0.6s\n",
      "[CV] regressor__colsample_bytree=0.7, regressor__max_depth=2, regressor__n_estimators=20 \n",
      "[CV]  regressor__colsample_bytree=0.7, regressor__max_depth=2, regressor__n_estimators=20, score=0.815, total=   0.6s\n",
      "[CV] regressor__colsample_bytree=0.7, regressor__max_depth=2, regressor__n_estimators=25 \n",
      "[CV]  regressor__colsample_bytree=0.7, regressor__max_depth=2, regressor__n_estimators=25, score=0.827, total=   0.7s\n",
      "[CV] regressor__colsample_bytree=0.7, regressor__max_depth=2, regressor__n_estimators=25 \n",
      "[CV]  regressor__colsample_bytree=0.7, regressor__max_depth=2, regressor__n_estimators=25, score=0.838, total=   0.7s\n",
      "[CV] regressor__colsample_bytree=0.7, regressor__max_depth=2, regressor__n_estimators=25 \n",
      "[CV]  regressor__colsample_bytree=0.7, regressor__max_depth=2, regressor__n_estimators=25, score=0.839, total=   0.7s\n",
      "[CV] regressor__colsample_bytree=0.7, regressor__max_depth=2, regressor__n_estimators=25 \n",
      "[CV]  regressor__colsample_bytree=0.7, regressor__max_depth=2, regressor__n_estimators=25, score=0.828, total=   0.7s\n",
      "[CV] regressor__colsample_bytree=0.7, regressor__max_depth=2, regressor__n_estimators=30 \n",
      "[CV]  regressor__colsample_bytree=0.7, regressor__max_depth=2, regressor__n_estimators=30, score=0.835, total=   0.7s\n",
      "[CV] regressor__colsample_bytree=0.7, regressor__max_depth=2, regressor__n_estimators=30 \n",
      "[CV]  regressor__colsample_bytree=0.7, regressor__max_depth=2, regressor__n_estimators=30, score=0.850, total=   0.7s\n",
      "[CV] regressor__colsample_bytree=0.7, regressor__max_depth=2, regressor__n_estimators=30 \n",
      "[CV]  regressor__colsample_bytree=0.7, regressor__max_depth=2, regressor__n_estimators=30, score=0.846, total=   0.7s\n",
      "[CV] regressor__colsample_bytree=0.7, regressor__max_depth=2, regressor__n_estimators=30 \n",
      "[CV]  regressor__colsample_bytree=0.7, regressor__max_depth=2, regressor__n_estimators=30, score=0.838, total=   0.7s\n",
      "[CV] regressor__colsample_bytree=0.7, regressor__max_depth=2, regressor__n_estimators=35 \n",
      "[CV]  regressor__colsample_bytree=0.7, regressor__max_depth=2, regressor__n_estimators=35, score=0.841, total=   0.7s\n",
      "[CV] regressor__colsample_bytree=0.7, regressor__max_depth=2, regressor__n_estimators=35 \n",
      "[CV]  regressor__colsample_bytree=0.7, regressor__max_depth=2, regressor__n_estimators=35, score=0.856, total=   0.7s\n",
      "[CV] regressor__colsample_bytree=0.7, regressor__max_depth=2, regressor__n_estimators=35 \n",
      "[CV]  regressor__colsample_bytree=0.7, regressor__max_depth=2, regressor__n_estimators=35, score=0.853, total=   0.7s\n",
      "[CV] regressor__colsample_bytree=0.7, regressor__max_depth=2, regressor__n_estimators=35 \n",
      "[CV]  regressor__colsample_bytree=0.7, regressor__max_depth=2, regressor__n_estimators=35, score=0.846, total=   0.7s\n",
      "[CV] regressor__colsample_bytree=0.7, regressor__max_depth=2, regressor__n_estimators=40 \n",
      "[CV]  regressor__colsample_bytree=0.7, regressor__max_depth=2, regressor__n_estimators=40, score=0.849, total=   0.8s\n",
      "[CV] regressor__colsample_bytree=0.7, regressor__max_depth=2, regressor__n_estimators=40 \n",
      "[CV]  regressor__colsample_bytree=0.7, regressor__max_depth=2, regressor__n_estimators=40, score=0.861, total=   0.8s\n",
      "[CV] regressor__colsample_bytree=0.7, regressor__max_depth=2, regressor__n_estimators=40 \n",
      "[CV]  regressor__colsample_bytree=0.7, regressor__max_depth=2, regressor__n_estimators=40, score=0.859, total=   0.8s\n",
      "[CV] regressor__colsample_bytree=0.7, regressor__max_depth=2, regressor__n_estimators=40 \n",
      "[CV]  regressor__colsample_bytree=0.7, regressor__max_depth=2, regressor__n_estimators=40, score=0.857, total=   0.8s\n",
      "[CV] regressor__colsample_bytree=0.7, regressor__max_depth=3, regressor__n_estimators=20 \n"
     ]
    },
    {
     "name": "stdout",
     "output_type": "stream",
     "text": [
      "[CV]  regressor__colsample_bytree=0.7, regressor__max_depth=3, regressor__n_estimators=20, score=0.854, total=   0.7s\n",
      "[CV] regressor__colsample_bytree=0.7, regressor__max_depth=3, regressor__n_estimators=20 \n",
      "[CV]  regressor__colsample_bytree=0.7, regressor__max_depth=3, regressor__n_estimators=20, score=0.869, total=   0.7s\n",
      "[CV] regressor__colsample_bytree=0.7, regressor__max_depth=3, regressor__n_estimators=20 \n",
      "[CV]  regressor__colsample_bytree=0.7, regressor__max_depth=3, regressor__n_estimators=20, score=0.865, total=   0.7s\n",
      "[CV] regressor__colsample_bytree=0.7, regressor__max_depth=3, regressor__n_estimators=20 \n",
      "[CV]  regressor__colsample_bytree=0.7, regressor__max_depth=3, regressor__n_estimators=20, score=0.859, total=   0.7s\n",
      "[CV] regressor__colsample_bytree=0.7, regressor__max_depth=3, regressor__n_estimators=25 \n",
      "[CV]  regressor__colsample_bytree=0.7, regressor__max_depth=3, regressor__n_estimators=25, score=0.864, total=   0.7s\n",
      "[CV] regressor__colsample_bytree=0.7, regressor__max_depth=3, regressor__n_estimators=25 \n",
      "[CV]  regressor__colsample_bytree=0.7, regressor__max_depth=3, regressor__n_estimators=25, score=0.879, total=   0.7s\n",
      "[CV] regressor__colsample_bytree=0.7, regressor__max_depth=3, regressor__n_estimators=25 \n",
      "[CV]  regressor__colsample_bytree=0.7, regressor__max_depth=3, regressor__n_estimators=25, score=0.874, total=   0.7s\n",
      "[CV] regressor__colsample_bytree=0.7, regressor__max_depth=3, regressor__n_estimators=25 \n",
      "[CV]  regressor__colsample_bytree=0.7, regressor__max_depth=3, regressor__n_estimators=25, score=0.870, total=   0.7s\n",
      "[CV] regressor__colsample_bytree=0.7, regressor__max_depth=3, regressor__n_estimators=30 \n",
      "[CV]  regressor__colsample_bytree=0.7, regressor__max_depth=3, regressor__n_estimators=30, score=0.871, total=   0.8s\n",
      "[CV] regressor__colsample_bytree=0.7, regressor__max_depth=3, regressor__n_estimators=30 \n",
      "[CV]  regressor__colsample_bytree=0.7, regressor__max_depth=3, regressor__n_estimators=30, score=0.886, total=   0.8s\n",
      "[CV] regressor__colsample_bytree=0.7, regressor__max_depth=3, regressor__n_estimators=30 \n",
      "[CV]  regressor__colsample_bytree=0.7, regressor__max_depth=3, regressor__n_estimators=30, score=0.880, total=   0.8s\n",
      "[CV] regressor__colsample_bytree=0.7, regressor__max_depth=3, regressor__n_estimators=30 \n",
      "[CV]  regressor__colsample_bytree=0.7, regressor__max_depth=3, regressor__n_estimators=30, score=0.879, total=   0.8s\n",
      "[CV] regressor__colsample_bytree=0.7, regressor__max_depth=3, regressor__n_estimators=35 \n",
      "[CV]  regressor__colsample_bytree=0.7, regressor__max_depth=3, regressor__n_estimators=35, score=0.878, total=   0.8s\n",
      "[CV] regressor__colsample_bytree=0.7, regressor__max_depth=3, regressor__n_estimators=35 \n",
      "[CV]  regressor__colsample_bytree=0.7, regressor__max_depth=3, regressor__n_estimators=35, score=0.890, total=   0.8s\n",
      "[CV] regressor__colsample_bytree=0.7, regressor__max_depth=3, regressor__n_estimators=35 \n",
      "[CV]  regressor__colsample_bytree=0.7, regressor__max_depth=3, regressor__n_estimators=35, score=0.887, total=   0.8s\n",
      "[CV] regressor__colsample_bytree=0.7, regressor__max_depth=3, regressor__n_estimators=35 \n",
      "[CV]  regressor__colsample_bytree=0.7, regressor__max_depth=3, regressor__n_estimators=35, score=0.884, total=   0.8s\n",
      "[CV] regressor__colsample_bytree=0.7, regressor__max_depth=3, regressor__n_estimators=40 \n",
      "[CV]  regressor__colsample_bytree=0.7, regressor__max_depth=3, regressor__n_estimators=40, score=0.884, total=   0.9s\n",
      "[CV] regressor__colsample_bytree=0.7, regressor__max_depth=3, regressor__n_estimators=40 \n",
      "[CV]  regressor__colsample_bytree=0.7, regressor__max_depth=3, regressor__n_estimators=40, score=0.897, total=   0.9s\n",
      "[CV] regressor__colsample_bytree=0.7, regressor__max_depth=3, regressor__n_estimators=40 \n",
      "[CV]  regressor__colsample_bytree=0.7, regressor__max_depth=3, regressor__n_estimators=40, score=0.891, total=   0.9s\n",
      "[CV] regressor__colsample_bytree=0.7, regressor__max_depth=3, regressor__n_estimators=40 \n",
      "[CV]  regressor__colsample_bytree=0.7, regressor__max_depth=3, regressor__n_estimators=40, score=0.889, total=   0.9s\n",
      "[CV] regressor__colsample_bytree=0.7, regressor__max_depth=5, regressor__n_estimators=20 \n",
      "[CV]  regressor__colsample_bytree=0.7, regressor__max_depth=5, regressor__n_estimators=20, score=0.904, total=   0.8s\n",
      "[CV] regressor__colsample_bytree=0.7, regressor__max_depth=5, regressor__n_estimators=20 \n",
      "[CV]  regressor__colsample_bytree=0.7, regressor__max_depth=5, regressor__n_estimators=20, score=0.917, total=   0.8s\n",
      "[CV] regressor__colsample_bytree=0.7, regressor__max_depth=5, regressor__n_estimators=20 \n",
      "[CV]  regressor__colsample_bytree=0.7, regressor__max_depth=5, regressor__n_estimators=20, score=0.913, total=   0.8s\n",
      "[CV] regressor__colsample_bytree=0.7, regressor__max_depth=5, regressor__n_estimators=20 \n",
      "[CV]  regressor__colsample_bytree=0.7, regressor__max_depth=5, regressor__n_estimators=20, score=0.909, total=   0.8s\n",
      "[CV] regressor__colsample_bytree=0.7, regressor__max_depth=5, regressor__n_estimators=25 \n",
      "[CV]  regressor__colsample_bytree=0.7, regressor__max_depth=5, regressor__n_estimators=25, score=0.911, total=   0.9s\n",
      "[CV] regressor__colsample_bytree=0.7, regressor__max_depth=5, regressor__n_estimators=25 \n",
      "[CV]  regressor__colsample_bytree=0.7, regressor__max_depth=5, regressor__n_estimators=25, score=0.922, total=   0.8s\n",
      "[CV] regressor__colsample_bytree=0.7, regressor__max_depth=5, regressor__n_estimators=25 \n",
      "[CV]  regressor__colsample_bytree=0.7, regressor__max_depth=5, regressor__n_estimators=25, score=0.918, total=   0.9s\n",
      "[CV] regressor__colsample_bytree=0.7, regressor__max_depth=5, regressor__n_estimators=25 \n",
      "[CV]  regressor__colsample_bytree=0.7, regressor__max_depth=5, regressor__n_estimators=25, score=0.916, total=   0.9s\n",
      "[CV] regressor__colsample_bytree=0.7, regressor__max_depth=5, regressor__n_estimators=30 \n",
      "[CV]  regressor__colsample_bytree=0.7, regressor__max_depth=5, regressor__n_estimators=30, score=0.915, total=   1.0s\n",
      "[CV] regressor__colsample_bytree=0.7, regressor__max_depth=5, regressor__n_estimators=30 \n",
      "[CV]  regressor__colsample_bytree=0.7, regressor__max_depth=5, regressor__n_estimators=30, score=0.926, total=   1.0s\n",
      "[CV] regressor__colsample_bytree=0.7, regressor__max_depth=5, regressor__n_estimators=30 \n",
      "[CV]  regressor__colsample_bytree=0.7, regressor__max_depth=5, regressor__n_estimators=30, score=0.922, total=   1.0s\n",
      "[CV] regressor__colsample_bytree=0.7, regressor__max_depth=5, regressor__n_estimators=30 \n",
      "[CV]  regressor__colsample_bytree=0.7, regressor__max_depth=5, regressor__n_estimators=30, score=0.920, total=   1.0s\n",
      "[CV] regressor__colsample_bytree=0.7, regressor__max_depth=5, regressor__n_estimators=35 \n",
      "[CV]  regressor__colsample_bytree=0.7, regressor__max_depth=5, regressor__n_estimators=35, score=0.919, total=   1.1s\n",
      "[CV] regressor__colsample_bytree=0.7, regressor__max_depth=5, regressor__n_estimators=35 \n",
      "[CV]  regressor__colsample_bytree=0.7, regressor__max_depth=5, regressor__n_estimators=35, score=0.930, total=   1.0s\n",
      "[CV] regressor__colsample_bytree=0.7, regressor__max_depth=5, regressor__n_estimators=35 \n",
      "[CV]  regressor__colsample_bytree=0.7, regressor__max_depth=5, regressor__n_estimators=35, score=0.927, total=   1.0s\n",
      "[CV] regressor__colsample_bytree=0.7, regressor__max_depth=5, regressor__n_estimators=35 \n",
      "[CV]  regressor__colsample_bytree=0.7, regressor__max_depth=5, regressor__n_estimators=35, score=0.924, total=   1.0s\n",
      "[CV] regressor__colsample_bytree=0.7, regressor__max_depth=5, regressor__n_estimators=40 \n",
      "[CV]  regressor__colsample_bytree=0.7, regressor__max_depth=5, regressor__n_estimators=40, score=0.923, total=   1.1s\n",
      "[CV] regressor__colsample_bytree=0.7, regressor__max_depth=5, regressor__n_estimators=40 \n",
      "[CV]  regressor__colsample_bytree=0.7, regressor__max_depth=5, regressor__n_estimators=40, score=0.933, total=   1.1s\n",
      "[CV] regressor__colsample_bytree=0.7, regressor__max_depth=5, regressor__n_estimators=40 \n",
      "[CV]  regressor__colsample_bytree=0.7, regressor__max_depth=5, regressor__n_estimators=40, score=0.929, total=   1.1s\n",
      "[CV] regressor__colsample_bytree=0.7, regressor__max_depth=5, regressor__n_estimators=40 \n",
      "[CV]  regressor__colsample_bytree=0.7, regressor__max_depth=5, regressor__n_estimators=40, score=0.926, total=   1.1s\n",
      "[CV] regressor__colsample_bytree=0.7, regressor__max_depth=7, regressor__n_estimators=20 \n"
     ]
    },
    {
     "name": "stdout",
     "output_type": "stream",
     "text": [
      "[CV]  regressor__colsample_bytree=0.7, regressor__max_depth=7, regressor__n_estimators=20, score=0.930, total=   0.9s\n",
      "[CV] regressor__colsample_bytree=0.7, regressor__max_depth=7, regressor__n_estimators=20 \n",
      "[CV]  regressor__colsample_bytree=0.7, regressor__max_depth=7, regressor__n_estimators=20, score=0.938, total=   0.9s\n",
      "[CV] regressor__colsample_bytree=0.7, regressor__max_depth=7, regressor__n_estimators=20 \n",
      "[CV]  regressor__colsample_bytree=0.7, regressor__max_depth=7, regressor__n_estimators=20, score=0.936, total=   0.9s\n",
      "[CV] regressor__colsample_bytree=0.7, regressor__max_depth=7, regressor__n_estimators=20 \n",
      "[CV]  regressor__colsample_bytree=0.7, regressor__max_depth=7, regressor__n_estimators=20, score=0.932, total=   0.9s\n",
      "[CV] regressor__colsample_bytree=0.7, regressor__max_depth=7, regressor__n_estimators=25 \n",
      "[CV]  regressor__colsample_bytree=0.7, regressor__max_depth=7, regressor__n_estimators=25, score=0.933, total=   1.0s\n",
      "[CV] regressor__colsample_bytree=0.7, regressor__max_depth=7, regressor__n_estimators=25 \n",
      "[CV]  regressor__colsample_bytree=0.7, regressor__max_depth=7, regressor__n_estimators=25, score=0.941, total=   1.0s\n",
      "[CV] regressor__colsample_bytree=0.7, regressor__max_depth=7, regressor__n_estimators=25 \n",
      "[CV]  regressor__colsample_bytree=0.7, regressor__max_depth=7, regressor__n_estimators=25, score=0.939, total=   1.0s\n",
      "[CV] regressor__colsample_bytree=0.7, regressor__max_depth=7, regressor__n_estimators=25 \n",
      "[CV]  regressor__colsample_bytree=0.7, regressor__max_depth=7, regressor__n_estimators=25, score=0.936, total=   1.0s\n",
      "[CV] regressor__colsample_bytree=0.7, regressor__max_depth=7, regressor__n_estimators=30 \n",
      "[CV]  regressor__colsample_bytree=0.7, regressor__max_depth=7, regressor__n_estimators=30, score=0.936, total=   1.1s\n",
      "[CV] regressor__colsample_bytree=0.7, regressor__max_depth=7, regressor__n_estimators=30 \n",
      "[CV]  regressor__colsample_bytree=0.7, regressor__max_depth=7, regressor__n_estimators=30, score=0.943, total=   1.1s\n",
      "[CV] regressor__colsample_bytree=0.7, regressor__max_depth=7, regressor__n_estimators=30 \n",
      "[CV]  regressor__colsample_bytree=0.7, regressor__max_depth=7, regressor__n_estimators=30, score=0.941, total=   1.1s\n",
      "[CV] regressor__colsample_bytree=0.7, regressor__max_depth=7, regressor__n_estimators=30 \n",
      "[CV]  regressor__colsample_bytree=0.7, regressor__max_depth=7, regressor__n_estimators=30, score=0.939, total=   1.1s\n",
      "[CV] regressor__colsample_bytree=0.7, regressor__max_depth=7, regressor__n_estimators=35 \n",
      "[CV]  regressor__colsample_bytree=0.7, regressor__max_depth=7, regressor__n_estimators=35, score=0.939, total=   1.2s\n",
      "[CV] regressor__colsample_bytree=0.7, regressor__max_depth=7, regressor__n_estimators=35 \n",
      "[CV]  regressor__colsample_bytree=0.7, regressor__max_depth=7, regressor__n_estimators=35, score=0.946, total=   1.2s\n",
      "[CV] regressor__colsample_bytree=0.7, regressor__max_depth=7, regressor__n_estimators=35 \n",
      "[CV]  regressor__colsample_bytree=0.7, regressor__max_depth=7, regressor__n_estimators=35, score=0.944, total=   1.2s\n",
      "[CV] regressor__colsample_bytree=0.7, regressor__max_depth=7, regressor__n_estimators=35 \n",
      "[CV]  regressor__colsample_bytree=0.7, regressor__max_depth=7, regressor__n_estimators=35, score=0.941, total=   1.2s\n",
      "[CV] regressor__colsample_bytree=0.7, regressor__max_depth=7, regressor__n_estimators=40 \n",
      "[CV]  regressor__colsample_bytree=0.7, regressor__max_depth=7, regressor__n_estimators=40, score=0.941, total=   1.3s\n",
      "[CV] regressor__colsample_bytree=0.7, regressor__max_depth=7, regressor__n_estimators=40 \n",
      "[CV]  regressor__colsample_bytree=0.7, regressor__max_depth=7, regressor__n_estimators=40, score=0.947, total=   1.3s\n",
      "[CV] regressor__colsample_bytree=0.7, regressor__max_depth=7, regressor__n_estimators=40 \n",
      "[CV]  regressor__colsample_bytree=0.7, regressor__max_depth=7, regressor__n_estimators=40, score=0.946, total=   1.3s\n",
      "[CV] regressor__colsample_bytree=0.7, regressor__max_depth=7, regressor__n_estimators=40 \n",
      "[CV]  regressor__colsample_bytree=0.7, regressor__max_depth=7, regressor__n_estimators=40, score=0.942, total=   1.3s\n",
      "[CV] regressor__colsample_bytree=0.7, regressor__max_depth=9, regressor__n_estimators=20 \n",
      "[CV]  regressor__colsample_bytree=0.7, regressor__max_depth=9, regressor__n_estimators=20, score=0.944, total=   1.0s\n",
      "[CV] regressor__colsample_bytree=0.7, regressor__max_depth=9, regressor__n_estimators=20 \n",
      "[CV]  regressor__colsample_bytree=0.7, regressor__max_depth=9, regressor__n_estimators=20, score=0.948, total=   1.0s\n",
      "[CV] regressor__colsample_bytree=0.7, regressor__max_depth=9, regressor__n_estimators=20 \n",
      "[CV]  regressor__colsample_bytree=0.7, regressor__max_depth=9, regressor__n_estimators=20, score=0.949, total=   1.0s\n",
      "[CV] regressor__colsample_bytree=0.7, regressor__max_depth=9, regressor__n_estimators=20 \n",
      "[CV]  regressor__colsample_bytree=0.7, regressor__max_depth=9, regressor__n_estimators=20, score=0.945, total=   1.0s\n",
      "[CV] regressor__colsample_bytree=0.7, regressor__max_depth=9, regressor__n_estimators=25 \n",
      "[CV]  regressor__colsample_bytree=0.7, regressor__max_depth=9, regressor__n_estimators=25, score=0.947, total=   1.1s\n",
      "[CV] regressor__colsample_bytree=0.7, regressor__max_depth=9, regressor__n_estimators=25 \n",
      "[CV]  regressor__colsample_bytree=0.7, regressor__max_depth=9, regressor__n_estimators=25, score=0.950, total=   1.1s\n",
      "[CV] regressor__colsample_bytree=0.7, regressor__max_depth=9, regressor__n_estimators=25 \n",
      "[CV]  regressor__colsample_bytree=0.7, regressor__max_depth=9, regressor__n_estimators=25, score=0.951, total=   1.1s\n",
      "[CV] regressor__colsample_bytree=0.7, regressor__max_depth=9, regressor__n_estimators=25 \n",
      "[CV]  regressor__colsample_bytree=0.7, regressor__max_depth=9, regressor__n_estimators=25, score=0.948, total=   1.1s\n",
      "[CV] regressor__colsample_bytree=0.7, regressor__max_depth=9, regressor__n_estimators=30 \n",
      "[CV]  regressor__colsample_bytree=0.7, regressor__max_depth=9, regressor__n_estimators=30, score=0.948, total=   1.2s\n",
      "[CV] regressor__colsample_bytree=0.7, regressor__max_depth=9, regressor__n_estimators=30 \n",
      "[CV]  regressor__colsample_bytree=0.7, regressor__max_depth=9, regressor__n_estimators=30, score=0.952, total=   1.2s\n",
      "[CV] regressor__colsample_bytree=0.7, regressor__max_depth=9, regressor__n_estimators=30 \n",
      "[CV]  regressor__colsample_bytree=0.7, regressor__max_depth=9, regressor__n_estimators=30, score=0.952, total=   1.2s\n",
      "[CV] regressor__colsample_bytree=0.7, regressor__max_depth=9, regressor__n_estimators=30 \n",
      "[CV]  regressor__colsample_bytree=0.7, regressor__max_depth=9, regressor__n_estimators=30, score=0.949, total=   1.2s\n",
      "[CV] regressor__colsample_bytree=0.7, regressor__max_depth=9, regressor__n_estimators=35 \n",
      "[CV]  regressor__colsample_bytree=0.7, regressor__max_depth=9, regressor__n_estimators=35, score=0.949, total=   1.4s\n",
      "[CV] regressor__colsample_bytree=0.7, regressor__max_depth=9, regressor__n_estimators=35 \n",
      "[CV]  regressor__colsample_bytree=0.7, regressor__max_depth=9, regressor__n_estimators=35, score=0.953, total=   1.4s\n",
      "[CV] regressor__colsample_bytree=0.7, regressor__max_depth=9, regressor__n_estimators=35 \n",
      "[CV]  regressor__colsample_bytree=0.7, regressor__max_depth=9, regressor__n_estimators=35, score=0.954, total=   1.4s\n",
      "[CV] regressor__colsample_bytree=0.7, regressor__max_depth=9, regressor__n_estimators=35 \n",
      "[CV]  regressor__colsample_bytree=0.7, regressor__max_depth=9, regressor__n_estimators=35, score=0.951, total=   1.4s\n",
      "[CV] regressor__colsample_bytree=0.7, regressor__max_depth=9, regressor__n_estimators=40 \n",
      "[CV]  regressor__colsample_bytree=0.7, regressor__max_depth=9, regressor__n_estimators=40, score=0.950, total=   1.5s\n",
      "[CV] regressor__colsample_bytree=0.7, regressor__max_depth=9, regressor__n_estimators=40 \n",
      "[CV]  regressor__colsample_bytree=0.7, regressor__max_depth=9, regressor__n_estimators=40, score=0.954, total=   1.5s\n",
      "[CV] regressor__colsample_bytree=0.7, regressor__max_depth=9, regressor__n_estimators=40 \n",
      "[CV]  regressor__colsample_bytree=0.7, regressor__max_depth=9, regressor__n_estimators=40, score=0.955, total=   1.5s\n",
      "[CV] regressor__colsample_bytree=0.7, regressor__max_depth=9, regressor__n_estimators=40 \n",
      "[CV]  regressor__colsample_bytree=0.7, regressor__max_depth=9, regressor__n_estimators=40, score=0.952, total=   1.5s\n",
      "[CV] regressor__colsample_bytree=0.7, regressor__max_depth=10, regressor__n_estimators=20 \n"
     ]
    },
    {
     "name": "stdout",
     "output_type": "stream",
     "text": [
      "[CV]  regressor__colsample_bytree=0.7, regressor__max_depth=10, regressor__n_estimators=20, score=0.948, total=   1.1s\n",
      "[CV] regressor__colsample_bytree=0.7, regressor__max_depth=10, regressor__n_estimators=20 \n",
      "[CV]  regressor__colsample_bytree=0.7, regressor__max_depth=10, regressor__n_estimators=20, score=0.952, total=   1.1s\n",
      "[CV] regressor__colsample_bytree=0.7, regressor__max_depth=10, regressor__n_estimators=20 \n",
      "[CV]  regressor__colsample_bytree=0.7, regressor__max_depth=10, regressor__n_estimators=20, score=0.954, total=   1.1s\n",
      "[CV] regressor__colsample_bytree=0.7, regressor__max_depth=10, regressor__n_estimators=20 \n",
      "[CV]  regressor__colsample_bytree=0.7, regressor__max_depth=10, regressor__n_estimators=20, score=0.951, total=   1.1s\n",
      "[CV] regressor__colsample_bytree=0.7, regressor__max_depth=10, regressor__n_estimators=25 \n",
      "[CV]  regressor__colsample_bytree=0.7, regressor__max_depth=10, regressor__n_estimators=25, score=0.949, total=   1.2s\n",
      "[CV] regressor__colsample_bytree=0.7, regressor__max_depth=10, regressor__n_estimators=25 \n",
      "[CV]  regressor__colsample_bytree=0.7, regressor__max_depth=10, regressor__n_estimators=25, score=0.953, total=   1.2s\n",
      "[CV] regressor__colsample_bytree=0.7, regressor__max_depth=10, regressor__n_estimators=25 \n",
      "[CV]  regressor__colsample_bytree=0.7, regressor__max_depth=10, regressor__n_estimators=25, score=0.955, total=   1.2s\n",
      "[CV] regressor__colsample_bytree=0.7, regressor__max_depth=10, regressor__n_estimators=25 \n",
      "[CV]  regressor__colsample_bytree=0.7, regressor__max_depth=10, regressor__n_estimators=25, score=0.952, total=   1.2s\n",
      "[CV] regressor__colsample_bytree=0.7, regressor__max_depth=10, regressor__n_estimators=30 \n",
      "[CV]  regressor__colsample_bytree=0.7, regressor__max_depth=10, regressor__n_estimators=30, score=0.951, total=   1.3s\n",
      "[CV] regressor__colsample_bytree=0.7, regressor__max_depth=10, regressor__n_estimators=30 \n",
      "[CV]  regressor__colsample_bytree=0.7, regressor__max_depth=10, regressor__n_estimators=30, score=0.954, total=   1.3s\n",
      "[CV] regressor__colsample_bytree=0.7, regressor__max_depth=10, regressor__n_estimators=30 \n",
      "[CV]  regressor__colsample_bytree=0.7, regressor__max_depth=10, regressor__n_estimators=30, score=0.957, total=   1.3s\n",
      "[CV] regressor__colsample_bytree=0.7, regressor__max_depth=10, regressor__n_estimators=30 \n",
      "[CV]  regressor__colsample_bytree=0.7, regressor__max_depth=10, regressor__n_estimators=30, score=0.954, total=   1.3s\n",
      "[CV] regressor__colsample_bytree=0.7, regressor__max_depth=10, regressor__n_estimators=35 \n",
      "[CV]  regressor__colsample_bytree=0.7, regressor__max_depth=10, regressor__n_estimators=35, score=0.952, total=   1.5s\n",
      "[CV] regressor__colsample_bytree=0.7, regressor__max_depth=10, regressor__n_estimators=35 \n",
      "[CV]  regressor__colsample_bytree=0.7, regressor__max_depth=10, regressor__n_estimators=35, score=0.955, total=   1.5s\n",
      "[CV] regressor__colsample_bytree=0.7, regressor__max_depth=10, regressor__n_estimators=35 \n",
      "[CV]  regressor__colsample_bytree=0.7, regressor__max_depth=10, regressor__n_estimators=35, score=0.958, total=   1.5s\n",
      "[CV] regressor__colsample_bytree=0.7, regressor__max_depth=10, regressor__n_estimators=35 \n",
      "[CV]  regressor__colsample_bytree=0.7, regressor__max_depth=10, regressor__n_estimators=35, score=0.956, total=   1.5s\n",
      "[CV] regressor__colsample_bytree=0.7, regressor__max_depth=10, regressor__n_estimators=40 \n",
      "[CV]  regressor__colsample_bytree=0.7, regressor__max_depth=10, regressor__n_estimators=40, score=0.953, total=   1.6s\n",
      "[CV] regressor__colsample_bytree=0.7, regressor__max_depth=10, regressor__n_estimators=40 \n",
      "[CV]  regressor__colsample_bytree=0.7, regressor__max_depth=10, regressor__n_estimators=40, score=0.955, total=   1.6s\n",
      "[CV] regressor__colsample_bytree=0.7, regressor__max_depth=10, regressor__n_estimators=40 \n",
      "[CV]  regressor__colsample_bytree=0.7, regressor__max_depth=10, regressor__n_estimators=40, score=0.959, total=   1.6s\n",
      "[CV] regressor__colsample_bytree=0.7, regressor__max_depth=10, regressor__n_estimators=40 \n",
      "[CV]  regressor__colsample_bytree=0.7, regressor__max_depth=10, regressor__n_estimators=40, score=0.957, total=   1.6s\n",
      "[CV] regressor__colsample_bytree=0.7, regressor__max_depth=12, regressor__n_estimators=20 \n",
      "[CV]  regressor__colsample_bytree=0.7, regressor__max_depth=12, regressor__n_estimators=20, score=0.952, total=   1.2s\n",
      "[CV] regressor__colsample_bytree=0.7, regressor__max_depth=12, regressor__n_estimators=20 \n",
      "[CV]  regressor__colsample_bytree=0.7, regressor__max_depth=12, regressor__n_estimators=20, score=0.956, total=   1.2s\n",
      "[CV] regressor__colsample_bytree=0.7, regressor__max_depth=12, regressor__n_estimators=20 \n",
      "[CV]  regressor__colsample_bytree=0.7, regressor__max_depth=12, regressor__n_estimators=20, score=0.959, total=   1.2s\n",
      "[CV] regressor__colsample_bytree=0.7, regressor__max_depth=12, regressor__n_estimators=20 \n",
      "[CV]  regressor__colsample_bytree=0.7, regressor__max_depth=12, regressor__n_estimators=20, score=0.955, total=   1.2s\n",
      "[CV] regressor__colsample_bytree=0.7, regressor__max_depth=12, regressor__n_estimators=25 \n",
      "[CV]  regressor__colsample_bytree=0.7, regressor__max_depth=12, regressor__n_estimators=25, score=0.954, total=   1.3s\n",
      "[CV] regressor__colsample_bytree=0.7, regressor__max_depth=12, regressor__n_estimators=25 \n",
      "[CV]  regressor__colsample_bytree=0.7, regressor__max_depth=12, regressor__n_estimators=25, score=0.957, total=   1.3s\n",
      "[CV] regressor__colsample_bytree=0.7, regressor__max_depth=12, regressor__n_estimators=25 \n",
      "[CV]  regressor__colsample_bytree=0.7, regressor__max_depth=12, regressor__n_estimators=25, score=0.960, total=   1.3s\n",
      "[CV] regressor__colsample_bytree=0.7, regressor__max_depth=12, regressor__n_estimators=25 \n",
      "[CV]  regressor__colsample_bytree=0.7, regressor__max_depth=12, regressor__n_estimators=25, score=0.956, total=   1.3s\n",
      "[CV] regressor__colsample_bytree=0.7, regressor__max_depth=12, regressor__n_estimators=30 \n",
      "[CV]  regressor__colsample_bytree=0.7, regressor__max_depth=12, regressor__n_estimators=30, score=0.954, total=   1.5s\n",
      "[CV] regressor__colsample_bytree=0.7, regressor__max_depth=12, regressor__n_estimators=30 \n",
      "[CV]  regressor__colsample_bytree=0.7, regressor__max_depth=12, regressor__n_estimators=30, score=0.958, total=   1.5s\n",
      "[CV] regressor__colsample_bytree=0.7, regressor__max_depth=12, regressor__n_estimators=30 \n",
      "[CV]  regressor__colsample_bytree=0.7, regressor__max_depth=12, regressor__n_estimators=30, score=0.960, total=   1.5s\n",
      "[CV] regressor__colsample_bytree=0.7, regressor__max_depth=12, regressor__n_estimators=30 \n",
      "[CV]  regressor__colsample_bytree=0.7, regressor__max_depth=12, regressor__n_estimators=30, score=0.957, total=   1.5s\n",
      "[CV] regressor__colsample_bytree=0.7, regressor__max_depth=12, regressor__n_estimators=35 \n",
      "[CV]  regressor__colsample_bytree=0.7, regressor__max_depth=12, regressor__n_estimators=35, score=0.956, total=   1.7s\n",
      "[CV] regressor__colsample_bytree=0.7, regressor__max_depth=12, regressor__n_estimators=35 \n",
      "[CV]  regressor__colsample_bytree=0.7, regressor__max_depth=12, regressor__n_estimators=35, score=0.959, total=   1.7s\n",
      "[CV] regressor__colsample_bytree=0.7, regressor__max_depth=12, regressor__n_estimators=35 \n",
      "[CV]  regressor__colsample_bytree=0.7, regressor__max_depth=12, regressor__n_estimators=35, score=0.961, total=   1.7s\n",
      "[CV] regressor__colsample_bytree=0.7, regressor__max_depth=12, regressor__n_estimators=35 \n",
      "[CV]  regressor__colsample_bytree=0.7, regressor__max_depth=12, regressor__n_estimators=35, score=0.958, total=   1.7s\n",
      "[CV] regressor__colsample_bytree=0.7, regressor__max_depth=12, regressor__n_estimators=40 \n",
      "[CV]  regressor__colsample_bytree=0.7, regressor__max_depth=12, regressor__n_estimators=40, score=0.956, total=   1.8s\n",
      "[CV] regressor__colsample_bytree=0.7, regressor__max_depth=12, regressor__n_estimators=40 \n",
      "[CV]  regressor__colsample_bytree=0.7, regressor__max_depth=12, regressor__n_estimators=40, score=0.960, total=   1.8s\n",
      "[CV] regressor__colsample_bytree=0.7, regressor__max_depth=12, regressor__n_estimators=40 \n",
      "[CV]  regressor__colsample_bytree=0.7, regressor__max_depth=12, regressor__n_estimators=40, score=0.961, total=   1.8s\n",
      "[CV] regressor__colsample_bytree=0.7, regressor__max_depth=12, regressor__n_estimators=40 \n",
      "[CV]  regressor__colsample_bytree=0.7, regressor__max_depth=12, regressor__n_estimators=40, score=0.958, total=   1.8s\n",
      "[CV] regressor__colsample_bytree=0.7, regressor__max_depth=14, regressor__n_estimators=20 \n"
     ]
    },
    {
     "name": "stdout",
     "output_type": "stream",
     "text": [
      "[CV]  regressor__colsample_bytree=0.7, regressor__max_depth=14, regressor__n_estimators=20, score=0.955, total=   1.3s\n",
      "[CV] regressor__colsample_bytree=0.7, regressor__max_depth=14, regressor__n_estimators=20 \n",
      "[CV]  regressor__colsample_bytree=0.7, regressor__max_depth=14, regressor__n_estimators=20, score=0.958, total=   1.3s\n",
      "[CV] regressor__colsample_bytree=0.7, regressor__max_depth=14, regressor__n_estimators=20 \n",
      "[CV]  regressor__colsample_bytree=0.7, regressor__max_depth=14, regressor__n_estimators=20, score=0.962, total=   1.3s\n",
      "[CV] regressor__colsample_bytree=0.7, regressor__max_depth=14, regressor__n_estimators=20 \n",
      "[CV]  regressor__colsample_bytree=0.7, regressor__max_depth=14, regressor__n_estimators=20, score=0.957, total=   1.3s\n",
      "[CV] regressor__colsample_bytree=0.7, regressor__max_depth=14, regressor__n_estimators=25 \n",
      "[CV]  regressor__colsample_bytree=0.7, regressor__max_depth=14, regressor__n_estimators=25, score=0.956, total=   1.5s\n",
      "[CV] regressor__colsample_bytree=0.7, regressor__max_depth=14, regressor__n_estimators=25 \n",
      "[CV]  regressor__colsample_bytree=0.7, regressor__max_depth=14, regressor__n_estimators=25, score=0.958, total=   1.5s\n",
      "[CV] regressor__colsample_bytree=0.7, regressor__max_depth=14, regressor__n_estimators=25 \n",
      "[CV]  regressor__colsample_bytree=0.7, regressor__max_depth=14, regressor__n_estimators=25, score=0.962, total=   1.5s\n",
      "[CV] regressor__colsample_bytree=0.7, regressor__max_depth=14, regressor__n_estimators=25 \n",
      "[CV]  regressor__colsample_bytree=0.7, regressor__max_depth=14, regressor__n_estimators=25, score=0.958, total=   1.5s\n",
      "[CV] regressor__colsample_bytree=0.7, regressor__max_depth=14, regressor__n_estimators=30 \n",
      "[CV]  regressor__colsample_bytree=0.7, regressor__max_depth=14, regressor__n_estimators=30, score=0.957, total=   1.7s\n",
      "[CV] regressor__colsample_bytree=0.7, regressor__max_depth=14, regressor__n_estimators=30 \n",
      "[CV]  regressor__colsample_bytree=0.7, regressor__max_depth=14, regressor__n_estimators=30, score=0.959, total=   1.7s\n",
      "[CV] regressor__colsample_bytree=0.7, regressor__max_depth=14, regressor__n_estimators=30 \n",
      "[CV]  regressor__colsample_bytree=0.7, regressor__max_depth=14, regressor__n_estimators=30, score=0.963, total=   1.7s\n",
      "[CV] regressor__colsample_bytree=0.7, regressor__max_depth=14, regressor__n_estimators=30 \n",
      "[CV]  regressor__colsample_bytree=0.7, regressor__max_depth=14, regressor__n_estimators=30, score=0.958, total=   1.7s\n",
      "[CV] regressor__colsample_bytree=0.7, regressor__max_depth=14, regressor__n_estimators=35 \n",
      "[CV]  regressor__colsample_bytree=0.7, regressor__max_depth=14, regressor__n_estimators=35, score=0.957, total=   1.9s\n",
      "[CV] regressor__colsample_bytree=0.7, regressor__max_depth=14, regressor__n_estimators=35 \n",
      "[CV]  regressor__colsample_bytree=0.7, regressor__max_depth=14, regressor__n_estimators=35, score=0.959, total=   1.9s\n",
      "[CV] regressor__colsample_bytree=0.7, regressor__max_depth=14, regressor__n_estimators=35 \n",
      "[CV]  regressor__colsample_bytree=0.7, regressor__max_depth=14, regressor__n_estimators=35, score=0.963, total=   1.9s\n",
      "[CV] regressor__colsample_bytree=0.7, regressor__max_depth=14, regressor__n_estimators=35 \n",
      "[CV]  regressor__colsample_bytree=0.7, regressor__max_depth=14, regressor__n_estimators=35, score=0.959, total=   1.9s\n",
      "[CV] regressor__colsample_bytree=0.7, regressor__max_depth=14, regressor__n_estimators=40 \n",
      "[CV]  regressor__colsample_bytree=0.7, regressor__max_depth=14, regressor__n_estimators=40, score=0.958, total=   2.1s\n",
      "[CV] regressor__colsample_bytree=0.7, regressor__max_depth=14, regressor__n_estimators=40 \n",
      "[CV]  regressor__colsample_bytree=0.7, regressor__max_depth=14, regressor__n_estimators=40, score=0.959, total=   2.1s\n",
      "[CV] regressor__colsample_bytree=0.7, regressor__max_depth=14, regressor__n_estimators=40 \n",
      "[CV]  regressor__colsample_bytree=0.7, regressor__max_depth=14, regressor__n_estimators=40, score=0.963, total=   2.1s\n",
      "[CV] regressor__colsample_bytree=0.7, regressor__max_depth=14, regressor__n_estimators=40 \n",
      "[CV]  regressor__colsample_bytree=0.7, regressor__max_depth=14, regressor__n_estimators=40, score=0.959, total=   2.1s\n",
      "[CV] regressor__colsample_bytree=0.7, regressor__max_depth=16, regressor__n_estimators=20 \n",
      "[CV]  regressor__colsample_bytree=0.7, regressor__max_depth=16, regressor__n_estimators=20, score=0.958, total=   1.5s\n",
      "[CV] regressor__colsample_bytree=0.7, regressor__max_depth=16, regressor__n_estimators=20 \n",
      "[CV]  regressor__colsample_bytree=0.7, regressor__max_depth=16, regressor__n_estimators=20, score=0.958, total=   1.5s\n",
      "[CV] regressor__colsample_bytree=0.7, regressor__max_depth=16, regressor__n_estimators=20 \n",
      "[CV]  regressor__colsample_bytree=0.7, regressor__max_depth=16, regressor__n_estimators=20, score=0.963, total=   1.4s\n",
      "[CV] regressor__colsample_bytree=0.7, regressor__max_depth=16, regressor__n_estimators=20 \n",
      "[CV]  regressor__colsample_bytree=0.7, regressor__max_depth=16, regressor__n_estimators=20, score=0.959, total=   1.5s\n",
      "[CV] regressor__colsample_bytree=0.7, regressor__max_depth=16, regressor__n_estimators=25 \n",
      "[CV]  regressor__colsample_bytree=0.7, regressor__max_depth=16, regressor__n_estimators=25, score=0.958, total=   1.6s\n",
      "[CV] regressor__colsample_bytree=0.7, regressor__max_depth=16, regressor__n_estimators=25 \n",
      "[CV]  regressor__colsample_bytree=0.7, regressor__max_depth=16, regressor__n_estimators=25, score=0.959, total=   1.6s\n",
      "[CV] regressor__colsample_bytree=0.7, regressor__max_depth=16, regressor__n_estimators=25 \n",
      "[CV]  regressor__colsample_bytree=0.7, regressor__max_depth=16, regressor__n_estimators=25, score=0.964, total=   1.6s\n",
      "[CV] regressor__colsample_bytree=0.7, regressor__max_depth=16, regressor__n_estimators=25 \n",
      "[CV]  regressor__colsample_bytree=0.7, regressor__max_depth=16, regressor__n_estimators=25, score=0.959, total=   1.6s\n",
      "[CV] regressor__colsample_bytree=0.7, regressor__max_depth=16, regressor__n_estimators=30 \n",
      "[CV]  regressor__colsample_bytree=0.7, regressor__max_depth=16, regressor__n_estimators=30, score=0.959, total=   1.9s\n",
      "[CV] regressor__colsample_bytree=0.7, regressor__max_depth=16, regressor__n_estimators=30 \n",
      "[CV]  regressor__colsample_bytree=0.7, regressor__max_depth=16, regressor__n_estimators=30, score=0.959, total=   1.9s\n",
      "[CV] regressor__colsample_bytree=0.7, regressor__max_depth=16, regressor__n_estimators=30 \n",
      "[CV]  regressor__colsample_bytree=0.7, regressor__max_depth=16, regressor__n_estimators=30, score=0.964, total=   1.9s\n",
      "[CV] regressor__colsample_bytree=0.7, regressor__max_depth=16, regressor__n_estimators=30 \n",
      "[CV]  regressor__colsample_bytree=0.7, regressor__max_depth=16, regressor__n_estimators=30, score=0.960, total=   1.9s\n",
      "[CV] regressor__colsample_bytree=0.7, regressor__max_depth=16, regressor__n_estimators=35 \n",
      "[CV]  regressor__colsample_bytree=0.7, regressor__max_depth=16, regressor__n_estimators=35, score=0.959, total=   2.1s\n",
      "[CV] regressor__colsample_bytree=0.7, regressor__max_depth=16, regressor__n_estimators=35 \n",
      "[CV]  regressor__colsample_bytree=0.7, regressor__max_depth=16, regressor__n_estimators=35, score=0.959, total=   2.1s\n",
      "[CV] regressor__colsample_bytree=0.7, regressor__max_depth=16, regressor__n_estimators=35 \n",
      "[CV]  regressor__colsample_bytree=0.7, regressor__max_depth=16, regressor__n_estimators=35, score=0.964, total=   2.1s\n",
      "[CV] regressor__colsample_bytree=0.7, regressor__max_depth=16, regressor__n_estimators=35 \n",
      "[CV]  regressor__colsample_bytree=0.7, regressor__max_depth=16, regressor__n_estimators=35, score=0.960, total=   2.1s\n",
      "[CV] regressor__colsample_bytree=0.7, regressor__max_depth=16, regressor__n_estimators=40 \n",
      "[CV]  regressor__colsample_bytree=0.7, regressor__max_depth=16, regressor__n_estimators=40, score=0.959, total=   2.4s\n",
      "[CV] regressor__colsample_bytree=0.7, regressor__max_depth=16, regressor__n_estimators=40 \n",
      "[CV]  regressor__colsample_bytree=0.7, regressor__max_depth=16, regressor__n_estimators=40, score=0.959, total=   2.4s\n",
      "[CV] regressor__colsample_bytree=0.7, regressor__max_depth=16, regressor__n_estimators=40 \n",
      "[CV]  regressor__colsample_bytree=0.7, regressor__max_depth=16, regressor__n_estimators=40, score=0.964, total=   2.4s\n",
      "[CV] regressor__colsample_bytree=0.7, regressor__max_depth=16, regressor__n_estimators=40 \n",
      "[CV]  regressor__colsample_bytree=0.7, regressor__max_depth=16, regressor__n_estimators=40, score=0.960, total=   2.3s\n",
      "[CV] regressor__colsample_bytree=0.7, regressor__max_depth=18, regressor__n_estimators=20 \n"
     ]
    },
    {
     "name": "stdout",
     "output_type": "stream",
     "text": [
      "[CV]  regressor__colsample_bytree=0.7, regressor__max_depth=18, regressor__n_estimators=20, score=0.958, total=   1.6s\n",
      "[CV] regressor__colsample_bytree=0.7, regressor__max_depth=18, regressor__n_estimators=20 \n",
      "[CV]  regressor__colsample_bytree=0.7, regressor__max_depth=18, regressor__n_estimators=20, score=0.960, total=   1.6s\n",
      "[CV] regressor__colsample_bytree=0.7, regressor__max_depth=18, regressor__n_estimators=20 \n",
      "[CV]  regressor__colsample_bytree=0.7, regressor__max_depth=18, regressor__n_estimators=20, score=0.963, total=   1.6s\n",
      "[CV] regressor__colsample_bytree=0.7, regressor__max_depth=18, regressor__n_estimators=20 \n",
      "[CV]  regressor__colsample_bytree=0.7, regressor__max_depth=18, regressor__n_estimators=20, score=0.959, total=   1.6s\n",
      "[CV] regressor__colsample_bytree=0.7, regressor__max_depth=18, regressor__n_estimators=25 \n",
      "[CV]  regressor__colsample_bytree=0.7, regressor__max_depth=18, regressor__n_estimators=25, score=0.959, total=   1.8s\n",
      "[CV] regressor__colsample_bytree=0.7, regressor__max_depth=18, regressor__n_estimators=25 \n",
      "[CV]  regressor__colsample_bytree=0.7, regressor__max_depth=18, regressor__n_estimators=25, score=0.960, total=   1.8s\n",
      "[CV] regressor__colsample_bytree=0.7, regressor__max_depth=18, regressor__n_estimators=25 \n",
      "[CV]  regressor__colsample_bytree=0.7, regressor__max_depth=18, regressor__n_estimators=25, score=0.964, total=   1.8s\n",
      "[CV] regressor__colsample_bytree=0.7, regressor__max_depth=18, regressor__n_estimators=25 \n",
      "[CV]  regressor__colsample_bytree=0.7, regressor__max_depth=18, regressor__n_estimators=25, score=0.960, total=   1.8s\n",
      "[CV] regressor__colsample_bytree=0.7, regressor__max_depth=18, regressor__n_estimators=30 \n",
      "[CV]  regressor__colsample_bytree=0.7, regressor__max_depth=18, regressor__n_estimators=30, score=0.959, total=   2.1s\n",
      "[CV] regressor__colsample_bytree=0.7, regressor__max_depth=18, regressor__n_estimators=30 \n",
      "[CV]  regressor__colsample_bytree=0.7, regressor__max_depth=18, regressor__n_estimators=30, score=0.961, total=   2.1s\n",
      "[CV] regressor__colsample_bytree=0.7, regressor__max_depth=18, regressor__n_estimators=30 \n",
      "[CV]  regressor__colsample_bytree=0.7, regressor__max_depth=18, regressor__n_estimators=30, score=0.964, total=   2.1s\n",
      "[CV] regressor__colsample_bytree=0.7, regressor__max_depth=18, regressor__n_estimators=30 \n",
      "[CV]  regressor__colsample_bytree=0.7, regressor__max_depth=18, regressor__n_estimators=30, score=0.960, total=   2.1s\n",
      "[CV] regressor__colsample_bytree=0.7, regressor__max_depth=18, regressor__n_estimators=35 \n",
      "[CV]  regressor__colsample_bytree=0.7, regressor__max_depth=18, regressor__n_estimators=35, score=0.959, total=   2.3s\n",
      "[CV] regressor__colsample_bytree=0.7, regressor__max_depth=18, regressor__n_estimators=35 \n",
      "[CV]  regressor__colsample_bytree=0.7, regressor__max_depth=18, regressor__n_estimators=35, score=0.961, total=   2.4s\n",
      "[CV] regressor__colsample_bytree=0.7, regressor__max_depth=18, regressor__n_estimators=35 \n",
      "[CV]  regressor__colsample_bytree=0.7, regressor__max_depth=18, regressor__n_estimators=35, score=0.964, total=   2.4s\n",
      "[CV] regressor__colsample_bytree=0.7, regressor__max_depth=18, regressor__n_estimators=35 \n",
      "[CV]  regressor__colsample_bytree=0.7, regressor__max_depth=18, regressor__n_estimators=35, score=0.960, total=   2.4s\n",
      "[CV] regressor__colsample_bytree=0.7, regressor__max_depth=18, regressor__n_estimators=40 \n",
      "[CV]  regressor__colsample_bytree=0.7, regressor__max_depth=18, regressor__n_estimators=40, score=0.959, total=   2.6s\n",
      "[CV] regressor__colsample_bytree=0.7, regressor__max_depth=18, regressor__n_estimators=40 \n",
      "[CV]  regressor__colsample_bytree=0.7, regressor__max_depth=18, regressor__n_estimators=40, score=0.961, total=   2.6s\n",
      "[CV] regressor__colsample_bytree=0.7, regressor__max_depth=18, regressor__n_estimators=40 \n",
      "[CV]  regressor__colsample_bytree=0.7, regressor__max_depth=18, regressor__n_estimators=40, score=0.964, total=   2.7s\n",
      "[CV] regressor__colsample_bytree=0.7, regressor__max_depth=18, regressor__n_estimators=40 \n",
      "[CV]  regressor__colsample_bytree=0.7, regressor__max_depth=18, regressor__n_estimators=40, score=0.960, total=   2.6s\n",
      "[CV] regressor__colsample_bytree=0.7, regressor__max_depth=None, regressor__n_estimators=20 \n",
      "[CV]  regressor__colsample_bytree=0.7, regressor__max_depth=None, regressor__n_estimators=20, score=0.920, total=   0.8s\n",
      "[CV] regressor__colsample_bytree=0.7, regressor__max_depth=None, regressor__n_estimators=20 \n",
      "[CV]  regressor__colsample_bytree=0.7, regressor__max_depth=None, regressor__n_estimators=20, score=0.926, total=   0.8s\n",
      "[CV] regressor__colsample_bytree=0.7, regressor__max_depth=None, regressor__n_estimators=20 \n",
      "[CV]  regressor__colsample_bytree=0.7, regressor__max_depth=None, regressor__n_estimators=20, score=0.926, total=   0.8s\n",
      "[CV] regressor__colsample_bytree=0.7, regressor__max_depth=None, regressor__n_estimators=20 \n",
      "[CV]  regressor__colsample_bytree=0.7, regressor__max_depth=None, regressor__n_estimators=20, score=0.923, total=   0.8s\n",
      "[CV] regressor__colsample_bytree=0.7, regressor__max_depth=None, regressor__n_estimators=25 \n",
      "[CV]  regressor__colsample_bytree=0.7, regressor__max_depth=None, regressor__n_estimators=25, score=0.926, total=   0.9s\n",
      "[CV] regressor__colsample_bytree=0.7, regressor__max_depth=None, regressor__n_estimators=25 \n",
      "[CV]  regressor__colsample_bytree=0.7, regressor__max_depth=None, regressor__n_estimators=25, score=0.930, total=   0.9s\n",
      "[CV] regressor__colsample_bytree=0.7, regressor__max_depth=None, regressor__n_estimators=25 \n",
      "[CV]  regressor__colsample_bytree=0.7, regressor__max_depth=None, regressor__n_estimators=25, score=0.929, total=   0.9s\n",
      "[CV] regressor__colsample_bytree=0.7, regressor__max_depth=None, regressor__n_estimators=25 \n",
      "[CV]  regressor__colsample_bytree=0.7, regressor__max_depth=None, regressor__n_estimators=25, score=0.927, total=   0.9s\n",
      "[CV] regressor__colsample_bytree=0.7, regressor__max_depth=None, regressor__n_estimators=30 \n",
      "[CV]  regressor__colsample_bytree=0.7, regressor__max_depth=None, regressor__n_estimators=30, score=0.930, total=   1.0s\n",
      "[CV] regressor__colsample_bytree=0.7, regressor__max_depth=None, regressor__n_estimators=30 \n",
      "[CV]  regressor__colsample_bytree=0.7, regressor__max_depth=None, regressor__n_estimators=30, score=0.934, total=   1.0s\n",
      "[CV] regressor__colsample_bytree=0.7, regressor__max_depth=None, regressor__n_estimators=30 \n",
      "[CV]  regressor__colsample_bytree=0.7, regressor__max_depth=None, regressor__n_estimators=30, score=0.933, total=   1.0s\n",
      "[CV] regressor__colsample_bytree=0.7, regressor__max_depth=None, regressor__n_estimators=30 \n",
      "[CV]  regressor__colsample_bytree=0.7, regressor__max_depth=None, regressor__n_estimators=30, score=0.930, total=   1.0s\n",
      "[CV] regressor__colsample_bytree=0.7, regressor__max_depth=None, regressor__n_estimators=35 \n",
      "[CV]  regressor__colsample_bytree=0.7, regressor__max_depth=None, regressor__n_estimators=35, score=0.932, total=   1.1s\n",
      "[CV] regressor__colsample_bytree=0.7, regressor__max_depth=None, regressor__n_estimators=35 \n",
      "[CV]  regressor__colsample_bytree=0.7, regressor__max_depth=None, regressor__n_estimators=35, score=0.937, total=   1.1s\n",
      "[CV] regressor__colsample_bytree=0.7, regressor__max_depth=None, regressor__n_estimators=35 \n",
      "[CV]  regressor__colsample_bytree=0.7, regressor__max_depth=None, regressor__n_estimators=35, score=0.937, total=   1.1s\n",
      "[CV] regressor__colsample_bytree=0.7, regressor__max_depth=None, regressor__n_estimators=35 \n",
      "[CV]  regressor__colsample_bytree=0.7, regressor__max_depth=None, regressor__n_estimators=35, score=0.933, total=   1.2s\n",
      "[CV] regressor__colsample_bytree=0.7, regressor__max_depth=None, regressor__n_estimators=40 \n",
      "[CV]  regressor__colsample_bytree=0.7, regressor__max_depth=None, regressor__n_estimators=40, score=0.935, total=   1.2s\n",
      "[CV] regressor__colsample_bytree=0.7, regressor__max_depth=None, regressor__n_estimators=40 \n",
      "[CV]  regressor__colsample_bytree=0.7, regressor__max_depth=None, regressor__n_estimators=40, score=0.939, total=   1.3s\n",
      "[CV] regressor__colsample_bytree=0.7, regressor__max_depth=None, regressor__n_estimators=40 \n",
      "[CV]  regressor__colsample_bytree=0.7, regressor__max_depth=None, regressor__n_estimators=40, score=0.938, total=   1.3s\n",
      "[CV] regressor__colsample_bytree=0.7, regressor__max_depth=None, regressor__n_estimators=40 \n"
     ]
    },
    {
     "name": "stdout",
     "output_type": "stream",
     "text": [
      "[CV]  regressor__colsample_bytree=0.7, regressor__max_depth=None, regressor__n_estimators=40, score=0.935, total=   1.3s\n"
     ]
    },
    {
     "name": "stderr",
     "output_type": "stream",
     "text": [
      "[Parallel(n_jobs=1)]: Done 440 out of 440 | elapsed:  8.6min finished\n"
     ]
    },
    {
     "data": {
      "text/plain": [
       "GridSearchCV(cv=4,\n",
       "             estimator=Pipeline(steps=[('preprocess',\n",
       "                                        ColumnTransformer(remainder='passthrough',\n",
       "                                                          transformers=[('pipeline-1',\n",
       "                                                                         Pipeline(steps=[('simpleimputer',\n",
       "                                                                                          SimpleImputer(fill_value='missing',\n",
       "                                                                                                        missing_values=None,\n",
       "                                                                                                        strategy='constant')),\n",
       "                                                                                         ('onehotencoder',\n",
       "                                                                                          OneHotEncoder(categories=[array(['A1', 'A6', 'A4', 'A3', 'Q3', 'Q5', 'A5', 'S4', 'Q2', 'A7', 'TT',\n",
       "       'Q7', 'R...\n",
       "                                                     n_estimators=100,\n",
       "                                                     n_jobs=-1,\n",
       "                                                     num_parallel_tree=None,\n",
       "                                                     random_state=None,\n",
       "                                                     reg_alpha=None,\n",
       "                                                     reg_lambda=None,\n",
       "                                                     scale_pos_weight=None,\n",
       "                                                     subsample=None,\n",
       "                                                     tree_method=None,\n",
       "                                                     validate_parameters=None,\n",
       "                                                     verbosity=None))]),\n",
       "             param_grid={'regressor__colsample_bytree': [0.3, 0.7],\n",
       "                         'regressor__max_depth': [2, 3, 5, 7, 9, 10, 12, 14, 16,\n",
       "                                                  18, None],\n",
       "                         'regressor__n_estimators': [20, 25, 30, 35, 40]},\n",
       "             verbose=3)"
      ]
     },
     "execution_count": 28,
     "metadata": {},
     "output_type": "execute_result"
    }
   ],
   "source": [
    "clf2.fit(X_train, y_train)\n"
   ]
  },
  {
   "cell_type": "code",
   "execution_count": 29,
   "metadata": {},
   "outputs": [
    {
     "name": "stdout",
     "output_type": "stream",
     "text": [
      "Best parameters found:  {'regressor__colsample_bytree': 0.7, 'regressor__max_depth': 18, 'regressor__n_estimators': 40}\n",
      "Best Score found:  0.9802816869752399\n"
     ]
    }
   ],
   "source": [
    "# Print the best parameters and lowest RMSE\n",
    "print(\"Best parameters found: \", clf2.best_params_)\n",
    "print(\"Best Score found: \", np.sqrt(np.abs(clf2.best_score_)))"
   ]
  },
  {
   "cell_type": "code",
   "execution_count": 30,
   "metadata": {},
   "outputs": [
    {
     "name": "stdout",
     "output_type": "stream",
     "text": [
      "Model Performance\n",
      "Average Error: 1200.2804 degrees.\n",
      "Accuracy = 92.54%.\n"
     ]
    },
    {
     "data": {
      "text/plain": [
       "{'regressor__colsample_bytree': 0.7,\n",
       " 'regressor__max_depth': 18,\n",
       " 'regressor__n_estimators': 40}"
      ]
     },
     "execution_count": 30,
     "metadata": {},
     "output_type": "execute_result"
    }
   ],
   "source": [
    "best_random = clf2.best_estimator_\n",
    "predictions = best_random.predict(X_test)\n",
    "errors = abs(predictions - y_test)\n",
    "mape = 100 * np.mean(errors / y_test)\n",
    "accuracy = 100 - mape\n",
    "print('Model Performance')\n",
    "print('Average Error: {:0.4f} degrees.'.format(np.mean(errors)))\n",
    "print('Accuracy = {:0.2f}%.'.format(accuracy))\n",
    "clf2.best_params_\n",
    "    "
   ]
  },
  {
   "cell_type": "code",
   "execution_count": 31,
   "metadata": {},
   "outputs": [
    {
     "name": "stdout",
     "output_type": "stream",
     "text": [
      "Fitting 4 folds for each of 20 candidates, totalling 80 fits\n",
      "[CV] regressor__n_estimators=29, regressor__max_depth=22, regressor__colsample_bytree=0.7 \n"
     ]
    },
    {
     "name": "stderr",
     "output_type": "stream",
     "text": [
      "[Parallel(n_jobs=1)]: Using backend SequentialBackend with 1 concurrent workers.\n"
     ]
    },
    {
     "name": "stdout",
     "output_type": "stream",
     "text": [
      "[CV]  regressor__n_estimators=29, regressor__max_depth=22, regressor__colsample_bytree=0.7, score=0.959, total=   2.7s\n",
      "[CV] regressor__n_estimators=29, regressor__max_depth=22, regressor__colsample_bytree=0.7 \n"
     ]
    },
    {
     "name": "stderr",
     "output_type": "stream",
     "text": [
      "[Parallel(n_jobs=1)]: Done   1 out of   1 | elapsed:    2.7s remaining:    0.0s\n"
     ]
    },
    {
     "name": "stdout",
     "output_type": "stream",
     "text": [
      "[CV]  regressor__n_estimators=29, regressor__max_depth=22, regressor__colsample_bytree=0.7, score=0.960, total=   2.6s\n",
      "[CV] regressor__n_estimators=29, regressor__max_depth=22, regressor__colsample_bytree=0.7 \n"
     ]
    },
    {
     "name": "stderr",
     "output_type": "stream",
     "text": [
      "[Parallel(n_jobs=1)]: Done   2 out of   2 | elapsed:    5.3s remaining:    0.0s\n"
     ]
    },
    {
     "name": "stdout",
     "output_type": "stream",
     "text": [
      "[CV]  regressor__n_estimators=29, regressor__max_depth=22, regressor__colsample_bytree=0.7, score=0.963, total=   2.7s\n",
      "[CV] regressor__n_estimators=29, regressor__max_depth=22, regressor__colsample_bytree=0.7 \n",
      "[CV]  regressor__n_estimators=29, regressor__max_depth=22, regressor__colsample_bytree=0.7, score=0.959, total=   2.7s\n",
      "[CV] regressor__n_estimators=103, regressor__max_depth=19, regressor__colsample_bytree=0.3 \n",
      "[CV]  regressor__n_estimators=103, regressor__max_depth=19, regressor__colsample_bytree=0.3, score=0.958, total=   4.6s\n",
      "[CV] regressor__n_estimators=103, regressor__max_depth=19, regressor__colsample_bytree=0.3 \n",
      "[CV]  regressor__n_estimators=103, regressor__max_depth=19, regressor__colsample_bytree=0.3, score=0.956, total=   4.5s\n",
      "[CV] regressor__n_estimators=103, regressor__max_depth=19, regressor__colsample_bytree=0.3 \n",
      "[CV]  regressor__n_estimators=103, regressor__max_depth=19, regressor__colsample_bytree=0.3, score=0.962, total=   4.9s\n",
      "[CV] regressor__n_estimators=103, regressor__max_depth=19, regressor__colsample_bytree=0.3 \n",
      "[CV]  regressor__n_estimators=103, regressor__max_depth=19, regressor__colsample_bytree=0.3, score=0.958, total=   4.5s\n",
      "[CV] regressor__n_estimators=47, regressor__max_depth=3, regressor__colsample_bytree=0.3 \n",
      "[CV]  regressor__n_estimators=47, regressor__max_depth=3, regressor__colsample_bytree=0.3, score=0.887, total=   0.9s\n",
      "[CV] regressor__n_estimators=47, regressor__max_depth=3, regressor__colsample_bytree=0.3 \n",
      "[CV]  regressor__n_estimators=47, regressor__max_depth=3, regressor__colsample_bytree=0.3, score=0.898, total=   0.9s\n",
      "[CV] regressor__n_estimators=47, regressor__max_depth=3, regressor__colsample_bytree=0.3 \n",
      "[CV]  regressor__n_estimators=47, regressor__max_depth=3, regressor__colsample_bytree=0.3, score=0.894, total=   0.9s\n",
      "[CV] regressor__n_estimators=47, regressor__max_depth=3, regressor__colsample_bytree=0.3 \n",
      "[CV]  regressor__n_estimators=47, regressor__max_depth=3, regressor__colsample_bytree=0.3, score=0.889, total=   0.9s\n",
      "[CV] regressor__n_estimators=20, regressor__max_depth=None, regressor__colsample_bytree=0.7 \n",
      "[CV]  regressor__n_estimators=20, regressor__max_depth=None, regressor__colsample_bytree=0.7, score=0.920, total=   1.0s\n",
      "[CV] regressor__n_estimators=20, regressor__max_depth=None, regressor__colsample_bytree=0.7 \n",
      "[CV]  regressor__n_estimators=20, regressor__max_depth=None, regressor__colsample_bytree=0.7, score=0.926, total=   0.9s\n",
      "[CV] regressor__n_estimators=20, regressor__max_depth=None, regressor__colsample_bytree=0.7 \n",
      "[CV]  regressor__n_estimators=20, regressor__max_depth=None, regressor__colsample_bytree=0.7, score=0.926, total=   0.9s\n",
      "[CV] regressor__n_estimators=20, regressor__max_depth=None, regressor__colsample_bytree=0.7 \n",
      "[CV]  regressor__n_estimators=20, regressor__max_depth=None, regressor__colsample_bytree=0.7, score=0.923, total=   0.9s\n",
      "[CV] regressor__n_estimators=38, regressor__max_depth=27, regressor__colsample_bytree=0.3 \n",
      "[CV]  regressor__n_estimators=38, regressor__max_depth=27, regressor__colsample_bytree=0.3, score=0.952, total=   2.7s\n",
      "[CV] regressor__n_estimators=38, regressor__max_depth=27, regressor__colsample_bytree=0.3 \n",
      "[CV]  regressor__n_estimators=38, regressor__max_depth=27, regressor__colsample_bytree=0.3, score=0.950, total=   2.7s\n",
      "[CV] regressor__n_estimators=38, regressor__max_depth=27, regressor__colsample_bytree=0.3 \n",
      "[CV]  regressor__n_estimators=38, regressor__max_depth=27, regressor__colsample_bytree=0.3, score=0.958, total=   2.6s\n",
      "[CV] regressor__n_estimators=38, regressor__max_depth=27, regressor__colsample_bytree=0.3 \n",
      "[CV]  regressor__n_estimators=38, regressor__max_depth=27, regressor__colsample_bytree=0.3, score=0.953, total=   2.7s\n",
      "[CV] regressor__n_estimators=75, regressor__max_depth=2, regressor__colsample_bytree=0.7 \n",
      "[CV]  regressor__n_estimators=75, regressor__max_depth=2, regressor__colsample_bytree=0.7, score=0.878, total=   1.1s\n",
      "[CV] regressor__n_estimators=75, regressor__max_depth=2, regressor__colsample_bytree=0.7 \n",
      "[CV]  regressor__n_estimators=75, regressor__max_depth=2, regressor__colsample_bytree=0.7, score=0.888, total=   1.0s\n",
      "[CV] regressor__n_estimators=75, regressor__max_depth=2, regressor__colsample_bytree=0.7 \n",
      "[CV]  regressor__n_estimators=75, regressor__max_depth=2, regressor__colsample_bytree=0.7, score=0.889, total=   1.0s\n",
      "[CV] regressor__n_estimators=75, regressor__max_depth=2, regressor__colsample_bytree=0.7 \n",
      "[CV]  regressor__n_estimators=75, regressor__max_depth=2, regressor__colsample_bytree=0.7, score=0.885, total=   1.0s\n",
      "[CV] regressor__n_estimators=112, regressor__max_depth=4, regressor__colsample_bytree=0.3 \n",
      "[CV]  regressor__n_estimators=112, regressor__max_depth=4, regressor__colsample_bytree=0.3, score=0.932, total=   1.4s\n",
      "[CV] regressor__n_estimators=112, regressor__max_depth=4, regressor__colsample_bytree=0.3 \n",
      "[CV]  regressor__n_estimators=112, regressor__max_depth=4, regressor__colsample_bytree=0.3, score=0.939, total=   1.5s\n",
      "[CV] regressor__n_estimators=112, regressor__max_depth=4, regressor__colsample_bytree=0.3 \n",
      "[CV]  regressor__n_estimators=112, regressor__max_depth=4, regressor__colsample_bytree=0.3, score=0.938, total=   1.4s\n",
      "[CV] regressor__n_estimators=112, regressor__max_depth=4, regressor__colsample_bytree=0.3 \n",
      "[CV]  regressor__n_estimators=112, regressor__max_depth=4, regressor__colsample_bytree=0.3, score=0.934, total=   1.4s\n",
      "[CV] regressor__n_estimators=85, regressor__max_depth=27, regressor__colsample_bytree=0.7 \n",
      "[CV]  regressor__n_estimators=85, regressor__max_depth=27, regressor__colsample_bytree=0.7, score=0.958, total=   7.3s\n",
      "[CV] regressor__n_estimators=85, regressor__max_depth=27, regressor__colsample_bytree=0.7 \n",
      "[CV]  regressor__n_estimators=85, regressor__max_depth=27, regressor__colsample_bytree=0.7, score=0.959, total=   7.3s\n",
      "[CV] regressor__n_estimators=85, regressor__max_depth=27, regressor__colsample_bytree=0.7 \n",
      "[CV]  regressor__n_estimators=85, regressor__max_depth=27, regressor__colsample_bytree=0.7, score=0.961, total=   7.4s\n",
      "[CV] regressor__n_estimators=85, regressor__max_depth=27, regressor__colsample_bytree=0.7 \n",
      "[CV]  regressor__n_estimators=85, regressor__max_depth=27, regressor__colsample_bytree=0.7, score=0.959, total=   7.3s\n",
      "[CV] regressor__n_estimators=122, regressor__max_depth=2, regressor__colsample_bytree=0.7 \n",
      "[CV]  regressor__n_estimators=122, regressor__max_depth=2, regressor__colsample_bytree=0.7, score=0.898, total=   1.3s\n",
      "[CV] regressor__n_estimators=122, regressor__max_depth=2, regressor__colsample_bytree=0.7 \n",
      "[CV]  regressor__n_estimators=122, regressor__max_depth=2, regressor__colsample_bytree=0.7, score=0.905, total=   1.3s\n",
      "[CV] regressor__n_estimators=122, regressor__max_depth=2, regressor__colsample_bytree=0.7 \n",
      "[CV]  regressor__n_estimators=122, regressor__max_depth=2, regressor__colsample_bytree=0.7, score=0.906, total=   1.3s\n",
      "[CV] regressor__n_estimators=122, regressor__max_depth=2, regressor__colsample_bytree=0.7 \n",
      "[CV]  regressor__n_estimators=122, regressor__max_depth=2, regressor__colsample_bytree=0.7, score=0.904, total=   1.3s\n",
      "[CV] regressor__n_estimators=57, regressor__max_depth=22, regressor__colsample_bytree=0.7 \n",
      "[CV]  regressor__n_estimators=57, regressor__max_depth=22, regressor__colsample_bytree=0.7, score=0.959, total=   4.3s\n",
      "[CV] regressor__n_estimators=57, regressor__max_depth=22, regressor__colsample_bytree=0.7 \n",
      "[CV]  regressor__n_estimators=57, regressor__max_depth=22, regressor__colsample_bytree=0.7, score=0.960, total=   4.3s\n",
      "[CV] regressor__n_estimators=57, regressor__max_depth=22, regressor__colsample_bytree=0.7 \n",
      "[CV]  regressor__n_estimators=57, regressor__max_depth=22, regressor__colsample_bytree=0.7, score=0.963, total=   4.3s\n",
      "[CV] regressor__n_estimators=57, regressor__max_depth=22, regressor__colsample_bytree=0.7 \n",
      "[CV]  regressor__n_estimators=57, regressor__max_depth=22, regressor__colsample_bytree=0.7, score=0.959, total=   4.3s\n",
      "[CV] regressor__n_estimators=75, regressor__max_depth=9, regressor__colsample_bytree=0.3 \n",
      "[CV]  regressor__n_estimators=75, regressor__max_depth=9, regressor__colsample_bytree=0.3, score=0.951, total=   1.7s\n",
      "[CV] regressor__n_estimators=75, regressor__max_depth=9, regressor__colsample_bytree=0.3 \n"
     ]
    },
    {
     "name": "stdout",
     "output_type": "stream",
     "text": [
      "[CV]  regressor__n_estimators=75, regressor__max_depth=9, regressor__colsample_bytree=0.3, score=0.954, total=   1.7s\n",
      "[CV] regressor__n_estimators=75, regressor__max_depth=9, regressor__colsample_bytree=0.3 \n",
      "[CV]  regressor__n_estimators=75, regressor__max_depth=9, regressor__colsample_bytree=0.3, score=0.957, total=   1.7s\n",
      "[CV] regressor__n_estimators=75, regressor__max_depth=9, regressor__colsample_bytree=0.3 \n",
      "[CV]  regressor__n_estimators=75, regressor__max_depth=9, regressor__colsample_bytree=0.3, score=0.953, total=   1.7s\n",
      "[CV] regressor__n_estimators=103, regressor__max_depth=13, regressor__colsample_bytree=0.3 \n",
      "[CV]  regressor__n_estimators=103, regressor__max_depth=13, regressor__colsample_bytree=0.3, score=0.960, total=   3.0s\n",
      "[CV] regressor__n_estimators=103, regressor__max_depth=13, regressor__colsample_bytree=0.3 \n",
      "[CV]  regressor__n_estimators=103, regressor__max_depth=13, regressor__colsample_bytree=0.3, score=0.957, total=   3.0s\n",
      "[CV] regressor__n_estimators=103, regressor__max_depth=13, regressor__colsample_bytree=0.3 \n",
      "[CV]  regressor__n_estimators=103, regressor__max_depth=13, regressor__colsample_bytree=0.3, score=0.963, total=   2.9s\n",
      "[CV] regressor__n_estimators=103, regressor__max_depth=13, regressor__colsample_bytree=0.3 \n",
      "[CV]  regressor__n_estimators=103, regressor__max_depth=13, regressor__colsample_bytree=0.3, score=0.959, total=   3.0s\n",
      "[CV] regressor__n_estimators=66, regressor__max_depth=3, regressor__colsample_bytree=0.7 \n",
      "[CV]  regressor__n_estimators=66, regressor__max_depth=3, regressor__colsample_bytree=0.7, score=0.902, total=   1.1s\n",
      "[CV] regressor__n_estimators=66, regressor__max_depth=3, regressor__colsample_bytree=0.7 \n",
      "[CV]  regressor__n_estimators=66, regressor__max_depth=3, regressor__colsample_bytree=0.7, score=0.912, total=   1.1s\n",
      "[CV] regressor__n_estimators=66, regressor__max_depth=3, regressor__colsample_bytree=0.7 \n",
      "[CV]  regressor__n_estimators=66, regressor__max_depth=3, regressor__colsample_bytree=0.7, score=0.909, total=   1.1s\n",
      "[CV] regressor__n_estimators=66, regressor__max_depth=3, regressor__colsample_bytree=0.7 \n",
      "[CV]  regressor__n_estimators=66, regressor__max_depth=3, regressor__colsample_bytree=0.7, score=0.908, total=   1.1s\n",
      "[CV] regressor__n_estimators=66, regressor__max_depth=10, regressor__colsample_bytree=0.3 \n",
      "[CV]  regressor__n_estimators=66, regressor__max_depth=10, regressor__colsample_bytree=0.3, score=0.952, total=   1.7s\n",
      "[CV] regressor__n_estimators=66, regressor__max_depth=10, regressor__colsample_bytree=0.3 \n",
      "[CV]  regressor__n_estimators=66, regressor__max_depth=10, regressor__colsample_bytree=0.3, score=0.952, total=   1.7s\n",
      "[CV] regressor__n_estimators=66, regressor__max_depth=10, regressor__colsample_bytree=0.3 \n",
      "[CV]  regressor__n_estimators=66, regressor__max_depth=10, regressor__colsample_bytree=0.3, score=0.959, total=   1.6s\n",
      "[CV] regressor__n_estimators=66, regressor__max_depth=10, regressor__colsample_bytree=0.3 \n",
      "[CV]  regressor__n_estimators=66, regressor__max_depth=10, regressor__colsample_bytree=0.3, score=0.954, total=   1.7s\n",
      "[CV] regressor__n_estimators=38, regressor__max_depth=18, regressor__colsample_bytree=0.7 \n",
      "[CV]  regressor__n_estimators=38, regressor__max_depth=18, regressor__colsample_bytree=0.7, score=0.959, total=   2.5s\n",
      "[CV] regressor__n_estimators=38, regressor__max_depth=18, regressor__colsample_bytree=0.7 \n",
      "[CV]  regressor__n_estimators=38, regressor__max_depth=18, regressor__colsample_bytree=0.7, score=0.961, total=   2.5s\n",
      "[CV] regressor__n_estimators=38, regressor__max_depth=18, regressor__colsample_bytree=0.7 \n",
      "[CV]  regressor__n_estimators=38, regressor__max_depth=18, regressor__colsample_bytree=0.7, score=0.964, total=   2.5s\n",
      "[CV] regressor__n_estimators=38, regressor__max_depth=18, regressor__colsample_bytree=0.7 \n",
      "[CV]  regressor__n_estimators=38, regressor__max_depth=18, regressor__colsample_bytree=0.7, score=0.960, total=   2.5s\n",
      "[CV] regressor__n_estimators=20, regressor__max_depth=24, regressor__colsample_bytree=0.7 \n",
      "[CV]  regressor__n_estimators=20, regressor__max_depth=24, regressor__colsample_bytree=0.7, score=0.958, total=   2.0s\n",
      "[CV] regressor__n_estimators=20, regressor__max_depth=24, regressor__colsample_bytree=0.7 \n",
      "[CV]  regressor__n_estimators=20, regressor__max_depth=24, regressor__colsample_bytree=0.7, score=0.959, total=   2.0s\n",
      "[CV] regressor__n_estimators=20, regressor__max_depth=24, regressor__colsample_bytree=0.7 \n",
      "[CV]  regressor__n_estimators=20, regressor__max_depth=24, regressor__colsample_bytree=0.7, score=0.963, total=   2.0s\n",
      "[CV] regressor__n_estimators=20, regressor__max_depth=24, regressor__colsample_bytree=0.7 \n",
      "[CV]  regressor__n_estimators=20, regressor__max_depth=24, regressor__colsample_bytree=0.7, score=0.959, total=   2.0s\n",
      "[CV] regressor__n_estimators=20, regressor__max_depth=18, regressor__colsample_bytree=0.7 \n",
      "[CV]  regressor__n_estimators=20, regressor__max_depth=18, regressor__colsample_bytree=0.7, score=0.958, total=   1.6s\n",
      "[CV] regressor__n_estimators=20, regressor__max_depth=18, regressor__colsample_bytree=0.7 \n",
      "[CV]  regressor__n_estimators=20, regressor__max_depth=18, regressor__colsample_bytree=0.7, score=0.960, total=   1.6s\n",
      "[CV] regressor__n_estimators=20, regressor__max_depth=18, regressor__colsample_bytree=0.7 \n",
      "[CV]  regressor__n_estimators=20, regressor__max_depth=18, regressor__colsample_bytree=0.7, score=0.963, total=   1.6s\n",
      "[CV] regressor__n_estimators=20, regressor__max_depth=18, regressor__colsample_bytree=0.7 \n",
      "[CV]  regressor__n_estimators=20, regressor__max_depth=18, regressor__colsample_bytree=0.7, score=0.959, total=   1.6s\n",
      "[CV] regressor__n_estimators=75, regressor__max_depth=4, regressor__colsample_bytree=0.7 \n",
      "[CV]  regressor__n_estimators=75, regressor__max_depth=4, regressor__colsample_bytree=0.7, score=0.927, total=   1.3s\n",
      "[CV] regressor__n_estimators=75, regressor__max_depth=4, regressor__colsample_bytree=0.7 \n",
      "[CV]  regressor__n_estimators=75, regressor__max_depth=4, regressor__colsample_bytree=0.7, score=0.933, total=   1.3s\n",
      "[CV] regressor__n_estimators=75, regressor__max_depth=4, regressor__colsample_bytree=0.7 \n",
      "[CV]  regressor__n_estimators=75, regressor__max_depth=4, regressor__colsample_bytree=0.7, score=0.930, total=   1.3s\n",
      "[CV] regressor__n_estimators=75, regressor__max_depth=4, regressor__colsample_bytree=0.7 \n",
      "[CV]  regressor__n_estimators=75, regressor__max_depth=4, regressor__colsample_bytree=0.7, score=0.930, total=   1.3s\n",
      "[CV] regressor__n_estimators=112, regressor__max_depth=18, regressor__colsample_bytree=0.7 \n",
      "[CV]  regressor__n_estimators=112, regressor__max_depth=18, regressor__colsample_bytree=0.7, score=0.959, total=   6.2s\n",
      "[CV] regressor__n_estimators=112, regressor__max_depth=18, regressor__colsample_bytree=0.7 \n",
      "[CV]  regressor__n_estimators=112, regressor__max_depth=18, regressor__colsample_bytree=0.7, score=0.961, total=   6.2s\n",
      "[CV] regressor__n_estimators=112, regressor__max_depth=18, regressor__colsample_bytree=0.7 \n",
      "[CV]  regressor__n_estimators=112, regressor__max_depth=18, regressor__colsample_bytree=0.7, score=0.964, total=   6.3s\n",
      "[CV] regressor__n_estimators=112, regressor__max_depth=18, regressor__colsample_bytree=0.7 \n",
      "[CV]  regressor__n_estimators=112, regressor__max_depth=18, regressor__colsample_bytree=0.7, score=0.960, total=   6.2s\n",
      "[CV] regressor__n_estimators=122, regressor__max_depth=22, regressor__colsample_bytree=0.3 \n",
      "[CV]  regressor__n_estimators=122, regressor__max_depth=22, regressor__colsample_bytree=0.3, score=0.957, total=   5.6s\n",
      "[CV] regressor__n_estimators=122, regressor__max_depth=22, regressor__colsample_bytree=0.3 \n",
      "[CV]  regressor__n_estimators=122, regressor__max_depth=22, regressor__colsample_bytree=0.3, score=0.954, total=   5.6s\n",
      "[CV] regressor__n_estimators=122, regressor__max_depth=22, regressor__colsample_bytree=0.3 \n",
      "[CV]  regressor__n_estimators=122, regressor__max_depth=22, regressor__colsample_bytree=0.3, score=0.961, total=   5.6s\n",
      "[CV] regressor__n_estimators=122, regressor__max_depth=22, regressor__colsample_bytree=0.3 \n",
      "[CV]  regressor__n_estimators=122, regressor__max_depth=22, regressor__colsample_bytree=0.3, score=0.956, total=   5.6s\n"
     ]
    },
    {
     "name": "stderr",
     "output_type": "stream",
     "text": [
      "[Parallel(n_jobs=1)]: Done  80 out of  80 | elapsed:  3.6min finished\n"
     ]
    },
    {
     "name": "stdout",
     "output_type": "stream",
     "text": [
      "Best parameters found:  {'regressor__n_estimators': 112, 'regressor__max_depth': 18, 'regressor__colsample_bytree': 0.7}\n",
      "Best Score found:  0.9802749984474335\n"
     ]
    }
   ],
   "source": [
    "## Using RandomizedSearchCV for best score\n",
    "\n",
    "XGBF = XGBRegressor(n_jobs=-1)\n",
    "clf = Pipeline(steps=[\n",
    "    ('preprocess', processor_lin),\n",
    "    ('regressor',XGBF)\n",
    "])\n",
    "# Number of trees in random forest\n",
    "n_estimators = [int(x) for x in np.linspace(start = 20, stop = 150, num = 15)]\n",
    "max_depth = [int(x) for x in np.linspace(2, 30, num = 20)]\n",
    "max_depth.append(None)\n",
    "gbm_param_grid = {\n",
    "    'regressor__colsample_bytree': [0.3, 0.7],\n",
    "    'regressor__n_estimators': n_estimators,\n",
    "    'regressor__max_depth': max_depth\n",
    "}\n",
    "\n",
    "randomized_acc = RandomizedSearchCV(param_distributions=gbm_param_grid, estimator=clf, n_iter=20, cv=4, verbose=3)\n",
    "\n",
    "# Fit randomized_mse to the data\n",
    "randomized_acc.fit(X_train, y_train)\n",
    "# Print the best parameters and lowest RMSE\n",
    "print(\"Best parameters found: \", randomized_acc.best_params_)\n",
    "print(\"Best Score found: \", np.sqrt(np.abs(randomized_acc.best_score_)))"
   ]
  },
  {
   "cell_type": "code",
   "execution_count": 32,
   "metadata": {},
   "outputs": [
    {
     "name": "stdout",
     "output_type": "stream",
     "text": [
      "Fitting 4 folds for each of 5 candidates, totalling 20 fits\n",
      "[CV] regressor__n_estimators=94, regressor__max_depth=30, regressor__colsample_bytree=0.3 \n"
     ]
    },
    {
     "name": "stderr",
     "output_type": "stream",
     "text": [
      "[Parallel(n_jobs=1)]: Using backend SequentialBackend with 1 concurrent workers.\n"
     ]
    },
    {
     "name": "stdout",
     "output_type": "stream",
     "text": [
      "[CV]  regressor__n_estimators=94, regressor__max_depth=30, regressor__colsample_bytree=0.3, score=-4715940.963, total=   6.5s\n",
      "[CV] regressor__n_estimators=94, regressor__max_depth=30, regressor__colsample_bytree=0.3 \n"
     ]
    },
    {
     "name": "stderr",
     "output_type": "stream",
     "text": [
      "[Parallel(n_jobs=1)]: Done   1 out of   1 | elapsed:    6.4s remaining:    0.0s\n"
     ]
    },
    {
     "name": "stdout",
     "output_type": "stream",
     "text": [
      "[CV]  regressor__n_estimators=94, regressor__max_depth=30, regressor__colsample_bytree=0.3, score=-5416498.489, total=   6.5s\n",
      "[CV] regressor__n_estimators=94, regressor__max_depth=30, regressor__colsample_bytree=0.3 \n"
     ]
    },
    {
     "name": "stderr",
     "output_type": "stream",
     "text": [
      "[Parallel(n_jobs=1)]: Done   2 out of   2 | elapsed:   12.9s remaining:    0.0s\n"
     ]
    },
    {
     "name": "stdout",
     "output_type": "stream",
     "text": [
      "[CV]  regressor__n_estimators=94, regressor__max_depth=30, regressor__colsample_bytree=0.3, score=-4205850.952, total=   6.4s\n",
      "[CV] regressor__n_estimators=94, regressor__max_depth=30, regressor__colsample_bytree=0.3 \n",
      "[CV]  regressor__n_estimators=94, regressor__max_depth=30, regressor__colsample_bytree=0.3, score=-4714448.545, total=   6.4s\n",
      "[CV] regressor__n_estimators=47, regressor__max_depth=22, regressor__colsample_bytree=0.7 \n",
      "[CV]  regressor__n_estimators=47, regressor__max_depth=22, regressor__colsample_bytree=0.7, score=-4136657.568, total=   3.6s\n",
      "[CV] regressor__n_estimators=47, regressor__max_depth=22, regressor__colsample_bytree=0.7 \n",
      "[CV]  regressor__n_estimators=47, regressor__max_depth=22, regressor__colsample_bytree=0.7, score=-4328156.892, total=   3.6s\n",
      "[CV] regressor__n_estimators=47, regressor__max_depth=22, regressor__colsample_bytree=0.7 \n",
      "[CV]  regressor__n_estimators=47, regressor__max_depth=22, regressor__colsample_bytree=0.7, score=-3660955.940, total=   3.6s\n",
      "[CV] regressor__n_estimators=47, regressor__max_depth=22, regressor__colsample_bytree=0.7 \n",
      "[CV]  regressor__n_estimators=47, regressor__max_depth=22, regressor__colsample_bytree=0.7, score=-4165138.444, total=   3.6s\n",
      "[CV] regressor__n_estimators=29, regressor__max_depth=22, regressor__colsample_bytree=0.7 \n",
      "[CV]  regressor__n_estimators=29, regressor__max_depth=22, regressor__colsample_bytree=0.7, score=-4138164.166, total=   2.4s\n",
      "[CV] regressor__n_estimators=29, regressor__max_depth=22, regressor__colsample_bytree=0.7 \n",
      "[CV]  regressor__n_estimators=29, regressor__max_depth=22, regressor__colsample_bytree=0.7, score=-4318821.673, total=   2.4s\n",
      "[CV] regressor__n_estimators=29, regressor__max_depth=22, regressor__colsample_bytree=0.7 \n",
      "[CV]  regressor__n_estimators=29, regressor__max_depth=22, regressor__colsample_bytree=0.7, score=-3654423.860, total=   2.4s\n",
      "[CV] regressor__n_estimators=29, regressor__max_depth=22, regressor__colsample_bytree=0.7 \n",
      "[CV]  regressor__n_estimators=29, regressor__max_depth=22, regressor__colsample_bytree=0.7, score=-4146792.732, total=   2.4s\n",
      "[CV] regressor__n_estimators=94, regressor__max_depth=22, regressor__colsample_bytree=0.7 \n",
      "[CV]  regressor__n_estimators=94, regressor__max_depth=22, regressor__colsample_bytree=0.7, score=-4171600.226, total=   6.5s\n",
      "[CV] regressor__n_estimators=94, regressor__max_depth=22, regressor__colsample_bytree=0.7 \n",
      "[CV]  regressor__n_estimators=94, regressor__max_depth=22, regressor__colsample_bytree=0.7, score=-4387795.122, total=   6.5s\n",
      "[CV] regressor__n_estimators=94, regressor__max_depth=22, regressor__colsample_bytree=0.7 \n",
      "[CV]  regressor__n_estimators=94, regressor__max_depth=22, regressor__colsample_bytree=0.7, score=-3724435.895, total=   6.6s\n",
      "[CV] regressor__n_estimators=94, regressor__max_depth=22, regressor__colsample_bytree=0.7 \n",
      "[CV]  regressor__n_estimators=94, regressor__max_depth=22, regressor__colsample_bytree=0.7, score=-4222772.166, total=   6.6s\n",
      "[CV] regressor__n_estimators=85, regressor__max_depth=7, regressor__colsample_bytree=0.3 \n",
      "[CV]  regressor__n_estimators=85, regressor__max_depth=7, regressor__colsample_bytree=0.3, score=-5268468.871, total=   1.6s\n",
      "[CV] regressor__n_estimators=85, regressor__max_depth=7, regressor__colsample_bytree=0.3 \n",
      "[CV]  regressor__n_estimators=85, regressor__max_depth=7, regressor__colsample_bytree=0.3, score=-5447310.196, total=   1.6s\n",
      "[CV] regressor__n_estimators=85, regressor__max_depth=7, regressor__colsample_bytree=0.3 \n",
      "[CV]  regressor__n_estimators=85, regressor__max_depth=7, regressor__colsample_bytree=0.3, score=-4741143.508, total=   1.6s\n",
      "[CV] regressor__n_estimators=85, regressor__max_depth=7, regressor__colsample_bytree=0.3 \n",
      "[CV]  regressor__n_estimators=85, regressor__max_depth=7, regressor__colsample_bytree=0.3, score=-5092011.499, total=   1.6s\n"
     ]
    },
    {
     "name": "stderr",
     "output_type": "stream",
     "text": [
      "[Parallel(n_jobs=1)]: Done  20 out of  20 | elapsed:  1.4min finished\n"
     ]
    },
    {
     "name": "stdout",
     "output_type": "stream",
     "text": [
      "Best parameters found:  {'regressor__n_estimators': 29, 'regressor__max_depth': 22, 'regressor__colsample_bytree': 0.7}\n",
      "Lowest RMSE found:  2016.0730660913225\n"
     ]
    }
   ],
   "source": [
    "## Using RandomizedSearchCV for mean squared error\n",
    "\n",
    "XGBF = XGBRegressor(n_jobs=-1)\n",
    "clf = Pipeline(steps=[\n",
    "    ('preprocess', processor_lin),\n",
    "    ('regressor',XGBF)\n",
    "])\n",
    "# Number of trees in random forest\n",
    "n_estimators = [int(x) for x in np.linspace(start = 20, stop = 150, num = 15)]\n",
    "max_depth = [int(x) for x in np.linspace(2, 30, num = 20)]\n",
    "max_depth.append(None)\n",
    "gbm_param_grid = {\n",
    "    'regressor__colsample_bytree': [0.3, 0.7],\n",
    "    'regressor__n_estimators': n_estimators,\n",
    "    'regressor__max_depth': max_depth\n",
    "}\n",
    "randomized_mse = RandomizedSearchCV(param_distributions=gbm_param_grid, estimator=clf, scoring=\"neg_mean_squared_error\", n_iter=5, cv=4, verbose=3)\n",
    "# Fit randomized_mse to the data\n",
    "randomized_mse.fit(X_train, y_train)\n",
    "# Print the best parameters and lowest RMSE\n",
    "print(\"Best parameters found: \", randomized_mse.best_params_)\n",
    "print(\"Lowest RMSE found: \", np.sqrt(np.abs(randomized_mse.best_score_)))"
   ]
  },
  {
   "cell_type": "markdown",
   "metadata": {},
   "source": [
    "# Evaluate Our Model Further\n",
    "\n",
    "Now we are going to shuffle the data over and over and apply our new model to the results to further determine if we want to use this model."
   ]
  },
  {
   "cell_type": "code",
   "execution_count": 33,
   "metadata": {},
   "outputs": [
    {
     "name": "stdout",
     "output_type": "stream",
     "text": [
      "Results: 0.97 (0.00) accuracy\n"
     ]
    }
   ],
   "source": [
    "# evaluate model with kfold\n",
    "kfold = KFold(n_splits=10, shuffle=True)\n",
    "results = cross_val_score(randomized_mse.best_estimator_, X, y, cv=kfold, n_jobs=-1)\n",
    "print(\"Results: %.2f (%.2f) accuracy\" % (results.mean(), results.std()))"
   ]
  },
  {
   "cell_type": "code",
   "execution_count": 34,
   "metadata": {},
   "outputs": [
    {
     "name": "stdout",
     "output_type": "stream",
     "text": [
      "Results: 0.96 (0.00) accuracy\n"
     ]
    }
   ],
   "source": [
    "# evaluate model with kfold\n",
    "kfold = KFold(n_splits=10, shuffle=True)\n",
    "results = cross_val_score(randomized_acc.best_estimator_, X, y, cv=kfold, n_jobs=-1)\n",
    "print(\"Results: %.2f (%.2f) accuracy\" % (results.mean(), results.std()))"
   ]
  },
  {
   "cell_type": "code",
   "execution_count": 35,
   "metadata": {},
   "outputs": [
    {
     "name": "stdout",
     "output_type": "stream",
     "text": [
      "Results: 0.97 (0.00) accuracy\n"
     ]
    }
   ],
   "source": [
    "# evaluate model with kfold\n",
    "kfold = KFold(n_splits=10, shuffle=True)\n",
    "results = cross_val_score(clf2.best_estimator_, X, y, cv=kfold, n_jobs=-1)\n",
    "print(\"Results: %.2f (%.2f) accuracy\" % (results.mean(), results.std()))"
   ]
  },
  {
   "cell_type": "markdown",
   "metadata": {},
   "source": [
    "## Save The Model For Future Use"
   ]
  },
  {
   "cell_type": "code",
   "execution_count": 36,
   "metadata": {},
   "outputs": [],
   "source": [
    "# save model\n",
    "with open(f'best_xgb_pipeline_model.pickle', 'wb') as f:\n",
    "    pickle.dump(randomized_mse.best_estimator_, f)"
   ]
  },
  {
   "cell_type": "code",
   "execution_count": 37,
   "metadata": {},
   "outputs": [],
   "source": [
    "# save model\n",
    "with open(f'best_xgb_pipeline_model_acc.pickle', 'wb') as f:\n",
    "    pickle.dump(randomized_acc.best_estimator_, f)"
   ]
  },
  {
   "cell_type": "code",
   "execution_count": 38,
   "metadata": {},
   "outputs": [],
   "source": [
    "# save model\n",
    "with open(f'best_xgb_pipeline_model_GS.pickle', 'wb') as f:\n",
    "    pickle.dump(clf2.best_estimator_, f)"
   ]
  },
  {
   "cell_type": "markdown",
   "metadata": {},
   "source": [
    "## Test the model"
   ]
  },
  {
   "cell_type": "code",
   "execution_count": 39,
   "metadata": {},
   "outputs": [],
   "source": [
    "import pickle\n",
    "import numpy as np"
   ]
  },
  {
   "cell_type": "code",
   "execution_count": 40,
   "metadata": {},
   "outputs": [],
   "source": [
    "file = open(\"best_xgb_pipeline_model.pickle\",'rb')\n",
    "le_loaded = pickle.load(file)\n",
    "file.close()"
   ]
  },
  {
   "cell_type": "code",
   "execution_count": 41,
   "metadata": {},
   "outputs": [],
   "source": [
    "values = ['Fox',2008,'Manual', 88102,'Petrol',46.3,1.2,'Volkswagen']\n"
   ]
  },
  {
   "cell_type": "code",
   "execution_count": 42,
   "metadata": {},
   "outputs": [],
   "source": [
    "features = [np.array(values)]"
   ]
  },
  {
   "cell_type": "code",
   "execution_count": 43,
   "metadata": {},
   "outputs": [
    {
     "data": {
      "text/html": [
       "<div>\n",
       "<style scoped>\n",
       "    .dataframe tbody tr th:only-of-type {\n",
       "        vertical-align: middle;\n",
       "    }\n",
       "\n",
       "    .dataframe tbody tr th {\n",
       "        vertical-align: top;\n",
       "    }\n",
       "\n",
       "    .dataframe thead th {\n",
       "        text-align: right;\n",
       "    }\n",
       "</style>\n",
       "<table border=\"1\" class=\"dataframe\">\n",
       "  <thead>\n",
       "    <tr style=\"text-align: right;\">\n",
       "      <th></th>\n",
       "      <th>model</th>\n",
       "      <th>year</th>\n",
       "      <th>transmission</th>\n",
       "      <th>mileage</th>\n",
       "      <th>fuelType</th>\n",
       "      <th>mpg</th>\n",
       "      <th>engineSize</th>\n",
       "      <th>make</th>\n",
       "    </tr>\n",
       "  </thead>\n",
       "  <tbody>\n",
       "    <tr>\n",
       "      <th>0</th>\n",
       "      <td>Fox</td>\n",
       "      <td>2008</td>\n",
       "      <td>Manual</td>\n",
       "      <td>88102</td>\n",
       "      <td>Petrol</td>\n",
       "      <td>46.3</td>\n",
       "      <td>1.2</td>\n",
       "      <td>Volkswagen</td>\n",
       "    </tr>\n",
       "  </tbody>\n",
       "</table>\n",
       "</div>"
      ],
      "text/plain": [
       "  model  year transmission mileage fuelType   mpg engineSize        make\n",
       "0   Fox  2008       Manual   88102   Petrol  46.3        1.2  Volkswagen"
      ]
     },
     "execution_count": 43,
     "metadata": {},
     "output_type": "execute_result"
    }
   ],
   "source": [
    "df = pd.DataFrame(features,columns=['model','year','transmission','mileage','fuelType','mpg','engineSize','make'])\n",
    "df"
   ]
  },
  {
   "cell_type": "code",
   "execution_count": 44,
   "metadata": {},
   "outputs": [
    {
     "data": {
      "text/plain": [
       "array([1995.9774], dtype=float32)"
      ]
     },
     "execution_count": 44,
     "metadata": {},
     "output_type": "execute_result"
    }
   ],
   "source": [
    "le_loaded.predict(df)"
   ]
  },
  {
   "cell_type": "code",
   "execution_count": 45,
   "metadata": {},
   "outputs": [
    {
     "data": {
      "text/html": [
       "<div>\n",
       "<style scoped>\n",
       "    .dataframe tbody tr th:only-of-type {\n",
       "        vertical-align: middle;\n",
       "    }\n",
       "\n",
       "    .dataframe tbody tr th {\n",
       "        vertical-align: top;\n",
       "    }\n",
       "\n",
       "    .dataframe thead th {\n",
       "        text-align: right;\n",
       "    }\n",
       "</style>\n",
       "<table border=\"1\" class=\"dataframe\">\n",
       "  <thead>\n",
       "    <tr style=\"text-align: right;\">\n",
       "      <th></th>\n",
       "      <th>model</th>\n",
       "      <th>year</th>\n",
       "      <th>transmission</th>\n",
       "      <th>mileage</th>\n",
       "      <th>fuelType</th>\n",
       "      <th>mpg</th>\n",
       "      <th>engineSize</th>\n",
       "      <th>make</th>\n",
       "    </tr>\n",
       "  </thead>\n",
       "  <tbody>\n",
       "    <tr>\n",
       "      <th>0</th>\n",
       "      <td>Fox</td>\n",
       "      <td>2008</td>\n",
       "      <td>Manual</td>\n",
       "      <td>88102</td>\n",
       "      <td>Petrol</td>\n",
       "      <td>46.3</td>\n",
       "      <td>1.2</td>\n",
       "      <td>Volkswagen</td>\n",
       "    </tr>\n",
       "  </tbody>\n",
       "</table>\n",
       "</div>"
      ],
      "text/plain": [
       "  model  year transmission mileage fuelType   mpg engineSize        make\n",
       "0   Fox  2008       Manual   88102   Petrol  46.3        1.2  Volkswagen"
      ]
     },
     "execution_count": 45,
     "metadata": {},
     "output_type": "execute_result"
    }
   ],
   "source": [
    "df_deploy = pd.DataFrame(features,columns=['model','year','transmission','mileage','fuelType','mpg','engineSize','make'])\n",
    "df_deploy"
   ]
  },
  {
   "cell_type": "code",
   "execution_count": 46,
   "metadata": {},
   "outputs": [
    {
     "data": {
      "text/plain": [
       "array([1995.9774], dtype=float32)"
      ]
     },
     "execution_count": 46,
     "metadata": {},
     "output_type": "execute_result"
    }
   ],
   "source": [
    "randomized_mse.predict(df_deploy)"
   ]
  },
  {
   "cell_type": "code",
   "execution_count": 47,
   "metadata": {},
   "outputs": [],
   "source": [
    "predictions = randomized_mse.predict(X_test[:30])"
   ]
  },
  {
   "cell_type": "code",
   "execution_count": 48,
   "metadata": {},
   "outputs": [
    {
     "data": {
      "text/plain": [
       "array([ 6277.4673,  3568.9392, 12538.411 , 12984.512 , 13254.391 ,\n",
       "       23126.277 , 18822.95  , 18927.7   , 18156.87  ,  7882.718 ,\n",
       "       20157.346 , 25636.271 , 54538.598 ,  2457.6235, 13773.6   ,\n",
       "       10684.449 , 19216.012 , 15709.079 , 27821.5   , 34616.484 ,\n",
       "       11498.328 , 21070.867 , 33621.54  ,  9498.204 , 23488.254 ,\n",
       "       15070.052 ,  5857.4097, 14823.735 ,  8476.14  , 33799.344 ],\n",
       "      dtype=float32)"
      ]
     },
     "execution_count": 48,
     "metadata": {},
     "output_type": "execute_result"
    }
   ],
   "source": [
    "predictions"
   ]
  },
  {
   "cell_type": "code",
   "execution_count": 49,
   "metadata": {},
   "outputs": [
    {
     "data": {
      "text/plain": [
       "array([ 5395,  2250, 10490, 13495, 13990, 23485, 16700, 19470, 20990,\n",
       "        7490, 21495, 26699, 57970,  2394, 16000,  9072, 18970, 15900,\n",
       "       30000, 37950, 10490, 19850, 31950,  9950, 23495, 15562,  5995,\n",
       "       14000,  8499, 33999], dtype=int64)"
      ]
     },
     "execution_count": 49,
     "metadata": {},
     "output_type": "execute_result"
    }
   ],
   "source": [
    "y_test[:30].values"
   ]
  },
  {
   "cell_type": "code",
   "execution_count": 50,
   "metadata": {},
   "outputs": [
    {
     "data": {
      "text/plain": [
       "array([ 6122.223 ,  3515.8618, 12676.912 , 13143.775 , 13286.309 ,\n",
       "       23728.646 , 18446.12  , 18612.254 , 18438.725 ,  7741.907 ,\n",
       "       20152.238 , 25529.736 , 54236.43  ,  1277.9324, 13986.167 ,\n",
       "       10387.308 , 19596.729 , 15969.203 , 26554.732 , 34131.95  ,\n",
       "       11764.001 , 22707.326 , 34617.152 ,  9231.644 , 23043.184 ,\n",
       "       15677.374 ,  5609.4395, 15664.244 ,  8591.682 , 33888.992 ],\n",
       "      dtype=float32)"
      ]
     },
     "execution_count": 50,
     "metadata": {},
     "output_type": "execute_result"
    }
   ],
   "source": [
    "randomized_acc.predict(X_test[:30])"
   ]
  },
  {
   "cell_type": "code",
   "execution_count": 51,
   "metadata": {},
   "outputs": [
    {
     "data": {
      "text/plain": [
       "array([ 5897.5435,  3589.998 , 12677.96  , 12883.298 , 13281.445 ,\n",
       "       23796.945 , 18692.29  , 18910.85  , 18616.21  ,  7782.0625,\n",
       "       20065.012 , 25502.777 , 54936.035 ,  1125.7573, 13505.11  ,\n",
       "       10345.204 , 19314.967 , 16006.601 , 26625.186 , 34412.938 ,\n",
       "       11674.806 , 22135.527 , 34636.793 ,  9275.762 , 22364.465 ,\n",
       "       15710.172 ,  5744.3174, 15488.465 ,  8528.54  , 33515.01  ],\n",
       "      dtype=float32)"
      ]
     },
     "execution_count": 51,
     "metadata": {},
     "output_type": "execute_result"
    }
   ],
   "source": [
    "clf2.predict(X_test[:30])"
   ]
  },
  {
   "cell_type": "code",
   "execution_count": 52,
   "metadata": {},
   "outputs": [],
   "source": [
    "# split to training and testing sets\n",
    "X_train, X_test, y_train, y_test = train_test_split(X, y, test_size=0.2, random_state=2)"
   ]
  },
  {
   "cell_type": "code",
   "execution_count": 53,
   "metadata": {},
   "outputs": [],
   "source": [
    "import matplotlib.pyplot as plt\n",
    "from scipy import stats\n",
    "import seaborn as sns\n",
    "from scipy.stats import norm, skew, kurtosis"
   ]
  },
  {
   "cell_type": "code",
   "execution_count": 54,
   "metadata": {},
   "outputs": [
    {
     "data": {
      "image/png": "[encoded data removed]",
      "text/plain": [
       "<Figure size 432x288 with 1 Axes>"
      ]
     },
     "metadata": {
      "needs_background": "light"
     },
     "output_type": "display_data"
    }
   ],
   "source": [
    "### BEGIN SOLUTION\n",
    "predictions = randomized_mse.predict(X_test)\n",
    "plt.scatter(randomized_mse.predict(X_train), randomized_mse.predict(X_train) - y_train, c=\"blue\", label=\"Training Data\")\n",
    "plt.scatter(randomized_mse.predict(X_test), randomized_mse.predict(X_test) - y_test, c=\"orange\", label=\"Testing Data\")\n",
    "plt.legend()\n",
    "plt.hlines(y=0, xmin=y_test.min(), xmax=y_test.max())\n",
    "plt.title(\"Residual Plot\")\n",
    "plt.show()\n",
    "### END SOLUTION"
   ]
  },
  {
   "cell_type": "code",
   "execution_count": null,
   "metadata": {},
   "outputs": [],
   "source": []
  }
 ],
 "metadata": {
  "celltoolbar": "Create Assignment",
  "kernelspec": {
   "display_name": "Python [conda env:ML] *",
   "language": "python",
   "name": "conda-env-ML-py"
  },
  "language_info": {
   "codemirror_mode": {
    "name": "ipython",
    "version": 3
   },
   "file_extension": ".py",
   "mimetype": "text/x-python",
   "name": "python",
   "nbconvert_exporter": "python",
   "pygments_lexer": "ipython3",
   "version": "3.8.5"
  },
  "varInspector": {
   "cols": {
    "lenName": 16,
    "lenType": 16,
    "lenVar": 40
   },
   "kernels_config": {
    "python": {
     "delete_cmd_postfix": "",
     "delete_cmd_prefix": "del ",
     "library": "var_list.py",
     "varRefreshCmd": "print(var_dic_list())"
    },
    "r": {
     "delete_cmd_postfix": ") ",
     "delete_cmd_prefix": "rm(",
     "library": "var_list.r",
     "varRefreshCmd": "cat(var_dic_list()) "
    }
   },
   "types_to_exclude": [
    "module",
    "function",
    "builtin_function_or_method",
    "instance",
    "_Feature"
   ],
   "window_display": false
  }
 },
 "nbformat": 4,
 "nbformat_minor": 2
}
