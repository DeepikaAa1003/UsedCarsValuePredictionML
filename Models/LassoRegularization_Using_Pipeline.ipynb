{
 "cells": [
  {
   "cell_type": "markdown",
   "metadata": {},
   "source": [
    "# Lasso Regression - Regularization:\n",
    "\n",
    "In this notebook, a \"Lasso\" model was created, and GridSearchCV was used to tune alpha \"Hyperparameter\""
   ]
  },
  {
   "cell_type": "code",
   "execution_count": 1,
   "metadata": {},
   "outputs": [],
   "source": [
    "# Import Dependencies\n",
    "import matplotlib.pyplot as plt\n",
    "import numpy as np\n",
    "import pandas as pd\n",
    "import glob\n",
    "import os\n",
    "from sklearn.compose import ColumnTransformer\n",
    "from sklearn.pipeline import Pipeline\n",
    "from sklearn.preprocessing import PolynomialFeatures\n",
    "from sklearn.preprocessing import StandardScaler, OneHotEncoder\n",
    "from sklearn.linear_model import LinearRegression\n",
    "from sklearn.model_selection import train_test_split\n",
    "from sklearn.linear_model import Lasso\n",
    "from sklearn.model_selection import GridSearchCV\n",
    "from sklearn.pipeline import make_pipeline"
   ]
  },
  {
   "cell_type": "markdown",
   "metadata": {},
   "source": [
    "Different brands and models were concatenated to one dataframe"
   ]
  },
  {
   "cell_type": "code",
   "execution_count": 2,
   "metadata": {},
   "outputs": [
    {
     "data": {
      "text/html": [
       "<div>\n",
       "<style scoped>\n",
       "    .dataframe tbody tr th:only-of-type {\n",
       "        vertical-align: middle;\n",
       "    }\n",
       "\n",
       "    .dataframe tbody tr th {\n",
       "        vertical-align: top;\n",
       "    }\n",
       "\n",
       "    .dataframe thead th {\n",
       "        text-align: right;\n",
       "    }\n",
       "</style>\n",
       "<table border=\"1\" class=\"dataframe\">\n",
       "  <thead>\n",
       "    <tr style=\"text-align: right;\">\n",
       "      <th></th>\n",
       "      <th>model</th>\n",
       "      <th>year</th>\n",
       "      <th>price</th>\n",
       "      <th>transmission</th>\n",
       "      <th>mileage</th>\n",
       "      <th>fuelType</th>\n",
       "      <th>tax</th>\n",
       "      <th>mpg</th>\n",
       "      <th>engineSize</th>\n",
       "      <th>make</th>\n",
       "    </tr>\n",
       "  </thead>\n",
       "  <tbody>\n",
       "    <tr>\n",
       "      <th>0</th>\n",
       "      <td>A1</td>\n",
       "      <td>2017</td>\n",
       "      <td>12500</td>\n",
       "      <td>Manual</td>\n",
       "      <td>15735</td>\n",
       "      <td>Petrol</td>\n",
       "      <td>150</td>\n",
       "      <td>55.4</td>\n",
       "      <td>1.4</td>\n",
       "      <td>Audi</td>\n",
       "    </tr>\n",
       "    <tr>\n",
       "      <th>1</th>\n",
       "      <td>A6</td>\n",
       "      <td>2016</td>\n",
       "      <td>16500</td>\n",
       "      <td>Automatic</td>\n",
       "      <td>36203</td>\n",
       "      <td>Diesel</td>\n",
       "      <td>20</td>\n",
       "      <td>64.2</td>\n",
       "      <td>2.0</td>\n",
       "      <td>Audi</td>\n",
       "    </tr>\n",
       "    <tr>\n",
       "      <th>2</th>\n",
       "      <td>A1</td>\n",
       "      <td>2016</td>\n",
       "      <td>11000</td>\n",
       "      <td>Manual</td>\n",
       "      <td>29946</td>\n",
       "      <td>Petrol</td>\n",
       "      <td>30</td>\n",
       "      <td>55.4</td>\n",
       "      <td>1.4</td>\n",
       "      <td>Audi</td>\n",
       "    </tr>\n",
       "    <tr>\n",
       "      <th>3</th>\n",
       "      <td>A4</td>\n",
       "      <td>2017</td>\n",
       "      <td>16800</td>\n",
       "      <td>Automatic</td>\n",
       "      <td>25952</td>\n",
       "      <td>Diesel</td>\n",
       "      <td>145</td>\n",
       "      <td>67.3</td>\n",
       "      <td>2.0</td>\n",
       "      <td>Audi</td>\n",
       "    </tr>\n",
       "    <tr>\n",
       "      <th>4</th>\n",
       "      <td>A3</td>\n",
       "      <td>2019</td>\n",
       "      <td>17300</td>\n",
       "      <td>Manual</td>\n",
       "      <td>1998</td>\n",
       "      <td>Petrol</td>\n",
       "      <td>145</td>\n",
       "      <td>49.6</td>\n",
       "      <td>1.0</td>\n",
       "      <td>Audi</td>\n",
       "    </tr>\n",
       "    <tr>\n",
       "      <th>...</th>\n",
       "      <td>...</td>\n",
       "      <td>...</td>\n",
       "      <td>...</td>\n",
       "      <td>...</td>\n",
       "      <td>...</td>\n",
       "      <td>...</td>\n",
       "      <td>...</td>\n",
       "      <td>...</td>\n",
       "      <td>...</td>\n",
       "      <td>...</td>\n",
       "    </tr>\n",
       "    <tr>\n",
       "      <th>85550</th>\n",
       "      <td>I30</td>\n",
       "      <td>2016</td>\n",
       "      <td>8680</td>\n",
       "      <td>Manual</td>\n",
       "      <td>25906</td>\n",
       "      <td>Diesel</td>\n",
       "      <td>0</td>\n",
       "      <td>78.4</td>\n",
       "      <td>1.6</td>\n",
       "      <td>Hyundi</td>\n",
       "    </tr>\n",
       "    <tr>\n",
       "      <th>85551</th>\n",
       "      <td>I40</td>\n",
       "      <td>2015</td>\n",
       "      <td>7830</td>\n",
       "      <td>Manual</td>\n",
       "      <td>59508</td>\n",
       "      <td>Diesel</td>\n",
       "      <td>30</td>\n",
       "      <td>65.7</td>\n",
       "      <td>1.7</td>\n",
       "      <td>Hyundi</td>\n",
       "    </tr>\n",
       "    <tr>\n",
       "      <th>85552</th>\n",
       "      <td>I10</td>\n",
       "      <td>2017</td>\n",
       "      <td>6830</td>\n",
       "      <td>Manual</td>\n",
       "      <td>13810</td>\n",
       "      <td>Petrol</td>\n",
       "      <td>20</td>\n",
       "      <td>60.1</td>\n",
       "      <td>1.0</td>\n",
       "      <td>Hyundi</td>\n",
       "    </tr>\n",
       "    <tr>\n",
       "      <th>85553</th>\n",
       "      <td>Tucson</td>\n",
       "      <td>2018</td>\n",
       "      <td>13994</td>\n",
       "      <td>Manual</td>\n",
       "      <td>23313</td>\n",
       "      <td>Petrol</td>\n",
       "      <td>145</td>\n",
       "      <td>44.8</td>\n",
       "      <td>1.6</td>\n",
       "      <td>Hyundi</td>\n",
       "    </tr>\n",
       "    <tr>\n",
       "      <th>85554</th>\n",
       "      <td>Tucson</td>\n",
       "      <td>2016</td>\n",
       "      <td>15999</td>\n",
       "      <td>Automatic</td>\n",
       "      <td>11472</td>\n",
       "      <td>Diesel</td>\n",
       "      <td>125</td>\n",
       "      <td>57.6</td>\n",
       "      <td>1.7</td>\n",
       "      <td>Hyundi</td>\n",
       "    </tr>\n",
       "  </tbody>\n",
       "</table>\n",
       "<p>85555 rows × 10 columns</p>\n",
       "</div>"
      ],
      "text/plain": [
       "         model  year  price transmission  mileage fuelType  tax   mpg  \\\n",
       "0           A1  2017  12500       Manual    15735   Petrol  150  55.4   \n",
       "1           A6  2016  16500    Automatic    36203   Diesel   20  64.2   \n",
       "2           A1  2016  11000       Manual    29946   Petrol   30  55.4   \n",
       "3           A4  2017  16800    Automatic    25952   Diesel  145  67.3   \n",
       "4           A3  2019  17300       Manual     1998   Petrol  145  49.6   \n",
       "...        ...   ...    ...          ...      ...      ...  ...   ...   \n",
       "85550      I30  2016   8680       Manual    25906   Diesel    0  78.4   \n",
       "85551      I40  2015   7830       Manual    59508   Diesel   30  65.7   \n",
       "85552      I10  2017   6830       Manual    13810   Petrol   20  60.1   \n",
       "85553   Tucson  2018  13994       Manual    23313   Petrol  145  44.8   \n",
       "85554   Tucson  2016  15999    Automatic    11472   Diesel  125  57.6   \n",
       "\n",
       "       engineSize    make  \n",
       "0             1.4    Audi  \n",
       "1             2.0    Audi  \n",
       "2             1.4    Audi  \n",
       "3             2.0    Audi  \n",
       "4             1.0    Audi  \n",
       "...           ...     ...  \n",
       "85550         1.6  Hyundi  \n",
       "85551         1.7  Hyundi  \n",
       "85552         1.0  Hyundi  \n",
       "85553         1.6  Hyundi  \n",
       "85554         1.7  Hyundi  \n",
       "\n",
       "[85555 rows x 10 columns]"
      ]
     },
     "execution_count": 2,
     "metadata": {},
     "output_type": "execute_result"
    }
   ],
   "source": [
    "# Read and concatenate all CSV's\n",
    "\n",
    "path = r'D:\\Data_Analytics\\Project 3\\Data'\n",
    "all_files = glob.glob(path + \"/*.csv\")\n",
    "\n",
    "li = []\n",
    "brands = [\"Audi\",\"Skoda\",\"BMW\",\"Volkswagen\",\"Toyota\",\"Mercedes Benz\",\"Ford\",\"Hyundi\"]\n",
    "\n",
    "for filename, brand in zip(all_files, brands):\n",
    "    df = pd.read_csv(filename, index_col=None, header=0)\n",
    "    df[\"make\"] = brand\n",
    "    li.append(df)\n",
    "    \n",
    "frame = pd.concat(li, axis=0, ignore_index=True)\n",
    "frame\n"
   ]
  },
  {
   "cell_type": "markdown",
   "metadata": {},
   "source": [
    "# Pipeline"
   ]
  },
  {
   "cell_type": "markdown",
   "metadata": {},
   "source": [
    "Categorical and Numeric Features were preprocessed separately"
   ]
  },
  {
   "cell_type": "code",
   "execution_count": 3,
   "metadata": {},
   "outputs": [],
   "source": [
    "# define numeric features\n",
    "\n",
    "num_features = ['year','mileage',\n",
    "                    'tax','mpg',\n",
    "                    'engineSize']\n",
    "\n",
    "# Pipeline steps to transform numeric features\n",
    "num_transformer = Pipeline(steps=[('poly',PolynomialFeatures(degree = 3)),\n",
    "                                      ('scaler', StandardScaler())])"
   ]
  },
  {
   "cell_type": "code",
   "execution_count": 4,
   "metadata": {},
   "outputs": [],
   "source": [
    "# define categorical features\n",
    "\n",
    "cat_features = ['model','transmission','fuelType','make']\n",
    "\n",
    "# Pipeline to transform (encode) categorical features\n",
    "\n",
    "cat_transformer = Pipeline(steps=[\n",
    "    ('onehot', OneHotEncoder(handle_unknown='ignore'))])"
   ]
  },
  {
   "cell_type": "code",
   "execution_count": 5,
   "metadata": {},
   "outputs": [],
   "source": [
    "# Use \"ColumnTransformer\" to join both categorical and numeric pipelines\n",
    "preprocessor = ColumnTransformer(\n",
    "    transformers=[\n",
    "        ('num', num_transformer, num_features),\n",
    "        ('cat', cat_transformer, cat_features)])"
   ]
  },
  {
   "cell_type": "code",
   "execution_count": 6,
   "metadata": {},
   "outputs": [],
   "source": [
    "# define Lasso model\n",
    "lasso_model = Lasso(max_iter=15000, tol=0.1, random_state = 42)"
   ]
  },
  {
   "cell_type": "code",
   "execution_count": 7,
   "metadata": {},
   "outputs": [],
   "source": [
    "# Create a pipeline that execute \"preprocessor\" and the Lasso model\n",
    "regression = Pipeline(steps=[('preprocessor', preprocessor),\n",
    "                      ('regressor',lasso_model )])"
   ]
  },
  {
   "cell_type": "code",
   "execution_count": 8,
   "metadata": {},
   "outputs": [],
   "source": [
    "# Define X, y\n",
    "\n",
    "X = frame.drop('price', axis = 1)\n",
    "y = frame['price']"
   ]
  },
  {
   "cell_type": "code",
   "execution_count": 9,
   "metadata": {
    "scrolled": true
   },
   "outputs": [],
   "source": [
    "# Split X,y into train and test\n",
    "\n",
    "X_train, X_test, y_train, y_test = train_test_split(X, y, random_state = 42)"
   ]
  },
  {
   "cell_type": "code",
   "execution_count": 10,
   "metadata": {},
   "outputs": [
    {
     "data": {
      "text/plain": [
       "dict_keys(['memory', 'steps', 'verbose', 'preprocessor', 'regressor', 'preprocessor__n_jobs', 'preprocessor__remainder', 'preprocessor__sparse_threshold', 'preprocessor__transformer_weights', 'preprocessor__transformers', 'preprocessor__verbose', 'preprocessor__num', 'preprocessor__cat', 'preprocessor__num__memory', 'preprocessor__num__steps', 'preprocessor__num__verbose', 'preprocessor__num__poly', 'preprocessor__num__scaler', 'preprocessor__num__poly__degree', 'preprocessor__num__poly__include_bias', 'preprocessor__num__poly__interaction_only', 'preprocessor__num__poly__order', 'preprocessor__num__scaler__copy', 'preprocessor__num__scaler__with_mean', 'preprocessor__num__scaler__with_std', 'preprocessor__cat__memory', 'preprocessor__cat__steps', 'preprocessor__cat__verbose', 'preprocessor__cat__onehot', 'preprocessor__cat__onehot__categories', 'preprocessor__cat__onehot__drop', 'preprocessor__cat__onehot__dtype', 'preprocessor__cat__onehot__handle_unknown', 'preprocessor__cat__onehot__sparse', 'regressor__alpha', 'regressor__copy_X', 'regressor__fit_intercept', 'regressor__max_iter', 'regressor__normalize', 'regressor__positive', 'regressor__precompute', 'regressor__random_state', 'regressor__selection', 'regressor__tol', 'regressor__warm_start'])"
      ]
     },
     "execution_count": 10,
     "metadata": {},
     "output_type": "execute_result"
    }
   ],
   "source": [
    "# search hyperparameters\n",
    "\n",
    "regression.get_params().keys()"
   ]
  },
  {
   "cell_type": "code",
   "execution_count": 11,
   "metadata": {},
   "outputs": [],
   "source": [
    "# define parameters grid\n",
    "param_grid = {'regressor__alpha': [0.001, 0.01,0.02,0.03,0.04, 0.05, 0.06,0.07, 0.08, 1, 2],\n",
    "             'regressor__selection':['random','cyclic']}"
   ]
  },
  {
   "cell_type": "code",
   "execution_count": 12,
   "metadata": {},
   "outputs": [],
   "source": [
    "# apply GridSearchCV for tuning\n",
    "search = GridSearchCV(regression, param_grid, scoring = 'r2', verbose = 3)"
   ]
  },
  {
   "cell_type": "code",
   "execution_count": 13,
   "metadata": {},
   "outputs": [
    {
     "name": "stdout",
     "output_type": "stream",
     "text": [
      "Fitting 5 folds for each of 22 candidates, totalling 110 fits\n",
      "[CV] regressor__alpha=0.001, regressor__selection=random .............\n"
     ]
    },
    {
     "name": "stderr",
     "output_type": "stream",
     "text": [
      "[Parallel(n_jobs=1)]: Using backend SequentialBackend with 1 concurrent workers.\n"
     ]
    },
    {
     "name": "stdout",
     "output_type": "stream",
     "text": [
      "[CV]  regressor__alpha=0.001, regressor__selection=random, score=0.891, total=   1.0s\n",
      "[CV] regressor__alpha=0.001, regressor__selection=random .............\n"
     ]
    },
    {
     "name": "stderr",
     "output_type": "stream",
     "text": [
      "[Parallel(n_jobs=1)]: Done   1 out of   1 | elapsed:    0.9s remaining:    0.0s\n"
     ]
    },
    {
     "name": "stdout",
     "output_type": "stream",
     "text": [
      "[CV]  regressor__alpha=0.001, regressor__selection=random, score=0.901, total=   1.1s\n",
      "[CV] regressor__alpha=0.001, regressor__selection=random .............\n"
     ]
    },
    {
     "name": "stderr",
     "output_type": "stream",
     "text": [
      "[Parallel(n_jobs=1)]: Done   2 out of   2 | elapsed:    2.0s remaining:    0.0s\n"
     ]
    },
    {
     "name": "stdout",
     "output_type": "stream",
     "text": [
      "[CV]  regressor__alpha=0.001, regressor__selection=random, score=0.898, total=   1.1s\n",
      "[CV] regressor__alpha=0.001, regressor__selection=random .............\n",
      "[CV]  regressor__alpha=0.001, regressor__selection=random, score=0.898, total=   1.1s\n",
      "[CV] regressor__alpha=0.001, regressor__selection=random .............\n",
      "[CV]  regressor__alpha=0.001, regressor__selection=random, score=0.894, total=   1.0s\n",
      "[CV] regressor__alpha=0.001, regressor__selection=cyclic .............\n",
      "[CV]  regressor__alpha=0.001, regressor__selection=cyclic, score=0.880, total=   0.8s\n",
      "[CV] regressor__alpha=0.001, regressor__selection=cyclic .............\n",
      "[CV]  regressor__alpha=0.001, regressor__selection=cyclic, score=0.889, total=   0.8s\n",
      "[CV] regressor__alpha=0.001, regressor__selection=cyclic .............\n",
      "[CV]  regressor__alpha=0.001, regressor__selection=cyclic, score=0.877, total=   0.9s\n",
      "[CV] regressor__alpha=0.001, regressor__selection=cyclic .............\n",
      "[CV]  regressor__alpha=0.001, regressor__selection=cyclic, score=0.878, total=   0.8s\n",
      "[CV] regressor__alpha=0.001, regressor__selection=cyclic .............\n",
      "[CV]  regressor__alpha=0.001, regressor__selection=cyclic, score=0.882, total=   0.8s\n",
      "[CV] regressor__alpha=0.01, regressor__selection=random ..............\n",
      "[CV]  regressor__alpha=0.01, regressor__selection=random, score=0.891, total=   1.0s\n",
      "[CV] regressor__alpha=0.01, regressor__selection=random ..............\n",
      "[CV]  regressor__alpha=0.01, regressor__selection=random, score=0.901, total=   1.2s\n",
      "[CV] regressor__alpha=0.01, regressor__selection=random ..............\n",
      "[CV]  regressor__alpha=0.01, regressor__selection=random, score=0.898, total=   1.2s\n",
      "[CV] regressor__alpha=0.01, regressor__selection=random ..............\n",
      "[CV]  regressor__alpha=0.01, regressor__selection=random, score=0.898, total=   1.2s\n",
      "[CV] regressor__alpha=0.01, regressor__selection=random ..............\n",
      "[CV]  regressor__alpha=0.01, regressor__selection=random, score=0.893, total=   1.0s\n",
      "[CV] regressor__alpha=0.01, regressor__selection=cyclic ..............\n",
      "[CV]  regressor__alpha=0.01, regressor__selection=cyclic, score=0.880, total=   0.9s\n",
      "[CV] regressor__alpha=0.01, regressor__selection=cyclic ..............\n",
      "[CV]  regressor__alpha=0.01, regressor__selection=cyclic, score=0.889, total=   0.9s\n",
      "[CV] regressor__alpha=0.01, regressor__selection=cyclic ..............\n",
      "[CV]  regressor__alpha=0.01, regressor__selection=cyclic, score=0.877, total=   0.9s\n",
      "[CV] regressor__alpha=0.01, regressor__selection=cyclic ..............\n",
      "[CV]  regressor__alpha=0.01, regressor__selection=cyclic, score=0.878, total=   0.9s\n",
      "[CV] regressor__alpha=0.01, regressor__selection=cyclic ..............\n",
      "[CV]  regressor__alpha=0.01, regressor__selection=cyclic, score=0.882, total=   0.9s\n",
      "[CV] regressor__alpha=0.02, regressor__selection=random ..............\n",
      "[CV]  regressor__alpha=0.02, regressor__selection=random, score=0.891, total=   1.1s\n",
      "[CV] regressor__alpha=0.02, regressor__selection=random ..............\n",
      "[CV]  regressor__alpha=0.02, regressor__selection=random, score=0.901, total=   1.2s\n",
      "[CV] regressor__alpha=0.02, regressor__selection=random ..............\n",
      "[CV]  regressor__alpha=0.02, regressor__selection=random, score=0.898, total=   1.1s\n",
      "[CV] regressor__alpha=0.02, regressor__selection=random ..............\n",
      "[CV]  regressor__alpha=0.02, regressor__selection=random, score=0.898, total=   1.1s\n",
      "[CV] regressor__alpha=0.02, regressor__selection=random ..............\n",
      "[CV]  regressor__alpha=0.02, regressor__selection=random, score=0.893, total=   0.9s\n",
      "[CV] regressor__alpha=0.02, regressor__selection=cyclic ..............\n",
      "[CV]  regressor__alpha=0.02, regressor__selection=cyclic, score=0.880, total=   0.8s\n",
      "[CV] regressor__alpha=0.02, regressor__selection=cyclic ..............\n",
      "[CV]  regressor__alpha=0.02, regressor__selection=cyclic, score=0.889, total=   0.8s\n",
      "[CV] regressor__alpha=0.02, regressor__selection=cyclic ..............\n",
      "[CV]  regressor__alpha=0.02, regressor__selection=cyclic, score=0.877, total=   0.9s\n",
      "[CV] regressor__alpha=0.02, regressor__selection=cyclic ..............\n",
      "[CV]  regressor__alpha=0.02, regressor__selection=cyclic, score=0.878, total=   0.9s\n",
      "[CV] regressor__alpha=0.02, regressor__selection=cyclic ..............\n",
      "[CV]  regressor__alpha=0.02, regressor__selection=cyclic, score=0.882, total=   0.8s\n",
      "[CV] regressor__alpha=0.03, regressor__selection=random ..............\n",
      "[CV]  regressor__alpha=0.03, regressor__selection=random, score=0.891, total=   1.1s\n",
      "[CV] regressor__alpha=0.03, regressor__selection=random ..............\n",
      "[CV]  regressor__alpha=0.03, regressor__selection=random, score=0.901, total=   1.0s\n",
      "[CV] regressor__alpha=0.03, regressor__selection=random ..............\n",
      "[CV]  regressor__alpha=0.03, regressor__selection=random, score=0.898, total=   1.0s\n",
      "[CV] regressor__alpha=0.03, regressor__selection=random ..............\n",
      "[CV]  regressor__alpha=0.03, regressor__selection=random, score=0.898, total=   1.1s\n",
      "[CV] regressor__alpha=0.03, regressor__selection=random ..............\n",
      "[CV]  regressor__alpha=0.03, regressor__selection=random, score=0.893, total=   0.9s\n",
      "[CV] regressor__alpha=0.03, regressor__selection=cyclic ..............\n",
      "[CV]  regressor__alpha=0.03, regressor__selection=cyclic, score=0.880, total=   0.8s\n",
      "[CV] regressor__alpha=0.03, regressor__selection=cyclic ..............\n",
      "[CV]  regressor__alpha=0.03, regressor__selection=cyclic, score=0.889, total=   0.8s\n",
      "[CV] regressor__alpha=0.03, regressor__selection=cyclic ..............\n",
      "[CV]  regressor__alpha=0.03, regressor__selection=cyclic, score=0.877, total=   0.8s\n",
      "[CV] regressor__alpha=0.03, regressor__selection=cyclic ..............\n",
      "[CV]  regressor__alpha=0.03, regressor__selection=cyclic, score=0.878, total=   0.9s\n",
      "[CV] regressor__alpha=0.03, regressor__selection=cyclic ..............\n",
      "[CV]  regressor__alpha=0.03, regressor__selection=cyclic, score=0.882, total=   0.9s\n",
      "[CV] regressor__alpha=0.04, regressor__selection=random ..............\n",
      "[CV]  regressor__alpha=0.04, regressor__selection=random, score=0.891, total=   0.9s\n",
      "[CV] regressor__alpha=0.04, regressor__selection=random ..............\n",
      "[CV]  regressor__alpha=0.04, regressor__selection=random, score=0.901, total=   1.0s\n",
      "[CV] regressor__alpha=0.04, regressor__selection=random ..............\n",
      "[CV]  regressor__alpha=0.04, regressor__selection=random, score=0.898, total=   1.0s\n",
      "[CV] regressor__alpha=0.04, regressor__selection=random ..............\n",
      "[CV]  regressor__alpha=0.04, regressor__selection=random, score=0.898, total=   1.1s\n",
      "[CV] regressor__alpha=0.04, regressor__selection=random ..............\n",
      "[CV]  regressor__alpha=0.04, regressor__selection=random, score=0.893, total=   0.9s\n",
      "[CV] regressor__alpha=0.04, regressor__selection=cyclic ..............\n",
      "[CV]  regressor__alpha=0.04, regressor__selection=cyclic, score=0.880, total=   0.8s\n",
      "[CV] regressor__alpha=0.04, regressor__selection=cyclic ..............\n",
      "[CV]  regressor__alpha=0.04, regressor__selection=cyclic, score=0.889, total=   0.8s\n",
      "[CV] regressor__alpha=0.04, regressor__selection=cyclic ..............\n",
      "[CV]  regressor__alpha=0.04, regressor__selection=cyclic, score=0.877, total=   0.8s\n",
      "[CV] regressor__alpha=0.04, regressor__selection=cyclic ..............\n",
      "[CV]  regressor__alpha=0.04, regressor__selection=cyclic, score=0.878, total=   0.8s\n",
      "[CV] regressor__alpha=0.04, regressor__selection=cyclic ..............\n",
      "[CV]  regressor__alpha=0.04, regressor__selection=cyclic, score=0.882, total=   0.9s\n",
      "[CV] regressor__alpha=0.05, regressor__selection=random ..............\n",
      "[CV]  regressor__alpha=0.05, regressor__selection=random, score=0.891, total=   1.1s\n",
      "[CV] regressor__alpha=0.05, regressor__selection=random ..............\n",
      "[CV]  regressor__alpha=0.05, regressor__selection=random, score=0.901, total=   1.2s\n",
      "[CV] regressor__alpha=0.05, regressor__selection=random ..............\n",
      "[CV]  regressor__alpha=0.05, regressor__selection=random, score=0.898, total=   1.1s\n",
      "[CV] regressor__alpha=0.05, regressor__selection=random ..............\n",
      "[CV]  regressor__alpha=0.05, regressor__selection=random, score=0.898, total=   1.2s\n",
      "[CV] regressor__alpha=0.05, regressor__selection=random ..............\n",
      "[CV]  regressor__alpha=0.05, regressor__selection=random, score=0.893, total=   0.9s\n",
      "[CV] regressor__alpha=0.05, regressor__selection=cyclic ..............\n"
     ]
    },
    {
     "name": "stdout",
     "output_type": "stream",
     "text": [
      "[CV]  regressor__alpha=0.05, regressor__selection=cyclic, score=0.880, total=   0.9s\n",
      "[CV] regressor__alpha=0.05, regressor__selection=cyclic ..............\n",
      "[CV]  regressor__alpha=0.05, regressor__selection=cyclic, score=0.889, total=   0.9s\n",
      "[CV] regressor__alpha=0.05, regressor__selection=cyclic ..............\n",
      "[CV]  regressor__alpha=0.05, regressor__selection=cyclic, score=0.877, total=   0.9s\n",
      "[CV] regressor__alpha=0.05, regressor__selection=cyclic ..............\n",
      "[CV]  regressor__alpha=0.05, regressor__selection=cyclic, score=0.878, total=   0.8s\n",
      "[CV] regressor__alpha=0.05, regressor__selection=cyclic ..............\n",
      "[CV]  regressor__alpha=0.05, regressor__selection=cyclic, score=0.882, total=   0.9s\n",
      "[CV] regressor__alpha=0.06, regressor__selection=random ..............\n",
      "[CV]  regressor__alpha=0.06, regressor__selection=random, score=0.891, total=   1.0s\n",
      "[CV] regressor__alpha=0.06, regressor__selection=random ..............\n",
      "[CV]  regressor__alpha=0.06, regressor__selection=random, score=0.901, total=   1.1s\n",
      "[CV] regressor__alpha=0.06, regressor__selection=random ..............\n",
      "[CV]  regressor__alpha=0.06, regressor__selection=random, score=0.898, total=   1.1s\n",
      "[CV] regressor__alpha=0.06, regressor__selection=random ..............\n",
      "[CV]  regressor__alpha=0.06, regressor__selection=random, score=0.898, total=   1.2s\n",
      "[CV] regressor__alpha=0.06, regressor__selection=random ..............\n",
      "[CV]  regressor__alpha=0.06, regressor__selection=random, score=0.893, total=   1.0s\n",
      "[CV] regressor__alpha=0.06, regressor__selection=cyclic ..............\n",
      "[CV]  regressor__alpha=0.06, regressor__selection=cyclic, score=0.880, total=   0.9s\n",
      "[CV] regressor__alpha=0.06, regressor__selection=cyclic ..............\n",
      "[CV]  regressor__alpha=0.06, regressor__selection=cyclic, score=0.889, total=   0.9s\n",
      "[CV] regressor__alpha=0.06, regressor__selection=cyclic ..............\n",
      "[CV]  regressor__alpha=0.06, regressor__selection=cyclic, score=0.877, total=   0.8s\n",
      "[CV] regressor__alpha=0.06, regressor__selection=cyclic ..............\n",
      "[CV]  regressor__alpha=0.06, regressor__selection=cyclic, score=0.878, total=   0.8s\n",
      "[CV] regressor__alpha=0.06, regressor__selection=cyclic ..............\n",
      "[CV]  regressor__alpha=0.06, regressor__selection=cyclic, score=0.882, total=   0.8s\n",
      "[CV] regressor__alpha=0.07, regressor__selection=random ..............\n",
      "[CV]  regressor__alpha=0.07, regressor__selection=random, score=0.891, total=   0.9s\n",
      "[CV] regressor__alpha=0.07, regressor__selection=random ..............\n",
      "[CV]  regressor__alpha=0.07, regressor__selection=random, score=0.901, total=   1.0s\n",
      "[CV] regressor__alpha=0.07, regressor__selection=random ..............\n",
      "[CV]  regressor__alpha=0.07, regressor__selection=random, score=0.898, total=   1.1s\n",
      "[CV] regressor__alpha=0.07, regressor__selection=random ..............\n",
      "[CV]  regressor__alpha=0.07, regressor__selection=random, score=0.898, total=   1.3s\n",
      "[CV] regressor__alpha=0.07, regressor__selection=random ..............\n",
      "[CV]  regressor__alpha=0.07, regressor__selection=random, score=0.893, total=   1.0s\n",
      "[CV] regressor__alpha=0.07, regressor__selection=cyclic ..............\n",
      "[CV]  regressor__alpha=0.07, regressor__selection=cyclic, score=0.880, total=   0.8s\n",
      "[CV] regressor__alpha=0.07, regressor__selection=cyclic ..............\n",
      "[CV]  regressor__alpha=0.07, regressor__selection=cyclic, score=0.889, total=   0.9s\n",
      "[CV] regressor__alpha=0.07, regressor__selection=cyclic ..............\n",
      "[CV]  regressor__alpha=0.07, regressor__selection=cyclic, score=0.877, total=   0.8s\n",
      "[CV] regressor__alpha=0.07, regressor__selection=cyclic ..............\n",
      "[CV]  regressor__alpha=0.07, regressor__selection=cyclic, score=0.878, total=   0.8s\n",
      "[CV] regressor__alpha=0.07, regressor__selection=cyclic ..............\n",
      "[CV]  regressor__alpha=0.07, regressor__selection=cyclic, score=0.882, total=   0.8s\n",
      "[CV] regressor__alpha=0.08, regressor__selection=random ..............\n",
      "[CV]  regressor__alpha=0.08, regressor__selection=random, score=0.891, total=   1.0s\n",
      "[CV] regressor__alpha=0.08, regressor__selection=random ..............\n",
      "[CV]  regressor__alpha=0.08, regressor__selection=random, score=0.901, total=   1.1s\n",
      "[CV] regressor__alpha=0.08, regressor__selection=random ..............\n",
      "[CV]  regressor__alpha=0.08, regressor__selection=random, score=0.898, total=   1.0s\n",
      "[CV] regressor__alpha=0.08, regressor__selection=random ..............\n",
      "[CV]  regressor__alpha=0.08, regressor__selection=random, score=0.898, total=   1.1s\n",
      "[CV] regressor__alpha=0.08, regressor__selection=random ..............\n",
      "[CV]  regressor__alpha=0.08, regressor__selection=random, score=0.893, total=   0.9s\n",
      "[CV] regressor__alpha=0.08, regressor__selection=cyclic ..............\n",
      "[CV]  regressor__alpha=0.08, regressor__selection=cyclic, score=0.880, total=   0.8s\n",
      "[CV] regressor__alpha=0.08, regressor__selection=cyclic ..............\n",
      "[CV]  regressor__alpha=0.08, regressor__selection=cyclic, score=0.889, total=   0.8s\n",
      "[CV] regressor__alpha=0.08, regressor__selection=cyclic ..............\n",
      "[CV]  regressor__alpha=0.08, regressor__selection=cyclic, score=0.877, total=   0.8s\n",
      "[CV] regressor__alpha=0.08, regressor__selection=cyclic ..............\n",
      "[CV]  regressor__alpha=0.08, regressor__selection=cyclic, score=0.878, total=   0.9s\n",
      "[CV] regressor__alpha=0.08, regressor__selection=cyclic ..............\n",
      "[CV]  regressor__alpha=0.08, regressor__selection=cyclic, score=0.882, total=   0.8s\n",
      "[CV] regressor__alpha=1, regressor__selection=random .................\n",
      "[CV]  regressor__alpha=1, regressor__selection=random, score=0.889, total=   0.9s\n",
      "[CV] regressor__alpha=1, regressor__selection=random .................\n",
      "[CV]  regressor__alpha=1, regressor__selection=random, score=0.899, total=   1.0s\n",
      "[CV] regressor__alpha=1, regressor__selection=random .................\n",
      "[CV]  regressor__alpha=1, regressor__selection=random, score=0.893, total=   1.0s\n",
      "[CV] regressor__alpha=1, regressor__selection=random .................\n",
      "[CV]  regressor__alpha=1, regressor__selection=random, score=0.890, total=   1.1s\n",
      "[CV] regressor__alpha=1, regressor__selection=random .................\n",
      "[CV]  regressor__alpha=1, regressor__selection=random, score=0.891, total=   1.1s\n",
      "[CV] regressor__alpha=1, regressor__selection=cyclic .................\n",
      "[CV]  regressor__alpha=1, regressor__selection=cyclic, score=0.879, total=   0.8s\n",
      "[CV] regressor__alpha=1, regressor__selection=cyclic .................\n",
      "[CV]  regressor__alpha=1, regressor__selection=cyclic, score=0.886, total=   0.8s\n",
      "[CV] regressor__alpha=1, regressor__selection=cyclic .................\n",
      "[CV]  regressor__alpha=1, regressor__selection=cyclic, score=0.875, total=   0.8s\n",
      "[CV] regressor__alpha=1, regressor__selection=cyclic .................\n",
      "[CV]  regressor__alpha=1, regressor__selection=cyclic, score=0.875, total=   0.8s\n",
      "[CV] regressor__alpha=1, regressor__selection=cyclic .................\n",
      "[CV]  regressor__alpha=1, regressor__selection=cyclic, score=0.880, total=   0.9s\n",
      "[CV] regressor__alpha=2, regressor__selection=random .................\n",
      "[CV]  regressor__alpha=2, regressor__selection=random, score=0.886, total=   1.0s\n",
      "[CV] regressor__alpha=2, regressor__selection=random .................\n",
      "[CV]  regressor__alpha=2, regressor__selection=random, score=0.896, total=   1.0s\n",
      "[CV] regressor__alpha=2, regressor__selection=random .................\n",
      "[CV]  regressor__alpha=2, regressor__selection=random, score=0.890, total=   1.1s\n",
      "[CV] regressor__alpha=2, regressor__selection=random .................\n",
      "[CV]  regressor__alpha=2, regressor__selection=random, score=0.887, total=   1.0s\n",
      "[CV] regressor__alpha=2, regressor__selection=random .................\n",
      "[CV]  regressor__alpha=2, regressor__selection=random, score=0.888, total=   1.0s\n",
      "[CV] regressor__alpha=2, regressor__selection=cyclic .................\n",
      "[CV]  regressor__alpha=2, regressor__selection=cyclic, score=0.875, total=   0.9s\n",
      "[CV] regressor__alpha=2, regressor__selection=cyclic .................\n",
      "[CV]  regressor__alpha=2, regressor__selection=cyclic, score=0.883, total=   0.9s\n",
      "[CV] regressor__alpha=2, regressor__selection=cyclic .................\n",
      "[CV]  regressor__alpha=2, regressor__selection=cyclic, score=0.862, total=   0.8s\n",
      "[CV] regressor__alpha=2, regressor__selection=cyclic .................\n"
     ]
    },
    {
     "name": "stdout",
     "output_type": "stream",
     "text": [
      "[CV]  regressor__alpha=2, regressor__selection=cyclic, score=0.872, total=   0.9s\n",
      "[CV] regressor__alpha=2, regressor__selection=cyclic .................\n",
      "[CV]  regressor__alpha=2, regressor__selection=cyclic, score=0.869, total=   0.8s\n"
     ]
    },
    {
     "name": "stderr",
     "output_type": "stream",
     "text": [
      "[Parallel(n_jobs=1)]: Done 110 out of 110 | elapsed:  1.7min finished\n"
     ]
    },
    {
     "data": {
      "text/plain": [
       "GridSearchCV(cv=None, error_score=nan,\n",
       "             estimator=Pipeline(memory=None,\n",
       "                                steps=[('preprocessor',\n",
       "                                        ColumnTransformer(n_jobs=None,\n",
       "                                                          remainder='drop',\n",
       "                                                          sparse_threshold=0.3,\n",
       "                                                          transformer_weights=None,\n",
       "                                                          transformers=[('num',\n",
       "                                                                         Pipeline(memory=None,\n",
       "                                                                                  steps=[('poly',\n",
       "                                                                                          PolynomialFeatures(degree=3,\n",
       "                                                                                                             include_bias=True,\n",
       "                                                                                                             interaction_only=False,\n",
       "                                                                                                             order='C')),\n",
       "                                                                                         ('scaler',\n",
       "                                                                                          StandardScaler(cop...\n",
       "                                              max_iter=15000, normalize=False,\n",
       "                                              positive=False, precompute=False,\n",
       "                                              random_state=42,\n",
       "                                              selection='cyclic', tol=0.1,\n",
       "                                              warm_start=False))],\n",
       "                                verbose=False),\n",
       "             iid='deprecated', n_jobs=None,\n",
       "             param_grid={'regressor__alpha': [0.001, 0.01, 0.02, 0.03, 0.04,\n",
       "                                              0.05, 0.06, 0.07, 0.08, 1, 2],\n",
       "                         'regressor__selection': ['random', 'cyclic']},\n",
       "             pre_dispatch='2*n_jobs', refit=True, return_train_score=False,\n",
       "             scoring='r2', verbose=3)"
      ]
     },
     "execution_count": 13,
     "metadata": {},
     "output_type": "execute_result"
    }
   ],
   "source": [
    "# fit the model\n",
    "search.fit(X_train, y_train)"
   ]
  },
  {
   "cell_type": "code",
   "execution_count": 14,
   "metadata": {},
   "outputs": [
    {
     "name": "stdout",
     "output_type": "stream",
     "text": [
      "Test Acc: 0.890\n"
     ]
    }
   ],
   "source": [
    "# check test accuracy\n",
    "print('Test Acc: %.3f' % search.score(X_test, y_test))"
   ]
  },
  {
   "cell_type": "code",
   "execution_count": 15,
   "metadata": {},
   "outputs": [
    {
     "name": "stdout",
     "output_type": "stream",
     "text": [
      "Test Acc: 0.896\n"
     ]
    }
   ],
   "source": [
    "# check best score\n",
    "print('Test Acc: %.3f' % search.best_score_)"
   ]
  },
  {
   "cell_type": "code",
   "execution_count": 16,
   "metadata": {},
   "outputs": [
    {
     "data": {
      "text/plain": [
       "{'regressor__alpha': 0.001, 'regressor__selection': 'random'}"
      ]
     },
     "execution_count": 16,
     "metadata": {},
     "output_type": "execute_result"
    }
   ],
   "source": [
    "# define model \"best params\"\n",
    "search.best_params_"
   ]
  },
  {
   "cell_type": "markdown",
   "metadata": {},
   "source": [
    "# Examining a Lasso Model with \"Best Params\""
   ]
  },
  {
   "cell_type": "code",
   "execution_count": 17,
   "metadata": {},
   "outputs": [],
   "source": [
    "model = Lasso(alpha = 0.001, selection = 'random', random_state = 42, max_iter=15000, tol=0.1)"
   ]
  },
  {
   "cell_type": "code",
   "execution_count": 18,
   "metadata": {},
   "outputs": [],
   "source": [
    "regression_lasso = Pipeline(steps=[('preprocessor', preprocessor),\n",
    "                      ('regressor', model)])"
   ]
  },
  {
   "cell_type": "code",
   "execution_count": 19,
   "metadata": {},
   "outputs": [
    {
     "data": {
      "text/plain": [
       "Pipeline(memory=None,\n",
       "         steps=[('preprocessor',\n",
       "                 ColumnTransformer(n_jobs=None, remainder='drop',\n",
       "                                   sparse_threshold=0.3,\n",
       "                                   transformer_weights=None,\n",
       "                                   transformers=[('num',\n",
       "                                                  Pipeline(memory=None,\n",
       "                                                           steps=[('poly',\n",
       "                                                                   PolynomialFeatures(degree=3,\n",
       "                                                                                      include_bias=True,\n",
       "                                                                                      interaction_only=False,\n",
       "                                                                                      order='C')),\n",
       "                                                                  ('scaler',\n",
       "                                                                   StandardScaler(copy=True,\n",
       "                                                                                  with_mean=True,\n",
       "                                                                                  with_std=True))],\n",
       "                                                           verbose=...\n",
       "                                                                                 drop=None,\n",
       "                                                                                 dtype=<class 'numpy.float64'>,\n",
       "                                                                                 handle_unknown='ignore',\n",
       "                                                                                 sparse=True))],\n",
       "                                                           verbose=False),\n",
       "                                                  ['model', 'transmission',\n",
       "                                                   'fuelType', 'make'])],\n",
       "                                   verbose=False)),\n",
       "                ('regressor',\n",
       "                 Lasso(alpha=0.001, copy_X=True, fit_intercept=True,\n",
       "                       max_iter=15000, normalize=False, positive=False,\n",
       "                       precompute=False, random_state=42, selection='random',\n",
       "                       tol=0.1, warm_start=False))],\n",
       "         verbose=False)"
      ]
     },
     "execution_count": 19,
     "metadata": {},
     "output_type": "execute_result"
    }
   ],
   "source": [
    "regression_lasso.fit(X_train, y_train)"
   ]
  },
  {
   "cell_type": "code",
   "execution_count": 20,
   "metadata": {},
   "outputs": [
    {
     "data": {
      "text/plain": [
       "0.8961432606631403"
      ]
     },
     "execution_count": 20,
     "metadata": {},
     "output_type": "execute_result"
    }
   ],
   "source": [
    "# train accuracy\n",
    "regression_lasso.score(X_train, y_train)"
   ]
  },
  {
   "cell_type": "code",
   "execution_count": 21,
   "metadata": {},
   "outputs": [
    {
     "data": {
      "text/plain": [
       "0.8897168731795976"
      ]
     },
     "execution_count": 21,
     "metadata": {},
     "output_type": "execute_result"
    }
   ],
   "source": [
    "# test accuracy\n",
    "regression_lasso.score(X_test, y_test)"
   ]
  },
  {
   "cell_type": "markdown",
   "metadata": {},
   "source": [
    "# Predictions"
   ]
  },
  {
   "cell_type": "code",
   "execution_count": 22,
   "metadata": {},
   "outputs": [
    {
     "name": "stdout",
     "output_type": "stream",
     "text": [
      "Predicted classes: [ 7075.02277963  7799.74861624 12659.3445443   9092.63463429\n",
      " 20398.14577137]\n",
      "Actual Labels: [7990, 9000, 13000, 8947, 16995]\n"
     ]
    }
   ],
   "source": [
    "# predictions with test data\n",
    "encoded_prediction= regression_lasso.predict(X_test[:5])\n",
    "# Actual data\n",
    "actual = list(y_test[:5])\n",
    "\n",
    "print(f\"Predicted classes: {encoded_prediction}\")\n",
    "print(f\"Actual Labels: {actual}\")"
   ]
  }
 ],
 "metadata": {
  "celltoolbar": "Create Assignment",
  "kernelspec": {
   "display_name": "Python [conda env:ML] *",
   "language": "python",
   "name": "conda-env-ML-py"
  },
  "language_info": {
   "codemirror_mode": {
    "name": "ipython",
    "version": 3
   },
   "file_extension": ".py",
   "mimetype": "text/x-python",
   "name": "python",
   "nbconvert_exporter": "python",
   "pygments_lexer": "ipython3",
   "version": "3.8.2"
  },
  "varInspector": {
   "cols": {
    "lenName": 16,
    "lenType": 16,
    "lenVar": 40
   },
   "kernels_config": {
    "python": {
     "delete_cmd_postfix": "",
     "delete_cmd_prefix": "del ",
     "library": "var_list.py",
     "varRefreshCmd": "print(var_dic_list())"
    },
    "r": {
     "delete_cmd_postfix": ") ",
     "delete_cmd_prefix": "rm(",
     "library": "var_list.r",
     "varRefreshCmd": "cat(var_dic_list()) "
    }
   },
   "types_to_exclude": [
    "module",
    "function",
    "builtin_function_or_method",
    "instance",
    "_Feature"
   ],
   "window_display": false
  }
 },
 "nbformat": 4,
 "nbformat_minor": 2
}
