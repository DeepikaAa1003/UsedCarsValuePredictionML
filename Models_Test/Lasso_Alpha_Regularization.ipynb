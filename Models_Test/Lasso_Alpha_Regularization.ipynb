{
 "cells": [
  {
   "cell_type": "markdown",
   "metadata": {},
   "source": [
    "# Lasso Model\n",
    "\n",
    "In this notebook, a \"Lasso\" model was created, and GridSearchCV was used to tune alpha \"Hyperparameter\""
   ]
  },
  {
   "cell_type": "code",
   "execution_count": 1,
   "metadata": {},
   "outputs": [],
   "source": [
    "# Import Dependencies\n",
    "import matplotlib.pyplot as plt\n",
    "import numpy as np\n",
    "import pandas as pd\n",
    "import glob\n",
    "import os\n",
    "from sklearn.preprocessing import StandardScaler\n",
    "from sklearn.metrics import mean_squared_error\n",
    "from sklearn.linear_model import Lasso\n",
    "from sklearn.model_selection import GridSearchCV"
   ]
  },
  {
   "cell_type": "markdown",
   "metadata": {},
   "source": [
    "Different brands and models were concatenated to one dataframe"
   ]
  },
  {
   "cell_type": "code",
   "execution_count": 2,
   "metadata": {},
   "outputs": [
    {
     "data": {
      "text/html": [
       "<div>\n",
       "<style scoped>\n",
       "    .dataframe tbody tr th:only-of-type {\n",
       "        vertical-align: middle;\n",
       "    }\n",
       "\n",
       "    .dataframe tbody tr th {\n",
       "        vertical-align: top;\n",
       "    }\n",
       "\n",
       "    .dataframe thead th {\n",
       "        text-align: right;\n",
       "    }\n",
       "</style>\n",
       "<table border=\"1\" class=\"dataframe\">\n",
       "  <thead>\n",
       "    <tr style=\"text-align: right;\">\n",
       "      <th></th>\n",
       "      <th>model</th>\n",
       "      <th>year</th>\n",
       "      <th>price</th>\n",
       "      <th>transmission</th>\n",
       "      <th>mileage</th>\n",
       "      <th>fuelType</th>\n",
       "      <th>tax</th>\n",
       "      <th>mpg</th>\n",
       "      <th>engineSize</th>\n",
       "      <th>make</th>\n",
       "    </tr>\n",
       "  </thead>\n",
       "  <tbody>\n",
       "    <tr>\n",
       "      <th>0</th>\n",
       "      <td>A1</td>\n",
       "      <td>2017</td>\n",
       "      <td>12500</td>\n",
       "      <td>Manual</td>\n",
       "      <td>15735</td>\n",
       "      <td>Petrol</td>\n",
       "      <td>150</td>\n",
       "      <td>55.4</td>\n",
       "      <td>1.4</td>\n",
       "      <td>Audi</td>\n",
       "    </tr>\n",
       "    <tr>\n",
       "      <th>1</th>\n",
       "      <td>A6</td>\n",
       "      <td>2016</td>\n",
       "      <td>16500</td>\n",
       "      <td>Automatic</td>\n",
       "      <td>36203</td>\n",
       "      <td>Diesel</td>\n",
       "      <td>20</td>\n",
       "      <td>64.2</td>\n",
       "      <td>2.0</td>\n",
       "      <td>Audi</td>\n",
       "    </tr>\n",
       "    <tr>\n",
       "      <th>2</th>\n",
       "      <td>A1</td>\n",
       "      <td>2016</td>\n",
       "      <td>11000</td>\n",
       "      <td>Manual</td>\n",
       "      <td>29946</td>\n",
       "      <td>Petrol</td>\n",
       "      <td>30</td>\n",
       "      <td>55.4</td>\n",
       "      <td>1.4</td>\n",
       "      <td>Audi</td>\n",
       "    </tr>\n",
       "    <tr>\n",
       "      <th>3</th>\n",
       "      <td>A4</td>\n",
       "      <td>2017</td>\n",
       "      <td>16800</td>\n",
       "      <td>Automatic</td>\n",
       "      <td>25952</td>\n",
       "      <td>Diesel</td>\n",
       "      <td>145</td>\n",
       "      <td>67.3</td>\n",
       "      <td>2.0</td>\n",
       "      <td>Audi</td>\n",
       "    </tr>\n",
       "    <tr>\n",
       "      <th>4</th>\n",
       "      <td>A3</td>\n",
       "      <td>2019</td>\n",
       "      <td>17300</td>\n",
       "      <td>Manual</td>\n",
       "      <td>1998</td>\n",
       "      <td>Petrol</td>\n",
       "      <td>145</td>\n",
       "      <td>49.6</td>\n",
       "      <td>1.0</td>\n",
       "      <td>Audi</td>\n",
       "    </tr>\n",
       "    <tr>\n",
       "      <th>...</th>\n",
       "      <td>...</td>\n",
       "      <td>...</td>\n",
       "      <td>...</td>\n",
       "      <td>...</td>\n",
       "      <td>...</td>\n",
       "      <td>...</td>\n",
       "      <td>...</td>\n",
       "      <td>...</td>\n",
       "      <td>...</td>\n",
       "      <td>...</td>\n",
       "    </tr>\n",
       "    <tr>\n",
       "      <th>85550</th>\n",
       "      <td>I30</td>\n",
       "      <td>2016</td>\n",
       "      <td>8680</td>\n",
       "      <td>Manual</td>\n",
       "      <td>25906</td>\n",
       "      <td>Diesel</td>\n",
       "      <td>0</td>\n",
       "      <td>78.4</td>\n",
       "      <td>1.6</td>\n",
       "      <td>Volkswagen</td>\n",
       "    </tr>\n",
       "    <tr>\n",
       "      <th>85551</th>\n",
       "      <td>I40</td>\n",
       "      <td>2015</td>\n",
       "      <td>7830</td>\n",
       "      <td>Manual</td>\n",
       "      <td>59508</td>\n",
       "      <td>Diesel</td>\n",
       "      <td>30</td>\n",
       "      <td>65.7</td>\n",
       "      <td>1.7</td>\n",
       "      <td>Volkswagen</td>\n",
       "    </tr>\n",
       "    <tr>\n",
       "      <th>85552</th>\n",
       "      <td>I10</td>\n",
       "      <td>2017</td>\n",
       "      <td>6830</td>\n",
       "      <td>Manual</td>\n",
       "      <td>13810</td>\n",
       "      <td>Petrol</td>\n",
       "      <td>20</td>\n",
       "      <td>60.1</td>\n",
       "      <td>1.0</td>\n",
       "      <td>Volkswagen</td>\n",
       "    </tr>\n",
       "    <tr>\n",
       "      <th>85553</th>\n",
       "      <td>Tucson</td>\n",
       "      <td>2018</td>\n",
       "      <td>13994</td>\n",
       "      <td>Manual</td>\n",
       "      <td>23313</td>\n",
       "      <td>Petrol</td>\n",
       "      <td>145</td>\n",
       "      <td>44.8</td>\n",
       "      <td>1.6</td>\n",
       "      <td>Volkswagen</td>\n",
       "    </tr>\n",
       "    <tr>\n",
       "      <th>85554</th>\n",
       "      <td>Tucson</td>\n",
       "      <td>2016</td>\n",
       "      <td>15999</td>\n",
       "      <td>Automatic</td>\n",
       "      <td>11472</td>\n",
       "      <td>Diesel</td>\n",
       "      <td>125</td>\n",
       "      <td>57.6</td>\n",
       "      <td>1.7</td>\n",
       "      <td>Volkswagen</td>\n",
       "    </tr>\n",
       "  </tbody>\n",
       "</table>\n",
       "<p>85555 rows × 10 columns</p>\n",
       "</div>"
      ],
      "text/plain": [
       "         model  year  price transmission  mileage fuelType  tax   mpg  \\\n",
       "0           A1  2017  12500       Manual    15735   Petrol  150  55.4   \n",
       "1           A6  2016  16500    Automatic    36203   Diesel   20  64.2   \n",
       "2           A1  2016  11000       Manual    29946   Petrol   30  55.4   \n",
       "3           A4  2017  16800    Automatic    25952   Diesel  145  67.3   \n",
       "4           A3  2019  17300       Manual     1998   Petrol  145  49.6   \n",
       "...        ...   ...    ...          ...      ...      ...  ...   ...   \n",
       "85550      I30  2016   8680       Manual    25906   Diesel    0  78.4   \n",
       "85551      I40  2015   7830       Manual    59508   Diesel   30  65.7   \n",
       "85552      I10  2017   6830       Manual    13810   Petrol   20  60.1   \n",
       "85553   Tucson  2018  13994       Manual    23313   Petrol  145  44.8   \n",
       "85554   Tucson  2016  15999    Automatic    11472   Diesel  125  57.6   \n",
       "\n",
       "       engineSize        make  \n",
       "0             1.4        Audi  \n",
       "1             2.0        Audi  \n",
       "2             1.4        Audi  \n",
       "3             2.0        Audi  \n",
       "4             1.0        Audi  \n",
       "...           ...         ...  \n",
       "85550         1.6  Volkswagen  \n",
       "85551         1.7  Volkswagen  \n",
       "85552         1.0  Volkswagen  \n",
       "85553         1.6  Volkswagen  \n",
       "85554         1.7  Volkswagen  \n",
       "\n",
       "[85555 rows x 10 columns]"
      ]
     },
     "execution_count": 2,
     "metadata": {},
     "output_type": "execute_result"
    }
   ],
   "source": [
    "# Read and concatenate all CSV's\n",
    "\n",
    "path = r'D:\\Data_Analytics\\Project 3\\Data'\n",
    "all_files = glob.glob(path + \"/*.csv\")\n",
    "\n",
    "li = []\n",
    "brands = [\"Audi\",\"BMW\",\"Ford\",\"Hyundi\",\"Mercedes Benz\",\"Skoda\",\"Toyota\",\"Volkswagen\"]\n",
    "\n",
    "for filename, brand in zip(all_files, brands):\n",
    "    df = pd.read_csv(filename, index_col=None, header=0)\n",
    "    df[\"make\"] = brand\n",
    "    li.append(df)\n",
    "    \n",
    "frame = pd.concat(li, axis=0, ignore_index=True)\n",
    "frame\n"
   ]
  },
  {
   "cell_type": "code",
   "execution_count": 3,
   "metadata": {},
   "outputs": [],
   "source": [
    "# Convert year to string\n",
    "frame['year'] = frame['year'].astype(str)"
   ]
  },
  {
   "cell_type": "code",
   "execution_count": 4,
   "metadata": {},
   "outputs": [
    {
     "data": {
      "text/plain": [
       "model           0\n",
       "year            0\n",
       "price           0\n",
       "transmission    0\n",
       "mileage         0\n",
       "fuelType        0\n",
       "tax             0\n",
       "mpg             0\n",
       "engineSize      0\n",
       "make            0\n",
       "dtype: int64"
      ]
     },
     "execution_count": 4,
     "metadata": {},
     "output_type": "execute_result"
    }
   ],
   "source": [
    "#verify null values\n",
    "frame.isnull().sum()"
   ]
  },
  {
   "cell_type": "code",
   "execution_count": 5,
   "metadata": {},
   "outputs": [
    {
     "name": "stdout",
     "output_type": "stream",
     "text": [
      "<class 'pandas.core.frame.DataFrame'>\n",
      "RangeIndex: 85555 entries, 0 to 85554\n",
      "Data columns (total 10 columns):\n",
      " #   Column        Non-Null Count  Dtype  \n",
      "---  ------        --------------  -----  \n",
      " 0   model         85555 non-null  object \n",
      " 1   year          85555 non-null  object \n",
      " 2   price         85555 non-null  int64  \n",
      " 3   transmission  85555 non-null  object \n",
      " 4   mileage       85555 non-null  int64  \n",
      " 5   fuelType      85555 non-null  object \n",
      " 6   tax           85555 non-null  int64  \n",
      " 7   mpg           85555 non-null  float64\n",
      " 8   engineSize    85555 non-null  float64\n",
      " 9   make          85555 non-null  object \n",
      "dtypes: float64(2), int64(3), object(5)\n",
      "memory usage: 6.5+ MB\n"
     ]
    }
   ],
   "source": [
    "# check columns type\n",
    "frame.info()"
   ]
  },
  {
   "cell_type": "code",
   "execution_count": 6,
   "metadata": {
    "nbgrader": {
     "grade": false,
     "grade_id": "cell-41760f7611f17b25",
     "locked": false,
     "schema_version": 1,
     "solution": true
    }
   },
   "outputs": [
    {
     "data": {
      "text/html": [
       "<div>\n",
       "<style scoped>\n",
       "    .dataframe tbody tr th:only-of-type {\n",
       "        vertical-align: middle;\n",
       "    }\n",
       "\n",
       "    .dataframe tbody tr th {\n",
       "        vertical-align: top;\n",
       "    }\n",
       "\n",
       "    .dataframe thead th {\n",
       "        text-align: right;\n",
       "    }\n",
       "</style>\n",
       "<table border=\"1\" class=\"dataframe\">\n",
       "  <thead>\n",
       "    <tr style=\"text-align: right;\">\n",
       "      <th></th>\n",
       "      <th>price</th>\n",
       "      <th>mileage</th>\n",
       "      <th>tax</th>\n",
       "      <th>mpg</th>\n",
       "      <th>engineSize</th>\n",
       "      <th>model_ 1 Series</th>\n",
       "      <th>model_ 2 Series</th>\n",
       "      <th>model_ 3 Series</th>\n",
       "      <th>model_ 4 Series</th>\n",
       "      <th>model_ 5 Series</th>\n",
       "      <th>...</th>\n",
       "      <th>fuelType_Other</th>\n",
       "      <th>fuelType_Petrol</th>\n",
       "      <th>make_Audi</th>\n",
       "      <th>make_BMW</th>\n",
       "      <th>make_Ford</th>\n",
       "      <th>make_Hyundi</th>\n",
       "      <th>make_Mercedes Benz</th>\n",
       "      <th>make_Skoda</th>\n",
       "      <th>make_Toyota</th>\n",
       "      <th>make_Volkswagen</th>\n",
       "    </tr>\n",
       "  </thead>\n",
       "  <tbody>\n",
       "    <tr>\n",
       "      <th>0</th>\n",
       "      <td>12500</td>\n",
       "      <td>15735</td>\n",
       "      <td>150</td>\n",
       "      <td>55.4</td>\n",
       "      <td>1.4</td>\n",
       "      <td>0</td>\n",
       "      <td>0</td>\n",
       "      <td>0</td>\n",
       "      <td>0</td>\n",
       "      <td>0</td>\n",
       "      <td>...</td>\n",
       "      <td>0</td>\n",
       "      <td>1</td>\n",
       "      <td>1</td>\n",
       "      <td>0</td>\n",
       "      <td>0</td>\n",
       "      <td>0</td>\n",
       "      <td>0</td>\n",
       "      <td>0</td>\n",
       "      <td>0</td>\n",
       "      <td>0</td>\n",
       "    </tr>\n",
       "    <tr>\n",
       "      <th>1</th>\n",
       "      <td>16500</td>\n",
       "      <td>36203</td>\n",
       "      <td>20</td>\n",
       "      <td>64.2</td>\n",
       "      <td>2.0</td>\n",
       "      <td>0</td>\n",
       "      <td>0</td>\n",
       "      <td>0</td>\n",
       "      <td>0</td>\n",
       "      <td>0</td>\n",
       "      <td>...</td>\n",
       "      <td>0</td>\n",
       "      <td>0</td>\n",
       "      <td>1</td>\n",
       "      <td>0</td>\n",
       "      <td>0</td>\n",
       "      <td>0</td>\n",
       "      <td>0</td>\n",
       "      <td>0</td>\n",
       "      <td>0</td>\n",
       "      <td>0</td>\n",
       "    </tr>\n",
       "    <tr>\n",
       "      <th>2</th>\n",
       "      <td>11000</td>\n",
       "      <td>29946</td>\n",
       "      <td>30</td>\n",
       "      <td>55.4</td>\n",
       "      <td>1.4</td>\n",
       "      <td>0</td>\n",
       "      <td>0</td>\n",
       "      <td>0</td>\n",
       "      <td>0</td>\n",
       "      <td>0</td>\n",
       "      <td>...</td>\n",
       "      <td>0</td>\n",
       "      <td>1</td>\n",
       "      <td>1</td>\n",
       "      <td>0</td>\n",
       "      <td>0</td>\n",
       "      <td>0</td>\n",
       "      <td>0</td>\n",
       "      <td>0</td>\n",
       "      <td>0</td>\n",
       "      <td>0</td>\n",
       "    </tr>\n",
       "    <tr>\n",
       "      <th>3</th>\n",
       "      <td>16800</td>\n",
       "      <td>25952</td>\n",
       "      <td>145</td>\n",
       "      <td>67.3</td>\n",
       "      <td>2.0</td>\n",
       "      <td>0</td>\n",
       "      <td>0</td>\n",
       "      <td>0</td>\n",
       "      <td>0</td>\n",
       "      <td>0</td>\n",
       "      <td>...</td>\n",
       "      <td>0</td>\n",
       "      <td>0</td>\n",
       "      <td>1</td>\n",
       "      <td>0</td>\n",
       "      <td>0</td>\n",
       "      <td>0</td>\n",
       "      <td>0</td>\n",
       "      <td>0</td>\n",
       "      <td>0</td>\n",
       "      <td>0</td>\n",
       "    </tr>\n",
       "    <tr>\n",
       "      <th>4</th>\n",
       "      <td>17300</td>\n",
       "      <td>1998</td>\n",
       "      <td>145</td>\n",
       "      <td>49.6</td>\n",
       "      <td>1.0</td>\n",
       "      <td>0</td>\n",
       "      <td>0</td>\n",
       "      <td>0</td>\n",
       "      <td>0</td>\n",
       "      <td>0</td>\n",
       "      <td>...</td>\n",
       "      <td>0</td>\n",
       "      <td>1</td>\n",
       "      <td>1</td>\n",
       "      <td>0</td>\n",
       "      <td>0</td>\n",
       "      <td>0</td>\n",
       "      <td>0</td>\n",
       "      <td>0</td>\n",
       "      <td>0</td>\n",
       "      <td>0</td>\n",
       "    </tr>\n",
       "  </tbody>\n",
       "</table>\n",
       "<p>5 rows × 222 columns</p>\n",
       "</div>"
      ],
      "text/plain": [
       "   price  mileage  tax   mpg  engineSize  model_ 1 Series  model_ 2 Series  \\\n",
       "0  12500    15735  150  55.4         1.4                0                0   \n",
       "1  16500    36203   20  64.2         2.0                0                0   \n",
       "2  11000    29946   30  55.4         1.4                0                0   \n",
       "3  16800    25952  145  67.3         2.0                0                0   \n",
       "4  17300     1998  145  49.6         1.0                0                0   \n",
       "\n",
       "   model_ 3 Series  model_ 4 Series  model_ 5 Series  ...  fuelType_Other  \\\n",
       "0                0                0                0  ...               0   \n",
       "1                0                0                0  ...               0   \n",
       "2                0                0                0  ...               0   \n",
       "3                0                0                0  ...               0   \n",
       "4                0                0                0  ...               0   \n",
       "\n",
       "   fuelType_Petrol  make_Audi  make_BMW  make_Ford  make_Hyundi  \\\n",
       "0                1          1         0          0            0   \n",
       "1                0          1         0          0            0   \n",
       "2                1          1         0          0            0   \n",
       "3                0          1         0          0            0   \n",
       "4                1          1         0          0            0   \n",
       "\n",
       "   make_Mercedes Benz  make_Skoda  make_Toyota  make_Volkswagen  \n",
       "0                   0           0            0                0  \n",
       "1                   0           0            0                0  \n",
       "2                   0           0            0                0  \n",
       "3                   0           0            0                0  \n",
       "4                   0           0            0                0  \n",
       "\n",
       "[5 rows x 222 columns]"
      ]
     },
     "execution_count": 6,
     "metadata": {},
     "output_type": "execute_result"
    }
   ],
   "source": [
    "# Use Pandas get_dummies to convert categorical data\n",
    "\n",
    "cars_one_hot = pd.get_dummies(frame, columns =['model','year', 'transmission', 'fuelType', 'make'])\n",
    "cars_one_hot.head()\n"
   ]
  },
  {
   "cell_type": "code",
   "execution_count": 7,
   "metadata": {
    "nbgrader": {
     "grade": false,
     "grade_id": "cell-a61368ced39885a2",
     "locked": false,
     "schema_version": 1,
     "solution": true
    }
   },
   "outputs": [
    {
     "name": "stdout",
     "output_type": "stream",
     "text": [
      "(85555, 221) (85555, 1)\n"
     ]
    }
   ],
   "source": [
    "# Assign X (data) and y (target)\n",
    "\n",
    "X = cars_one_hot.drop(['price'],axis=1)\n",
    "y = cars_one_hot[\"price\"].values.reshape(-1, 1)\n",
    "print(X.shape, y.shape)"
   ]
  },
  {
   "cell_type": "code",
   "execution_count": 8,
   "metadata": {
    "nbgrader": {
     "grade": false,
     "grade_id": "cell-62193e4c8caef9c5",
     "locked": false,
     "schema_version": 1,
     "solution": true
    }
   },
   "outputs": [],
   "source": [
    "# Split the data into training and testing\n",
    "\n",
    "from sklearn.model_selection import train_test_split\n",
    "\n",
    "X_train, X_test, y_train, y_test = train_test_split(X, y, random_state=42)\n"
   ]
  },
  {
   "cell_type": "code",
   "execution_count": 9,
   "metadata": {},
   "outputs": [],
   "source": [
    "# Create a StandardScater model and fit it to the training data\n",
    "\n",
    "X_scaler = StandardScaler().fit(X_train[[\"mileage\",\"tax\",\"mpg\",\"engineSize\"]])\n",
    "y_scaler = StandardScaler().fit(y_train)\n"
   ]
  },
  {
   "cell_type": "code",
   "execution_count": 10,
   "metadata": {},
   "outputs": [],
   "source": [
    "# Transform the training and testing data using the X_scaler and y_scaler models\n",
    "\n",
    "X_train_scaled = X_scaler.transform(X_train[[\"mileage\",\"tax\",\"mpg\",\"engineSize\"]])\n",
    "X_test_scaled = X_scaler.transform(X_test[[\"mileage\",\"tax\",\"mpg\",\"engineSize\"]])\n",
    "y_train_scaled = y_scaler.transform(y_train)\n",
    "y_test_scaled = y_scaler.transform(y_test)"
   ]
  },
  {
   "cell_type": "code",
   "execution_count": 11,
   "metadata": {},
   "outputs": [],
   "source": [
    "# LASSO model\n",
    "model = Lasso()"
   ]
  },
  {
   "cell_type": "code",
   "execution_count": 12,
   "metadata": {},
   "outputs": [],
   "source": [
    "# Create the GridSearch estimator along with a parameter object containing the values to adjust\n",
    "\n",
    "param_grid = {'alpha': [0.001, 0.01,0.02,0.03,0.04, 0.05, 0.06,0.07, 0.08, 1, 2, 3, 5, 8, 10, 20, 50, 100]}\n",
    "grid = GridSearchCV(model, param_grid, scoring = 'r2', verbose=3)"
   ]
  },
  {
   "cell_type": "code",
   "execution_count": 13,
   "metadata": {},
   "outputs": [
    {
     "name": "stdout",
     "output_type": "stream",
     "text": [
      "Fitting 5 folds for each of 18 candidates, totalling 90 fits\n",
      "[CV] alpha=0.001 .....................................................\n",
      "[CV] ......................... alpha=0.001, score=0.658, total=   0.0s\n",
      "[CV] alpha=0.001 .....................................................\n",
      "[CV] ......................... alpha=0.001, score=0.659, total=   0.0s\n",
      "[CV] alpha=0.001 .....................................................\n",
      "[CV] ......................... alpha=0.001, score=0.654, total=   0.0s\n",
      "[CV] alpha=0.001 .....................................................\n",
      "[CV] ......................... alpha=0.001, score=0.662, total=   0.0s\n",
      "[CV] alpha=0.001 .....................................................\n",
      "[CV] ......................... alpha=0.001, score=0.668, total=   0.0s\n",
      "[CV] alpha=0.01 ......................................................\n",
      "[CV] .......................... alpha=0.01, score=0.657, total=   0.0s\n",
      "[CV] alpha=0.01 ......................................................\n",
      "[CV] .......................... alpha=0.01, score=0.659, total=   0.0s\n",
      "[CV] alpha=0.01 ......................................................\n",
      "[CV] .......................... alpha=0.01, score=0.654, total=   0.0s\n",
      "[CV] alpha=0.01 ......................................................\n",
      "[CV] .......................... alpha=0.01, score=0.662, total=   0.0s\n",
      "[CV] alpha=0.01 ......................................................\n",
      "[CV] .......................... alpha=0.01, score=0.667, total=   0.0s\n",
      "[CV] alpha=0.02 ......................................................\n",
      "[CV] .......................... alpha=0.02, score=0.657, total=   0.0s\n",
      "[CV] alpha=0.02 ......................................................\n",
      "[CV] .......................... alpha=0.02, score=0.658, total=   0.0s\n",
      "[CV] alpha=0.02 ......................................................\n",
      "[CV] .......................... alpha=0.02, score=0.654, total=   0.0s\n",
      "[CV] alpha=0.02 ......................................................\n",
      "[CV] .......................... alpha=0.02, score=0.661, total=   0.0s\n"
     ]
    },
    {
     "name": "stderr",
     "output_type": "stream",
     "text": [
      "[Parallel(n_jobs=1)]: Using backend SequentialBackend with 1 concurrent workers.\n",
      "[Parallel(n_jobs=1)]: Done   1 out of   1 | elapsed:    0.0s remaining:    0.0s\n",
      "[Parallel(n_jobs=1)]: Done   2 out of   2 | elapsed:    0.0s remaining:    0.0s\n"
     ]
    },
    {
     "name": "stdout",
     "output_type": "stream",
     "text": [
      "[CV] alpha=0.02 ......................................................\n",
      "[CV] .......................... alpha=0.02, score=0.666, total=   0.0s\n",
      "[CV] alpha=0.03 ......................................................\n",
      "[CV] .......................... alpha=0.03, score=0.655, total=   0.0s\n",
      "[CV] alpha=0.03 ......................................................\n",
      "[CV] .......................... alpha=0.03, score=0.657, total=   0.0s\n",
      "[CV] alpha=0.03 ......................................................\n",
      "[CV] .......................... alpha=0.03, score=0.654, total=   0.0s\n",
      "[CV] alpha=0.03 ......................................................\n",
      "[CV] .......................... alpha=0.03, score=0.659, total=   0.0s\n",
      "[CV] alpha=0.03 ......................................................\n",
      "[CV] .......................... alpha=0.03, score=0.665, total=   0.0s\n",
      "[CV] alpha=0.04 ......................................................\n",
      "[CV] .......................... alpha=0.04, score=0.653, total=   0.0s\n",
      "[CV] alpha=0.04 ......................................................\n",
      "[CV] .......................... alpha=0.04, score=0.655, total=   0.0s\n",
      "[CV] alpha=0.04 ......................................................\n",
      "[CV] .......................... alpha=0.04, score=0.652, total=   0.0s\n",
      "[CV] alpha=0.04 ......................................................\n",
      "[CV] .......................... alpha=0.04, score=0.657, total=   0.0s\n",
      "[CV] alpha=0.04 ......................................................\n",
      "[CV] .......................... alpha=0.04, score=0.663, total=   0.0s\n",
      "[CV] alpha=0.05 ......................................................\n",
      "[CV] .......................... alpha=0.05, score=0.651, total=   0.0s\n",
      "[CV] alpha=0.05 ......................................................\n",
      "[CV] .......................... alpha=0.05, score=0.653, total=   0.0s\n",
      "[CV] alpha=0.05 ......................................................\n",
      "[CV] .......................... alpha=0.05, score=0.651, total=   0.0s\n",
      "[CV] alpha=0.05 ......................................................\n",
      "[CV] .......................... alpha=0.05, score=0.654, total=   0.0s\n",
      "[CV] alpha=0.05 ......................................................\n",
      "[CV] .......................... alpha=0.05, score=0.661, total=   0.0s\n",
      "[CV] alpha=0.06 ......................................................\n",
      "[CV] .......................... alpha=0.06, score=0.648, total=   0.0s\n",
      "[CV] alpha=0.06 ......................................................\n",
      "[CV] .......................... alpha=0.06, score=0.650, total=   0.0s\n",
      "[CV] alpha=0.06 ......................................................\n",
      "[CV] .......................... alpha=0.06, score=0.649, total=   0.0s\n",
      "[CV] alpha=0.06 ......................................................\n",
      "[CV] .......................... alpha=0.06, score=0.651, total=   0.0s\n",
      "[CV] alpha=0.06 ......................................................\n",
      "[CV] .......................... alpha=0.06, score=0.658, total=   0.0s\n",
      "[CV] alpha=0.07 ......................................................\n",
      "[CV] .......................... alpha=0.07, score=0.645, total=   0.0s\n",
      "[CV] alpha=0.07 ......................................................\n",
      "[CV] .......................... alpha=0.07, score=0.647, total=   0.0s\n",
      "[CV] alpha=0.07 ......................................................\n",
      "[CV] .......................... alpha=0.07, score=0.646, total=   0.0s\n",
      "[CV] alpha=0.07 ......................................................\n",
      "[CV] .......................... alpha=0.07, score=0.648, total=   0.0s\n",
      "[CV] alpha=0.07 ......................................................\n",
      "[CV] .......................... alpha=0.07, score=0.655, total=   0.0s\n",
      "[CV] alpha=0.08 ......................................................\n",
      "[CV] .......................... alpha=0.08, score=0.641, total=   0.0s\n",
      "[CV] alpha=0.08 ......................................................\n",
      "[CV] .......................... alpha=0.08, score=0.643, total=   0.0s\n",
      "[CV] alpha=0.08 ......................................................\n",
      "[CV] .......................... alpha=0.08, score=0.643, total=   0.0s\n",
      "[CV] alpha=0.08 ......................................................\n",
      "[CV] .......................... alpha=0.08, score=0.644, total=   0.0s\n",
      "[CV] alpha=0.08 ......................................................\n",
      "[CV] .......................... alpha=0.08, score=0.651, total=   0.0s\n",
      "[CV] alpha=1 .........................................................\n",
      "[CV] ............................ alpha=1, score=-0.000, total=   0.0s\n",
      "[CV] alpha=1 .........................................................\n",
      "[CV] ............................ alpha=1, score=-0.000, total=   0.0s\n",
      "[CV] alpha=1 .........................................................\n",
      "[CV] ............................ alpha=1, score=-0.000, total=   0.0s\n",
      "[CV] alpha=1 .........................................................\n",
      "[CV] ............................ alpha=1, score=-0.000, total=   0.0s\n",
      "[CV] alpha=1 .........................................................\n",
      "[CV] ............................ alpha=1, score=-0.000, total=   0.0s\n",
      "[CV] alpha=2 .........................................................\n",
      "[CV] ............................ alpha=2, score=-0.000, total=   0.0s\n",
      "[CV] alpha=2 .........................................................\n",
      "[CV] ............................ alpha=2, score=-0.000, total=   0.0s\n",
      "[CV] alpha=2 .........................................................\n",
      "[CV] ............................ alpha=2, score=-0.000, total=   0.0s\n",
      "[CV] alpha=2 .........................................................\n",
      "[CV] ............................ alpha=2, score=-0.000, total=   0.0s\n",
      "[CV] alpha=2 .........................................................\n",
      "[CV] ............................ alpha=2, score=-0.000, total=   0.0s\n",
      "[CV] alpha=3 .........................................................\n",
      "[CV] ............................ alpha=3, score=-0.000, total=   0.0s\n",
      "[CV] alpha=3 .........................................................\n",
      "[CV] ............................ alpha=3, score=-0.000, total=   0.0s\n",
      "[CV] alpha=3 .........................................................\n",
      "[CV] ............................ alpha=3, score=-0.000, total=   0.0s\n",
      "[CV] alpha=3 .........................................................\n",
      "[CV] ............................ alpha=3, score=-0.000, total=   0.0s\n",
      "[CV] alpha=3 .........................................................\n",
      "[CV] ............................ alpha=3, score=-0.000, total=   0.0s\n",
      "[CV] alpha=5 .........................................................\n",
      "[CV] ............................ alpha=5, score=-0.000, total=   0.0s\n",
      "[CV] alpha=5 .........................................................\n",
      "[CV] ............................ alpha=5, score=-0.000, total=   0.0s\n",
      "[CV] alpha=5 .........................................................\n",
      "[CV] ............................ alpha=5, score=-0.000, total=   0.0s\n",
      "[CV] alpha=5 .........................................................\n",
      "[CV] ............................ alpha=5, score=-0.000, total=   0.0s\n",
      "[CV] alpha=5 .........................................................\n",
      "[CV] ............................ alpha=5, score=-0.000, total=   0.0s\n",
      "[CV] alpha=8 .........................................................\n",
      "[CV] ............................ alpha=8, score=-0.000, total=   0.0s\n",
      "[CV] alpha=8 .........................................................\n",
      "[CV] ............................ alpha=8, score=-0.000, total=   0.0s\n",
      "[CV] alpha=8 .........................................................\n",
      "[CV] ............................ alpha=8, score=-0.000, total=   0.0s\n",
      "[CV] alpha=8 .........................................................\n",
      "[CV] ............................ alpha=8, score=-0.000, total=   0.0s\n",
      "[CV] alpha=8 .........................................................\n",
      "[CV] ............................ alpha=8, score=-0.000, total=   0.0s\n",
      "[CV] alpha=10 ........................................................\n",
      "[CV] ........................... alpha=10, score=-0.000, total=   0.0s\n",
      "[CV] alpha=10 ........................................................\n",
      "[CV] ........................... alpha=10, score=-0.000, total=   0.0s\n",
      "[CV] alpha=10 ........................................................\n",
      "[CV] ........................... alpha=10, score=-0.000, total=   0.0s\n",
      "[CV] alpha=10 ........................................................\n"
     ]
    },
    {
     "name": "stdout",
     "output_type": "stream",
     "text": [
      "[CV] ........................... alpha=10, score=-0.000, total=   0.0s\n",
      "[CV] alpha=10 ........................................................\n",
      "[CV] ........................... alpha=10, score=-0.000, total=   0.0s\n",
      "[CV] alpha=20 ........................................................\n",
      "[CV] ........................... alpha=20, score=-0.000, total=   0.0s\n",
      "[CV] alpha=20 ........................................................\n",
      "[CV] ........................... alpha=20, score=-0.000, total=   0.0s\n",
      "[CV] alpha=20 ........................................................\n",
      "[CV] ........................... alpha=20, score=-0.000, total=   0.0s\n",
      "[CV] alpha=20 ........................................................\n",
      "[CV] ........................... alpha=20, score=-0.000, total=   0.0s\n",
      "[CV] alpha=20 ........................................................\n",
      "[CV] ........................... alpha=20, score=-0.000, total=   0.0s\n",
      "[CV] alpha=50 ........................................................\n",
      "[CV] ........................... alpha=50, score=-0.000, total=   0.0s\n",
      "[CV] alpha=50 ........................................................\n",
      "[CV] ........................... alpha=50, score=-0.000, total=   0.0s\n",
      "[CV] alpha=50 ........................................................\n",
      "[CV] ........................... alpha=50, score=-0.000, total=   0.0s\n",
      "[CV] alpha=50 ........................................................\n",
      "[CV] ........................... alpha=50, score=-0.000, total=   0.0s\n",
      "[CV] alpha=50 ........................................................\n",
      "[CV] ........................... alpha=50, score=-0.000, total=   0.0s\n",
      "[CV] alpha=100 .......................................................\n",
      "[CV] .......................... alpha=100, score=-0.000, total=   0.0s\n",
      "[CV] alpha=100 .......................................................\n",
      "[CV] .......................... alpha=100, score=-0.000, total=   0.0s\n",
      "[CV] alpha=100 .......................................................\n",
      "[CV] .......................... alpha=100, score=-0.000, total=   0.0s\n",
      "[CV] alpha=100 .......................................................\n",
      "[CV] .......................... alpha=100, score=-0.000, total=   0.0s\n",
      "[CV] alpha=100 .......................................................\n",
      "[CV] .......................... alpha=100, score=-0.000, total=   0.0s\n"
     ]
    },
    {
     "name": "stderr",
     "output_type": "stream",
     "text": [
      "[Parallel(n_jobs=1)]: Done  90 out of  90 | elapsed:    0.8s finished\n"
     ]
    },
    {
     "data": {
      "text/plain": [
       "GridSearchCV(cv=None, error_score=nan,\n",
       "             estimator=Lasso(alpha=1.0, copy_X=True, fit_intercept=True,\n",
       "                             max_iter=1000, normalize=False, positive=False,\n",
       "                             precompute=False, random_state=None,\n",
       "                             selection='cyclic', tol=0.0001, warm_start=False),\n",
       "             iid='deprecated', n_jobs=None,\n",
       "             param_grid={'alpha': [0.001, 0.01, 0.02, 0.03, 0.04, 0.05, 0.06,\n",
       "                                   0.07, 0.08, 1, 2, 3, 5, 8, 10, 20, 50,\n",
       "                                   100]},\n",
       "             pre_dispatch='2*n_jobs', refit=True, return_train_score=False,\n",
       "             scoring='r2', verbose=3)"
      ]
     },
     "execution_count": 13,
     "metadata": {},
     "output_type": "execute_result"
    }
   ],
   "source": [
    "# Fit the model using the grid search estimator. \n",
    "# This will take the lasso model and try each combination of parameters\n",
    "grid.fit(X_train_scaled, y_train_scaled)"
   ]
  },
  {
   "cell_type": "code",
   "execution_count": 14,
   "metadata": {},
   "outputs": [
    {
     "name": "stdout",
     "output_type": "stream",
     "text": [
      "{'alpha': 0.001}\n"
     ]
    }
   ],
   "source": [
    "# List the best parameters for this dataset\n",
    "print(grid.best_params_)"
   ]
  },
  {
   "cell_type": "code",
   "execution_count": 15,
   "metadata": {},
   "outputs": [
    {
     "name": "stdout",
     "output_type": "stream",
     "text": [
      "Test Acc: 0.653\n"
     ]
    }
   ],
   "source": [
    "print('Test Acc: %.3f' % grid.score(X_test_scaled, y_test_scaled))"
   ]
  },
  {
   "cell_type": "code",
   "execution_count": 16,
   "metadata": {},
   "outputs": [
    {
     "name": "stdout",
     "output_type": "stream",
     "text": [
      "Test Acc: 0.660\n"
     ]
    }
   ],
   "source": [
    "print('Test Acc: %.3f' % grid.best_score_)"
   ]
  },
  {
   "cell_type": "markdown",
   "metadata": {},
   "source": [
    "Examining Lasso Model with aplha = 0.001"
   ]
  },
  {
   "cell_type": "code",
   "execution_count": 17,
   "metadata": {},
   "outputs": [],
   "source": [
    "# Lasso with best param\n",
    "lasso_model= Lasso(alpha=0.001)\n",
    "# Extract the coefficient for all features\n",
    "lasso_coeffs = lasso_model.fit(X_train_scaled,y_train_scaled).coef_\n",
    "feature_names = [\"mileage\",\"tax\",\"mpg\",\"engineSize\"]"
   ]
  },
  {
   "cell_type": "code",
   "execution_count": 18,
   "metadata": {},
   "outputs": [
    {
     "data": {
      "image/png": "[encoded data removed]",
      "text/plain": [
       "<Figure size 720x432 with 1 Axes>"
      ]
     },
     "metadata": {
      "needs_background": "light"
     },
     "output_type": "display_data"
    }
   ],
   "source": [
    "# plot coefficient estimates\n",
    "plt.figure(figsize=(10,6))\n",
    "plt.plot(range(len(feature_names)),lasso_coeffs)\n",
    "plt.axhline(0, color='g', linestyle='solid')\n",
    "plt.xticks(range(len(feature_names)),feature_names,rotation=50)\n",
    "plt.title(\"Coefficients Lasso Regression\")\n",
    "plt.ylabel(\"coefficients\")\n",
    "plt.xlabel(\"features_names\")\n",
    "plt.show()"
   ]
  }
 ],
 "metadata": {
  "celltoolbar": "Create Assignment",
  "kernelspec": {
   "display_name": "Python [conda env:ML] *",
   "language": "python",
   "name": "conda-env-ML-py"
  },
  "language_info": {
   "codemirror_mode": {
    "name": "ipython",
    "version": 3
   },
   "file_extension": ".py",
   "mimetype": "text/x-python",
   "name": "python",
   "nbconvert_exporter": "python",
   "pygments_lexer": "ipython3",
   "version": "3.8.2"
  },
  "varInspector": {
   "cols": {
    "lenName": 16,
    "lenType": 16,
    "lenVar": 40
   },
   "kernels_config": {
    "python": {
     "delete_cmd_postfix": "",
     "delete_cmd_prefix": "del ",
     "library": "var_list.py",
     "varRefreshCmd": "print(var_dic_list())"
    },
    "r": {
     "delete_cmd_postfix": ") ",
     "delete_cmd_prefix": "rm(",
     "library": "var_list.r",
     "varRefreshCmd": "cat(var_dic_list()) "
    }
   },
   "types_to_exclude": [
    "module",
    "function",
    "builtin_function_or_method",
    "instance",
    "_Feature"
   ],
   "window_display": false
  }
 },
 "nbformat": 4,
 "nbformat_minor": 2
}
