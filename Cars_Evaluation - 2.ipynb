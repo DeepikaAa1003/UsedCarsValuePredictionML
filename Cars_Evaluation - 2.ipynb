{
 "cells": [
  {
   "cell_type": "code",
   "execution_count": 1,
   "metadata": {},
   "outputs": [],
   "source": [
    "import matplotlib.pyplot as plt\n",
    "import numpy as np\n",
    "import pandas as pd\n",
    "from sklearn.model_selection import train_test_split\n",
    "from sklearn.model_selection import cross_val_score\n",
    "from sklearn.model_selection import KFold\n",
    "from sklearn.pipeline import Pipeline\n",
    "from sklearn.preprocessing import MinMaxScaler\n",
    "from tensorflow.python.keras.models import Sequential\n",
    "from tensorflow.python.keras.layers import Dense\n",
    "from tensorflow.python.keras.wrappers.scikit_learn import KerasRegressor\n",
    "import glob\n",
    "import os"
   ]
  },
  {
   "cell_type": "code",
   "execution_count": 2,
   "metadata": {},
   "outputs": [
    {
     "data": {
      "text/html": [
       "<div>\n",
       "<style scoped>\n",
       "    .dataframe tbody tr th:only-of-type {\n",
       "        vertical-align: middle;\n",
       "    }\n",
       "\n",
       "    .dataframe tbody tr th {\n",
       "        vertical-align: top;\n",
       "    }\n",
       "\n",
       "    .dataframe thead th {\n",
       "        text-align: right;\n",
       "    }\n",
       "</style>\n",
       "<table border=\"1\" class=\"dataframe\">\n",
       "  <thead>\n",
       "    <tr style=\"text-align: right;\">\n",
       "      <th></th>\n",
       "      <th>model</th>\n",
       "      <th>year</th>\n",
       "      <th>price</th>\n",
       "      <th>transmission</th>\n",
       "      <th>mileage</th>\n",
       "      <th>fuelType</th>\n",
       "      <th>tax</th>\n",
       "      <th>mpg</th>\n",
       "      <th>engineSize</th>\n",
       "      <th>make</th>\n",
       "    </tr>\n",
       "  </thead>\n",
       "  <tbody>\n",
       "    <tr>\n",
       "      <th>0</th>\n",
       "      <td>A1</td>\n",
       "      <td>2017</td>\n",
       "      <td>12500</td>\n",
       "      <td>Manual</td>\n",
       "      <td>15735</td>\n",
       "      <td>Petrol</td>\n",
       "      <td>150</td>\n",
       "      <td>55.4</td>\n",
       "      <td>1.4</td>\n",
       "      <td>Audi</td>\n",
       "    </tr>\n",
       "    <tr>\n",
       "      <th>1</th>\n",
       "      <td>A6</td>\n",
       "      <td>2016</td>\n",
       "      <td>16500</td>\n",
       "      <td>Automatic</td>\n",
       "      <td>36203</td>\n",
       "      <td>Diesel</td>\n",
       "      <td>20</td>\n",
       "      <td>64.2</td>\n",
       "      <td>2.0</td>\n",
       "      <td>Audi</td>\n",
       "    </tr>\n",
       "    <tr>\n",
       "      <th>2</th>\n",
       "      <td>A1</td>\n",
       "      <td>2016</td>\n",
       "      <td>11000</td>\n",
       "      <td>Manual</td>\n",
       "      <td>29946</td>\n",
       "      <td>Petrol</td>\n",
       "      <td>30</td>\n",
       "      <td>55.4</td>\n",
       "      <td>1.4</td>\n",
       "      <td>Audi</td>\n",
       "    </tr>\n",
       "    <tr>\n",
       "      <th>3</th>\n",
       "      <td>A4</td>\n",
       "      <td>2017</td>\n",
       "      <td>16800</td>\n",
       "      <td>Automatic</td>\n",
       "      <td>25952</td>\n",
       "      <td>Diesel</td>\n",
       "      <td>145</td>\n",
       "      <td>67.3</td>\n",
       "      <td>2.0</td>\n",
       "      <td>Audi</td>\n",
       "    </tr>\n",
       "    <tr>\n",
       "      <th>4</th>\n",
       "      <td>A3</td>\n",
       "      <td>2019</td>\n",
       "      <td>17300</td>\n",
       "      <td>Manual</td>\n",
       "      <td>1998</td>\n",
       "      <td>Petrol</td>\n",
       "      <td>145</td>\n",
       "      <td>49.6</td>\n",
       "      <td>1.0</td>\n",
       "      <td>Audi</td>\n",
       "    </tr>\n",
       "    <tr>\n",
       "      <th>...</th>\n",
       "      <td>...</td>\n",
       "      <td>...</td>\n",
       "      <td>...</td>\n",
       "      <td>...</td>\n",
       "      <td>...</td>\n",
       "      <td>...</td>\n",
       "      <td>...</td>\n",
       "      <td>...</td>\n",
       "      <td>...</td>\n",
       "      <td>...</td>\n",
       "    </tr>\n",
       "    <tr>\n",
       "      <th>85550</th>\n",
       "      <td>Eos</td>\n",
       "      <td>2012</td>\n",
       "      <td>5990</td>\n",
       "      <td>Manual</td>\n",
       "      <td>74000</td>\n",
       "      <td>Diesel</td>\n",
       "      <td>125</td>\n",
       "      <td>58.9</td>\n",
       "      <td>2.0</td>\n",
       "      <td>Volkswagen</td>\n",
       "    </tr>\n",
       "    <tr>\n",
       "      <th>85551</th>\n",
       "      <td>Fox</td>\n",
       "      <td>2008</td>\n",
       "      <td>1799</td>\n",
       "      <td>Manual</td>\n",
       "      <td>88102</td>\n",
       "      <td>Petrol</td>\n",
       "      <td>145</td>\n",
       "      <td>46.3</td>\n",
       "      <td>1.2</td>\n",
       "      <td>Volkswagen</td>\n",
       "    </tr>\n",
       "    <tr>\n",
       "      <th>85552</th>\n",
       "      <td>Fox</td>\n",
       "      <td>2009</td>\n",
       "      <td>1590</td>\n",
       "      <td>Manual</td>\n",
       "      <td>70000</td>\n",
       "      <td>Petrol</td>\n",
       "      <td>200</td>\n",
       "      <td>42.0</td>\n",
       "      <td>1.4</td>\n",
       "      <td>Volkswagen</td>\n",
       "    </tr>\n",
       "    <tr>\n",
       "      <th>85553</th>\n",
       "      <td>Fox</td>\n",
       "      <td>2006</td>\n",
       "      <td>1250</td>\n",
       "      <td>Manual</td>\n",
       "      <td>82704</td>\n",
       "      <td>Petrol</td>\n",
       "      <td>150</td>\n",
       "      <td>46.3</td>\n",
       "      <td>1.2</td>\n",
       "      <td>Volkswagen</td>\n",
       "    </tr>\n",
       "    <tr>\n",
       "      <th>85554</th>\n",
       "      <td>Fox</td>\n",
       "      <td>2007</td>\n",
       "      <td>2295</td>\n",
       "      <td>Manual</td>\n",
       "      <td>74000</td>\n",
       "      <td>Petrol</td>\n",
       "      <td>145</td>\n",
       "      <td>46.3</td>\n",
       "      <td>1.2</td>\n",
       "      <td>Volkswagen</td>\n",
       "    </tr>\n",
       "  </tbody>\n",
       "</table>\n",
       "<p>85555 rows × 10 columns</p>\n",
       "</div>"
      ],
      "text/plain": [
       "      model  year  price transmission  mileage fuelType  tax   mpg  \\\n",
       "0        A1  2017  12500       Manual    15735   Petrol  150  55.4   \n",
       "1        A6  2016  16500    Automatic    36203   Diesel   20  64.2   \n",
       "2        A1  2016  11000       Manual    29946   Petrol   30  55.4   \n",
       "3        A4  2017  16800    Automatic    25952   Diesel  145  67.3   \n",
       "4        A3  2019  17300       Manual     1998   Petrol  145  49.6   \n",
       "...     ...   ...    ...          ...      ...      ...  ...   ...   \n",
       "85550   Eos  2012   5990       Manual    74000   Diesel  125  58.9   \n",
       "85551   Fox  2008   1799       Manual    88102   Petrol  145  46.3   \n",
       "85552   Fox  2009   1590       Manual    70000   Petrol  200  42.0   \n",
       "85553   Fox  2006   1250       Manual    82704   Petrol  150  46.3   \n",
       "85554   Fox  2007   2295       Manual    74000   Petrol  145  46.3   \n",
       "\n",
       "       engineSize        make  \n",
       "0             1.4        Audi  \n",
       "1             2.0        Audi  \n",
       "2             1.4        Audi  \n",
       "3             2.0        Audi  \n",
       "4             1.0        Audi  \n",
       "...           ...         ...  \n",
       "85550         2.0  Volkswagen  \n",
       "85551         1.2  Volkswagen  \n",
       "85552         1.4  Volkswagen  \n",
       "85553         1.2  Volkswagen  \n",
       "85554         1.2  Volkswagen  \n",
       "\n",
       "[85555 rows x 10 columns]"
      ]
     },
     "execution_count": 2,
     "metadata": {},
     "output_type": "execute_result"
    }
   ],
   "source": [
    "# Concatenate the data for all car makes\n",
    "path = r'C:\\Users\\adria\\Documents\\GitHub\\UsedCarsValuePredictionML\\Data' # use your path\n",
    "all_files = glob.glob(path + \"/*.csv\")\n",
    "\n",
    "li = []\n",
    "brands = [\"Audi\",\"BMW\",\"Ford\",\"Hyundi\",\"Mercedes Benz\",\"Skoda\",\"Toyota\",\"Volkswagen\"]\n",
    "\n",
    "for filename, brand in zip(all_files, brands):\n",
    "    df = pd.read_csv(filename, index_col=None, header=0)\n",
    "    df[\"make\"] = brand\n",
    "    li.append(df)\n",
    "    \n",
    "frame = pd.concat(li, axis=0, ignore_index=True)\n",
    "frame\n"
   ]
  },
  {
   "cell_type": "code",
   "execution_count": 3,
   "metadata": {},
   "outputs": [
    {
     "data": {
      "text/plain": [
       "model           0\n",
       "year            0\n",
       "price           0\n",
       "transmission    0\n",
       "mileage         0\n",
       "fuelType        0\n",
       "tax             0\n",
       "mpg             0\n",
       "engineSize      0\n",
       "make            0\n",
       "dtype: int64"
      ]
     },
     "execution_count": 3,
     "metadata": {},
     "output_type": "execute_result"
    }
   ],
   "source": [
    "frame.isnull().sum()"
   ]
  },
  {
   "cell_type": "code",
   "execution_count": 4,
   "metadata": {},
   "outputs": [
    {
     "name": "stdout",
     "output_type": "stream",
     "text": [
      "<class 'pandas.core.frame.DataFrame'>\n",
      "RangeIndex: 85555 entries, 0 to 85554\n",
      "Data columns (total 10 columns):\n",
      " #   Column        Non-Null Count  Dtype  \n",
      "---  ------        --------------  -----  \n",
      " 0   model         85555 non-null  object \n",
      " 1   year          85555 non-null  int64  \n",
      " 2   price         85555 non-null  int64  \n",
      " 3   transmission  85555 non-null  object \n",
      " 4   mileage       85555 non-null  int64  \n",
      " 5   fuelType      85555 non-null  object \n",
      " 6   tax           85555 non-null  int64  \n",
      " 7   mpg           85555 non-null  float64\n",
      " 8   engineSize    85555 non-null  float64\n",
      " 9   make          85555 non-null  object \n",
      "dtypes: float64(2), int64(4), object(4)\n",
      "memory usage: 6.5+ MB\n"
     ]
    }
   ],
   "source": [
    "frame.info()"
   ]
  },
  {
   "cell_type": "code",
   "execution_count": 5,
   "metadata": {
    "nbgrader": {
     "grade": false,
     "grade_id": "cell-41760f7611f17b25",
     "locked": false,
     "schema_version": 1,
     "solution": true
    }
   },
   "outputs": [
    {
     "data": {
      "text/html": [
       "<div>\n",
       "<style scoped>\n",
       "    .dataframe tbody tr th:only-of-type {\n",
       "        vertical-align: middle;\n",
       "    }\n",
       "\n",
       "    .dataframe tbody tr th {\n",
       "        vertical-align: top;\n",
       "    }\n",
       "\n",
       "    .dataframe thead th {\n",
       "        text-align: right;\n",
       "    }\n",
       "</style>\n",
       "<table border=\"1\" class=\"dataframe\">\n",
       "  <thead>\n",
       "    <tr style=\"text-align: right;\">\n",
       "      <th></th>\n",
       "      <th>year</th>\n",
       "      <th>price</th>\n",
       "      <th>mileage</th>\n",
       "      <th>tax</th>\n",
       "      <th>mpg</th>\n",
       "      <th>engineSize</th>\n",
       "      <th>model_ 1 Series</th>\n",
       "      <th>model_ 2 Series</th>\n",
       "      <th>model_ 3 Series</th>\n",
       "      <th>model_ 4 Series</th>\n",
       "      <th>...</th>\n",
       "      <th>fuelType_Other</th>\n",
       "      <th>fuelType_Petrol</th>\n",
       "      <th>make_Audi</th>\n",
       "      <th>make_BMW</th>\n",
       "      <th>make_Ford</th>\n",
       "      <th>make_Hyundi</th>\n",
       "      <th>make_Mercedes Benz</th>\n",
       "      <th>make_Skoda</th>\n",
       "      <th>make_Toyota</th>\n",
       "      <th>make_Volkswagen</th>\n",
       "    </tr>\n",
       "  </thead>\n",
       "  <tbody>\n",
       "    <tr>\n",
       "      <th>0</th>\n",
       "      <td>2017</td>\n",
       "      <td>12500</td>\n",
       "      <td>15735</td>\n",
       "      <td>150</td>\n",
       "      <td>55.4</td>\n",
       "      <td>1.4</td>\n",
       "      <td>0</td>\n",
       "      <td>0</td>\n",
       "      <td>0</td>\n",
       "      <td>0</td>\n",
       "      <td>...</td>\n",
       "      <td>0</td>\n",
       "      <td>1</td>\n",
       "      <td>1</td>\n",
       "      <td>0</td>\n",
       "      <td>0</td>\n",
       "      <td>0</td>\n",
       "      <td>0</td>\n",
       "      <td>0</td>\n",
       "      <td>0</td>\n",
       "      <td>0</td>\n",
       "    </tr>\n",
       "    <tr>\n",
       "      <th>1</th>\n",
       "      <td>2016</td>\n",
       "      <td>16500</td>\n",
       "      <td>36203</td>\n",
       "      <td>20</td>\n",
       "      <td>64.2</td>\n",
       "      <td>2.0</td>\n",
       "      <td>0</td>\n",
       "      <td>0</td>\n",
       "      <td>0</td>\n",
       "      <td>0</td>\n",
       "      <td>...</td>\n",
       "      <td>0</td>\n",
       "      <td>0</td>\n",
       "      <td>1</td>\n",
       "      <td>0</td>\n",
       "      <td>0</td>\n",
       "      <td>0</td>\n",
       "      <td>0</td>\n",
       "      <td>0</td>\n",
       "      <td>0</td>\n",
       "      <td>0</td>\n",
       "    </tr>\n",
       "    <tr>\n",
       "      <th>2</th>\n",
       "      <td>2016</td>\n",
       "      <td>11000</td>\n",
       "      <td>29946</td>\n",
       "      <td>30</td>\n",
       "      <td>55.4</td>\n",
       "      <td>1.4</td>\n",
       "      <td>0</td>\n",
       "      <td>0</td>\n",
       "      <td>0</td>\n",
       "      <td>0</td>\n",
       "      <td>...</td>\n",
       "      <td>0</td>\n",
       "      <td>1</td>\n",
       "      <td>1</td>\n",
       "      <td>0</td>\n",
       "      <td>0</td>\n",
       "      <td>0</td>\n",
       "      <td>0</td>\n",
       "      <td>0</td>\n",
       "      <td>0</td>\n",
       "      <td>0</td>\n",
       "    </tr>\n",
       "    <tr>\n",
       "      <th>3</th>\n",
       "      <td>2017</td>\n",
       "      <td>16800</td>\n",
       "      <td>25952</td>\n",
       "      <td>145</td>\n",
       "      <td>67.3</td>\n",
       "      <td>2.0</td>\n",
       "      <td>0</td>\n",
       "      <td>0</td>\n",
       "      <td>0</td>\n",
       "      <td>0</td>\n",
       "      <td>...</td>\n",
       "      <td>0</td>\n",
       "      <td>0</td>\n",
       "      <td>1</td>\n",
       "      <td>0</td>\n",
       "      <td>0</td>\n",
       "      <td>0</td>\n",
       "      <td>0</td>\n",
       "      <td>0</td>\n",
       "      <td>0</td>\n",
       "      <td>0</td>\n",
       "    </tr>\n",
       "    <tr>\n",
       "      <th>4</th>\n",
       "      <td>2019</td>\n",
       "      <td>17300</td>\n",
       "      <td>1998</td>\n",
       "      <td>145</td>\n",
       "      <td>49.6</td>\n",
       "      <td>1.0</td>\n",
       "      <td>0</td>\n",
       "      <td>0</td>\n",
       "      <td>0</td>\n",
       "      <td>0</td>\n",
       "      <td>...</td>\n",
       "      <td>0</td>\n",
       "      <td>1</td>\n",
       "      <td>1</td>\n",
       "      <td>0</td>\n",
       "      <td>0</td>\n",
       "      <td>0</td>\n",
       "      <td>0</td>\n",
       "      <td>0</td>\n",
       "      <td>0</td>\n",
       "      <td>0</td>\n",
       "    </tr>\n",
       "  </tbody>\n",
       "</table>\n",
       "<p>5 rows × 196 columns</p>\n",
       "</div>"
      ],
      "text/plain": [
       "   year  price  mileage  tax   mpg  engineSize  model_ 1 Series  \\\n",
       "0  2017  12500    15735  150  55.4         1.4                0   \n",
       "1  2016  16500    36203   20  64.2         2.0                0   \n",
       "2  2016  11000    29946   30  55.4         1.4                0   \n",
       "3  2017  16800    25952  145  67.3         2.0                0   \n",
       "4  2019  17300     1998  145  49.6         1.0                0   \n",
       "\n",
       "   model_ 2 Series  model_ 3 Series  model_ 4 Series  ...  fuelType_Other  \\\n",
       "0                0                0                0  ...               0   \n",
       "1                0                0                0  ...               0   \n",
       "2                0                0                0  ...               0   \n",
       "3                0                0                0  ...               0   \n",
       "4                0                0                0  ...               0   \n",
       "\n",
       "   fuelType_Petrol  make_Audi  make_BMW  make_Ford  make_Hyundi  \\\n",
       "0                1          1         0          0            0   \n",
       "1                0          1         0          0            0   \n",
       "2                1          1         0          0            0   \n",
       "3                0          1         0          0            0   \n",
       "4                1          1         0          0            0   \n",
       "\n",
       "   make_Mercedes Benz  make_Skoda  make_Toyota  make_Volkswagen  \n",
       "0                   0           0            0                0  \n",
       "1                   0           0            0                0  \n",
       "2                   0           0            0                0  \n",
       "3                   0           0            0                0  \n",
       "4                   0           0            0                0  \n",
       "\n",
       "[5 rows x 196 columns]"
      ]
     },
     "execution_count": 5,
     "metadata": {},
     "output_type": "execute_result"
    }
   ],
   "source": [
    "# # Use Pandas get_dummies to convert categorical data\n",
    "frame_one_hot = pd.get_dummies(frame, columns =['model', 'transmission', 'fuelType', 'make'])\n",
    "frame_one_hot.head()"
   ]
  },
  {
   "cell_type": "code",
   "execution_count": 6,
   "metadata": {},
   "outputs": [],
   "source": [
    "#frame_one_hot.to_csv('frame_one_hot.csv')"
   ]
  },
  {
   "cell_type": "code",
   "execution_count": 7,
   "metadata": {
    "nbgrader": {
     "grade": false,
     "grade_id": "cell-a61368ced39885a2",
     "locked": false,
     "schema_version": 1,
     "solution": true
    }
   },
   "outputs": [
    {
     "name": "stdout",
     "output_type": "stream",
     "text": [
      "(85555, 195) (85555, 1)\n"
     ]
    }
   ],
   "source": [
    "# # Assign X (data) and y (target)\n",
    "X = frame_one_hot.drop(['price'],axis=1)\n",
    "y = frame_one_hot[\"price\"].values.reshape(-1, 1)\n",
    "print(X.shape, y.shape)"
   ]
  },
  {
   "cell_type": "code",
   "execution_count": 8,
   "metadata": {
    "nbgrader": {
     "grade": false,
     "grade_id": "cell-62193e4c8caef9c5",
     "locked": false,
     "schema_version": 1,
     "solution": true
    }
   },
   "outputs": [],
   "source": [
    "# Split the data into training and testing\n",
    "from sklearn.model_selection import train_test_split\n",
    "X_train, X_test, y_train, y_test = train_test_split(X, y, random_state=42)"
   ]
  },
  {
   "cell_type": "code",
   "execution_count": 9,
   "metadata": {
    "nbgrader": {
     "grade": false,
     "grade_id": "cell-a885840c1f62d274",
     "locked": false,
     "schema_version": 1,
     "solution": true
    }
   },
   "outputs": [],
   "source": [
    "#Scale Data\n",
    "X_scaler = MinMaxScaler().fit(X_train)\n",
    "y_scaler = MinMaxScaler().fit(y_train)"
   ]
  },
  {
   "cell_type": "code",
   "execution_count": 10,
   "metadata": {},
   "outputs": [],
   "source": [
    "# Transform the training and testing data using the X_scaler and y_scaler models\n",
    "X_train_scaled = X_scaler.transform(X_train)\n",
    "X_test_scaled = X_scaler.transform(X_test)\n",
    "y_train_scaled = y_scaler.transform(y_train)\n",
    "y_test_scaled = y_scaler.transform(y_test)"
   ]
  },
  {
   "cell_type": "code",
   "execution_count": 11,
   "metadata": {},
   "outputs": [
    {
     "data": {
      "text/plain": [
       "array([[0.52222222, 0.06530688, 0.25      , ..., 0.        , 0.        ,\n",
       "        0.        ],\n",
       "       [0.48888889, 0.20529735, 0.27586207, ..., 0.        , 0.        ,\n",
       "        0.        ],\n",
       "       [0.54444444, 0.01666339, 0.24137931, ..., 0.        , 1.        ,\n",
       "        0.        ],\n",
       "       ...,\n",
       "       [0.54444444, 0.0208934 , 0.25      , ..., 0.        , 0.        ,\n",
       "        1.        ],\n",
       "       [0.55555556, 0.00185001, 0.25      , ..., 0.        , 0.        ,\n",
       "        0.        ],\n",
       "       [0.55555556, 0.01176337, 0.25      , ..., 0.        , 0.        ,\n",
       "        0.        ]])"
      ]
     },
     "execution_count": 11,
     "metadata": {},
     "output_type": "execute_result"
    }
   ],
   "source": [
    "X_train_scaled"
   ]
  },
  {
   "cell_type": "markdown",
   "metadata": {},
   "source": [
    "# Define Neural Network Model"
   ]
  },
  {
   "cell_type": "code",
   "execution_count": 12,
   "metadata": {},
   "outputs": [
    {
     "name": "stdout",
     "output_type": "stream",
     "text": [
      "Model: \"sequential\"\n",
      "_________________________________________________________________\n",
      "Layer (type)                 Output Shape              Param #   \n",
      "=================================================================\n",
      "dense (Dense)                (None, 100)               19600     \n",
      "_________________________________________________________________\n",
      "dense_1 (Dense)              (None, 50)                5050      \n",
      "_________________________________________________________________\n",
      "dense_2 (Dense)              (None, 1)                 51        \n",
      "=================================================================\n",
      "Total params: 24,701\n",
      "Trainable params: 24,701\n",
      "Non-trainable params: 0\n",
      "_________________________________________________________________\n"
     ]
    }
   ],
   "source": [
    "model = Sequential()\n",
    "model.add(Dense(100, input_dim=195, kernel_initializer='normal', activation='relu'))\n",
    "model.add(Dense(50, activation='relu'))\n",
    "model.add(Dense(1, activation='linear'))\n",
    "model.summary()"
   ]
  },
  {
   "cell_type": "markdown",
   "metadata": {},
   "source": [
    "# Compile the model"
   ]
  },
  {
   "cell_type": "code",
   "execution_count": 13,
   "metadata": {},
   "outputs": [],
   "source": [
    "model.compile(loss='mse', optimizer='adam', metrics=['mse','mae'])"
   ]
  },
  {
   "cell_type": "markdown",
   "metadata": {},
   "source": [
    "# Training the model"
   ]
  },
  {
   "cell_type": "code",
   "execution_count": 14,
   "metadata": {},
   "outputs": [
    {
     "name": "stdout",
     "output_type": "stream",
     "text": [
      "Epoch 1/150\n",
      "1027/1027 [==============================] - 1s 808us/step - loss: 9.3649e-04 - mse: 9.3649e-04 - mae: 0.0182 - val_loss: 4.4083e-04 - val_mse: 4.4083e-04 - val_mae: 0.0140\n",
      "Epoch 2/150\n",
      "1027/1027 [==============================] - 1s 700us/step - loss: 4.4324e-04 - mse: 4.4324e-04 - mae: 0.0137 - val_loss: 3.7764e-04 - val_mse: 3.7764e-04 - val_mae: 0.0128\n",
      "Epoch 3/150\n",
      "1027/1027 [==============================] - 1s 691us/step - loss: 3.7957e-04 - mse: 3.7957e-04 - mae: 0.0128 - val_loss: 3.5674e-04 - val_mse: 3.5674e-04 - val_mae: 0.0126\n",
      "Epoch 4/150\n",
      "1027/1027 [==============================] - 1s 690us/step - loss: 3.5751e-04 - mse: 3.5751e-04 - mae: 0.0125 - val_loss: 3.4193e-04 - val_mse: 3.4193e-04 - val_mae: 0.0121\n",
      "Epoch 5/150\n",
      "1027/1027 [==============================] - 1s 715us/step - loss: 3.3912e-04 - mse: 3.3912e-04 - mae: 0.0122 - val_loss: 3.1914e-04 - val_mse: 3.1914e-04 - val_mae: 0.0118\n",
      "Epoch 6/150\n",
      "1027/1027 [==============================] - 1s 693us/step - loss: 3.1113e-04 - mse: 3.1113e-04 - mae: 0.0117 - val_loss: 3.5635e-04 - val_mse: 3.5635e-04 - val_mae: 0.0129\n",
      "Epoch 7/150\n",
      "1027/1027 [==============================] - 1s 705us/step - loss: 2.9997e-04 - mse: 2.9997e-04 - mae: 0.0114 - val_loss: 3.3391e-04 - val_mse: 3.3391e-04 - val_mae: 0.0124\n",
      "Epoch 8/150\n",
      "1027/1027 [==============================] - 1s 718us/step - loss: 2.9732e-04 - mse: 2.9732e-04 - mae: 0.0113 - val_loss: 2.9818e-04 - val_mse: 2.9818e-04 - val_mae: 0.0111\n",
      "Epoch 9/150\n",
      "1027/1027 [==============================] - 1s 716us/step - loss: 2.8739e-04 - mse: 2.8739e-04 - mae: 0.0111 - val_loss: 2.6733e-04 - val_mse: 2.6733e-04 - val_mae: 0.0106\n",
      "Epoch 10/150\n",
      "1027/1027 [==============================] - 1s 723us/step - loss: 2.7341e-04 - mse: 2.7341e-04 - mae: 0.0109 - val_loss: 3.0925e-04 - val_mse: 3.0925e-04 - val_mae: 0.0115\n",
      "Epoch 11/150\n",
      "1027/1027 [==============================] - 1s 714us/step - loss: 2.6664e-04 - mse: 2.6664e-04 - mae: 0.0107 - val_loss: 2.6738e-04 - val_mse: 2.6738e-04 - val_mae: 0.0109\n",
      "Epoch 12/150\n",
      "1027/1027 [==============================] - 1s 726us/step - loss: 2.5859e-04 - mse: 2.5859e-04 - mae: 0.0105 - val_loss: 2.8906e-04 - val_mse: 2.8906e-04 - val_mae: 0.0110\n",
      "Epoch 13/150\n",
      "1027/1027 [==============================] - 1s 721us/step - loss: 2.5660e-04 - mse: 2.5660e-04 - mae: 0.0105 - val_loss: 2.6765e-04 - val_mse: 2.6765e-04 - val_mae: 0.0104\n",
      "Epoch 14/150\n",
      "1027/1027 [==============================] - 1s 748us/step - loss: 2.5232e-04 - mse: 2.5232e-04 - mae: 0.0104 - val_loss: 2.5964e-04 - val_mse: 2.5964e-04 - val_mae: 0.0105\n",
      "Epoch 15/150\n",
      "1027/1027 [==============================] - 1s 731us/step - loss: 2.5006e-04 - mse: 2.5006e-04 - mae: 0.0103 - val_loss: 2.8040e-04 - val_mse: 2.8040e-04 - val_mae: 0.0110\n",
      "Epoch 16/150\n",
      "1027/1027 [==============================] - 1s 742us/step - loss: 2.4356e-04 - mse: 2.4356e-04 - mae: 0.0101 - val_loss: 2.5133e-04 - val_mse: 2.5133e-04 - val_mae: 0.0105\n",
      "Epoch 17/150\n",
      "1027/1027 [==============================] - 1s 733us/step - loss: 2.3913e-04 - mse: 2.3913e-04 - mae: 0.0100 - val_loss: 2.5657e-04 - val_mse: 2.5657e-04 - val_mae: 0.0105\n",
      "Epoch 18/150\n",
      "1027/1027 [==============================] - 1s 744us/step - loss: 2.3896e-04 - mse: 2.3896e-04 - mae: 0.0101 - val_loss: 2.4914e-04 - val_mse: 2.4914e-04 - val_mae: 0.0104\n",
      "Epoch 19/150\n",
      "1027/1027 [==============================] - 1s 732us/step - loss: 2.3371e-04 - mse: 2.3371e-04 - mae: 0.0099 - val_loss: 2.4344e-04 - val_mse: 2.4344e-04 - val_mae: 0.0102\n",
      "Epoch 20/150\n",
      "1027/1027 [==============================] - 1s 745us/step - loss: 2.3450e-04 - mse: 2.3450e-04 - mae: 0.0099 - val_loss: 2.4899e-04 - val_mse: 2.4899e-04 - val_mae: 0.0105\n",
      "Epoch 21/150\n",
      "1027/1027 [==============================] - 1s 771us/step - loss: 2.2588e-04 - mse: 2.2588e-04 - mae: 0.0097 - val_loss: 2.3760e-04 - val_mse: 2.3760e-04 - val_mae: 0.0100\n",
      "Epoch 22/150\n",
      "1027/1027 [==============================] - 1s 746us/step - loss: 2.2808e-04 - mse: 2.2808e-04 - mae: 0.0098 - val_loss: 2.2603e-04 - val_mse: 2.2603e-04 - val_mae: 0.0098\n",
      "Epoch 23/150\n",
      "1027/1027 [==============================] - 1s 760us/step - loss: 2.2291e-04 - mse: 2.2291e-04 - mae: 0.0097 - val_loss: 2.4061e-04 - val_mse: 2.4061e-04 - val_mae: 0.0103\n",
      "Epoch 24/150\n",
      "1027/1027 [==============================] - 1s 747us/step - loss: 2.1763e-04 - mse: 2.1763e-04 - mae: 0.0096 - val_loss: 2.4004e-04 - val_mse: 2.4004e-04 - val_mae: 0.0100\n",
      "Epoch 25/150\n",
      "1027/1027 [==============================] - 1s 746us/step - loss: 2.2058e-04 - mse: 2.2058e-04 - mae: 0.0096 - val_loss: 2.3875e-04 - val_mse: 2.3875e-04 - val_mae: 0.0104\n",
      "Epoch 26/150\n",
      "1027/1027 [==============================] - 1s 751us/step - loss: 2.1704e-04 - mse: 2.1704e-04 - mae: 0.0095 - val_loss: 2.2395e-04 - val_mse: 2.2395e-04 - val_mae: 0.0099\n",
      "Epoch 27/150\n",
      "1027/1027 [==============================] - 1s 733us/step - loss: 2.1429e-04 - mse: 2.1429e-04 - mae: 0.0095 - val_loss: 2.3457e-04 - val_mse: 2.3457e-04 - val_mae: 0.0098\n",
      "Epoch 28/150\n",
      "1027/1027 [==============================] - 1s 763us/step - loss: 2.1478e-04 - mse: 2.1478e-04 - mae: 0.0095 - val_loss: 2.2297e-04 - val_mse: 2.2297e-04 - val_mae: 0.0095\n",
      "Epoch 29/150\n",
      "1027/1027 [==============================] - 1s 752us/step - loss: 2.1218e-04 - mse: 2.1218e-04 - mae: 0.0094 - val_loss: 2.1956e-04 - val_mse: 2.1956e-04 - val_mae: 0.0096\n",
      "Epoch 30/150\n",
      "1027/1027 [==============================] - 1s 746us/step - loss: 2.1328e-04 - mse: 2.1328e-04 - mae: 0.0094 - val_loss: 2.3102e-04 - val_mse: 2.3102e-04 - val_mae: 0.0100\n",
      "Epoch 31/150\n",
      "1027/1027 [==============================] - 1s 753us/step - loss: 2.1060e-04 - mse: 2.1060e-04 - mae: 0.0093 - val_loss: 2.1287e-04 - val_mse: 2.1287e-04 - val_mae: 0.0094\n",
      "Epoch 32/150\n",
      "1027/1027 [==============================] - 1s 743us/step - loss: 2.0676e-04 - mse: 2.0676e-04 - mae: 0.0093 - val_loss: 2.2650e-04 - val_mse: 2.2650e-04 - val_mae: 0.0096\n",
      "Epoch 33/150\n",
      "1027/1027 [==============================] - 1s 762us/step - loss: 2.0564e-04 - mse: 2.0564e-04 - mae: 0.0092 - val_loss: 2.6043e-04 - val_mse: 2.6043e-04 - val_mae: 0.0107\n",
      "Epoch 34/150\n",
      "1027/1027 [==============================] - 1s 874us/step - loss: 2.1001e-04 - mse: 2.1001e-04 - mae: 0.0094 - val_loss: 2.2272e-04 - val_mse: 2.2272e-04 - val_mae: 0.0098\n",
      "Epoch 35/150\n",
      "1027/1027 [==============================] - 1s 847us/step - loss: 2.0412e-04 - mse: 2.0412e-04 - mae: 0.0092 - val_loss: 2.3031e-04 - val_mse: 2.3031e-04 - val_mae: 0.0100\n",
      "Epoch 36/150\n",
      "1027/1027 [==============================] - 1s 866us/step - loss: 2.0573e-04 - mse: 2.0573e-04 - mae: 0.0092 - val_loss: 2.1718e-04 - val_mse: 2.1718e-04 - val_mae: 0.0095\n",
      "Epoch 37/150\n",
      "1027/1027 [==============================] - 1s 851us/step - loss: 2.0041e-04 - mse: 2.0041e-04 - mae: 0.0091 - val_loss: 2.4193e-04 - val_mse: 2.4193e-04 - val_mae: 0.0099\n",
      "Epoch 38/150\n",
      "1027/1027 [==============================] - 1s 838us/step - loss: 2.0363e-04 - mse: 2.0363e-04 - mae: 0.0092 - val_loss: 2.3266e-04 - val_mse: 2.3266e-04 - val_mae: 0.0103\n",
      "Epoch 39/150\n",
      "1027/1027 [==============================] - 1s 836us/step - loss: 2.0087e-04 - mse: 2.0087e-04 - mae: 0.0091 - val_loss: 2.2548e-04 - val_mse: 2.2548e-04 - val_mae: 0.0095\n",
      "Epoch 40/150\n",
      "1027/1027 [==============================] - 1s 932us/step - loss: 2.0036e-04 - mse: 2.0036e-04 - mae: 0.0091 - val_loss: 2.1276e-04 - val_mse: 2.1276e-04 - val_mae: 0.0093\n",
      "Epoch 41/150\n",
      "1027/1027 [==============================] - 1s 835us/step - loss: 1.9544e-04 - mse: 1.9544e-04 - mae: 0.0090 - val_loss: 2.1630e-04 - val_mse: 2.1630e-04 - val_mae: 0.0093\n",
      "Epoch 42/150\n",
      "1027/1027 [==============================] - 1s 898us/step - loss: 1.9788e-04 - mse: 1.9788e-04 - mae: 0.0091 - val_loss: 2.4184e-04 - val_mse: 2.4184e-04 - val_mae: 0.0101\n",
      "Epoch 43/150\n",
      "1027/1027 [==============================] - 1s 874us/step - loss: 1.9666e-04 - mse: 1.9666e-04 - mae: 0.0091 - val_loss: 2.0958e-04 - val_mse: 2.0958e-04 - val_mae: 0.0092\n",
      "Epoch 44/150\n",
      "1027/1027 [==============================] - 1s 926us/step - loss: 1.9446e-04 - mse: 1.9446e-04 - mae: 0.0090 - val_loss: 2.2058e-04 - val_mse: 2.2058e-04 - val_mae: 0.0093\n",
      "Epoch 45/150\n"
     ]
    },
    {
     "name": "stdout",
     "output_type": "stream",
     "text": [
      "1027/1027 [==============================] - 1s 800us/step - loss: 1.9451e-04 - mse: 1.9451e-04 - mae: 0.0089 - val_loss: 2.2446e-04 - val_mse: 2.2446e-04 - val_mae: 0.0098\n",
      "Epoch 46/150\n",
      "1027/1027 [==============================] - 1s 793us/step - loss: 1.9588e-04 - mse: 1.9588e-04 - mae: 0.0090 - val_loss: 2.0987e-04 - val_mse: 2.0987e-04 - val_mae: 0.0093\n",
      "Epoch 47/150\n",
      "1027/1027 [==============================] - 1s 790us/step - loss: 1.9383e-04 - mse: 1.9383e-04 - mae: 0.0089 - val_loss: 2.0810e-04 - val_mse: 2.0810e-04 - val_mae: 0.0093\n",
      "Epoch 48/150\n",
      "1027/1027 [==============================] - 1s 780us/step - loss: 1.9317e-04 - mse: 1.9317e-04 - mae: 0.0089 - val_loss: 2.0519e-04 - val_mse: 2.0519e-04 - val_mae: 0.0091\n",
      "Epoch 49/150\n",
      "1027/1027 [==============================] - 1s 790us/step - loss: 1.9050e-04 - mse: 1.9050e-04 - mae: 0.0089 - val_loss: 2.1411e-04 - val_mse: 2.1411e-04 - val_mae: 0.0096\n",
      "Epoch 50/150\n",
      "1027/1027 [==============================] - 1s 818us/step - loss: 1.9017e-04 - mse: 1.9017e-04 - mae: 0.0088 - val_loss: 2.0403e-04 - val_mse: 2.0403e-04 - val_mae: 0.0091\n",
      "Epoch 51/150\n",
      "1027/1027 [==============================] - 1s 820us/step - loss: 1.9334e-04 - mse: 1.9334e-04 - mae: 0.0089 - val_loss: 2.2949e-04 - val_mse: 2.2949e-04 - val_mae: 0.0097\n",
      "Epoch 52/150\n",
      "1027/1027 [==============================] - 1s 824us/step - loss: 1.9168e-04 - mse: 1.9168e-04 - mae: 0.0089 - val_loss: 2.0842e-04 - val_mse: 2.0842e-04 - val_mae: 0.0091\n",
      "Epoch 53/150\n",
      "1027/1027 [==============================] - 1s 807us/step - loss: 1.8641e-04 - mse: 1.8641e-04 - mae: 0.0088 - val_loss: 2.1384e-04 - val_mse: 2.1384e-04 - val_mae: 0.0094\n",
      "Epoch 54/150\n",
      "1027/1027 [==============================] - 1s 807us/step - loss: 1.8985e-04 - mse: 1.8985e-04 - mae: 0.0089 - val_loss: 2.0896e-04 - val_mse: 2.0896e-04 - val_mae: 0.0092\n",
      "Epoch 55/150\n",
      "1027/1027 [==============================] - 1s 812us/step - loss: 1.8920e-04 - mse: 1.8920e-04 - mae: 0.0088 - val_loss: 2.0745e-04 - val_mse: 2.0745e-04 - val_mae: 0.0092\n",
      "Epoch 56/150\n",
      "1027/1027 [==============================] - 1s 842us/step - loss: 1.8696e-04 - mse: 1.8696e-04 - mae: 0.0088 - val_loss: 2.0270e-04 - val_mse: 2.0270e-04 - val_mae: 0.0091\n",
      "Epoch 57/150\n",
      "1027/1027 [==============================] - 1s 848us/step - loss: 1.8869e-04 - mse: 1.8869e-04 - mae: 0.0088 - val_loss: 2.0278e-04 - val_mse: 2.0278e-04 - val_mae: 0.0090\n",
      "Epoch 58/150\n",
      "1027/1027 [==============================] - 1s 816us/step - loss: 1.8584e-04 - mse: 1.8584e-04 - mae: 0.0087 - val_loss: 2.0815e-04 - val_mse: 2.0815e-04 - val_mae: 0.0092\n",
      "Epoch 59/150\n",
      "1027/1027 [==============================] - 1s 844us/step - loss: 1.8847e-04 - mse: 1.8847e-04 - mae: 0.0088 - val_loss: 2.0891e-04 - val_mse: 2.0891e-04 - val_mae: 0.0092\n",
      "Epoch 60/150\n",
      "1027/1027 [==============================] - 1s 817us/step - loss: 1.8585e-04 - mse: 1.8585e-04 - mae: 0.0087 - val_loss: 2.1933e-04 - val_mse: 2.1933e-04 - val_mae: 0.0094\n",
      "Epoch 61/150\n",
      "1027/1027 [==============================] - 1s 807us/step - loss: 1.8526e-04 - mse: 1.8526e-04 - mae: 0.0087 - val_loss: 2.0619e-04 - val_mse: 2.0619e-04 - val_mae: 0.0094\n",
      "Epoch 62/150\n",
      "1027/1027 [==============================] - 1s 840us/step - loss: 1.8499e-04 - mse: 1.8499e-04 - mae: 0.0088 - val_loss: 2.2107e-04 - val_mse: 2.2107e-04 - val_mae: 0.0094\n",
      "Epoch 63/150\n",
      "1027/1027 [==============================] - 1s 873us/step - loss: 1.8664e-04 - mse: 1.8664e-04 - mae: 0.0088 - val_loss: 2.0534e-04 - val_mse: 2.0534e-04 - val_mae: 0.0092\n",
      "Epoch 64/150\n",
      "1027/1027 [==============================] - 1s 834us/step - loss: 1.8277e-04 - mse: 1.8277e-04 - mae: 0.0087 - val_loss: 2.1830e-04 - val_mse: 2.1830e-04 - val_mae: 0.0096\n",
      "Epoch 65/150\n",
      "1027/1027 [==============================] - 1s 856us/step - loss: 1.8400e-04 - mse: 1.8400e-04 - mae: 0.0087 - val_loss: 2.0642e-04 - val_mse: 2.0642e-04 - val_mae: 0.0090\n",
      "Epoch 66/150\n",
      "1027/1027 [==============================] - 1s 843us/step - loss: 1.8286e-04 - mse: 1.8286e-04 - mae: 0.0087 - val_loss: 2.3276e-04 - val_mse: 2.3276e-04 - val_mae: 0.0102\n",
      "Epoch 67/150\n",
      "1027/1027 [==============================] - 1s 826us/step - loss: 1.8008e-04 - mse: 1.8008e-04 - mae: 0.0086 - val_loss: 2.0727e-04 - val_mse: 2.0727e-04 - val_mae: 0.0091\n",
      "Epoch 68/150\n",
      "1027/1027 [==============================] - 1s 836us/step - loss: 1.8313e-04 - mse: 1.8313e-04 - mae: 0.0087 - val_loss: 1.9628e-04 - val_mse: 1.9628e-04 - val_mae: 0.0089\n",
      "Epoch 69/150\n",
      "1027/1027 [==============================] - 1s 819us/step - loss: 1.8019e-04 - mse: 1.8019e-04 - mae: 0.0086 - val_loss: 1.9789e-04 - val_mse: 1.9789e-04 - val_mae: 0.0089\n",
      "Epoch 70/150\n",
      "1027/1027 [==============================] - 1s 910us/step - loss: 1.8319e-04 - mse: 1.8319e-04 - mae: 0.0087 - val_loss: 2.1239e-04 - val_mse: 2.1239e-04 - val_mae: 0.0093\n",
      "Epoch 71/150\n",
      "1027/1027 [==============================] - 1s 830us/step - loss: 1.7900e-04 - mse: 1.7900e-04 - mae: 0.0086 - val_loss: 1.9984e-04 - val_mse: 1.9984e-04 - val_mae: 0.0089\n",
      "Epoch 72/150\n",
      "1027/1027 [==============================] - 1s 851us/step - loss: 1.8086e-04 - mse: 1.8086e-04 - mae: 0.0086 - val_loss: 2.0320e-04 - val_mse: 2.0320e-04 - val_mae: 0.0091\n",
      "Epoch 73/150\n",
      "1027/1027 [==============================] - 1s 819us/step - loss: 1.8042e-04 - mse: 1.8042e-04 - mae: 0.0086 - val_loss: 1.9850e-04 - val_mse: 1.9850e-04 - val_mae: 0.0088\n",
      "Epoch 74/150\n",
      "1027/1027 [==============================] - 1s 825us/step - loss: 1.7883e-04 - mse: 1.7883e-04 - mae: 0.0086 - val_loss: 2.0860e-04 - val_mse: 2.0860e-04 - val_mae: 0.0091\n",
      "Epoch 75/150\n",
      "1027/1027 [==============================] - 1s 842us/step - loss: 1.8001e-04 - mse: 1.8001e-04 - mae: 0.0086 - val_loss: 1.9789e-04 - val_mse: 1.9789e-04 - val_mae: 0.0089\n",
      "Epoch 76/150\n",
      "1027/1027 [==============================] - 1s 824us/step - loss: 1.7868e-04 - mse: 1.7868e-04 - mae: 0.0086 - val_loss: 2.1797e-04 - val_mse: 2.1797e-04 - val_mae: 0.0096\n",
      "Epoch 77/150\n",
      "1027/1027 [==============================] - 1s 831us/step - loss: 1.8154e-04 - mse: 1.8154e-04 - mae: 0.0086 - val_loss: 2.0156e-04 - val_mse: 2.0156e-04 - val_mae: 0.0089\n",
      "Epoch 78/150\n",
      "1027/1027 [==============================] - 1s 829us/step - loss: 1.8024e-04 - mse: 1.8024e-04 - mae: 0.0087 - val_loss: 2.0628e-04 - val_mse: 2.0628e-04 - val_mae: 0.0090\n",
      "Epoch 79/150\n",
      "1027/1027 [==============================] - 1s 862us/step - loss: 1.7680e-04 - mse: 1.7680e-04 - mae: 0.0085 - val_loss: 1.9883e-04 - val_mse: 1.9883e-04 - val_mae: 0.0089\n",
      "Epoch 80/150\n",
      "1027/1027 [==============================] - 1s 831us/step - loss: 1.7784e-04 - mse: 1.7784e-04 - mae: 0.0086 - val_loss: 2.0338e-04 - val_mse: 2.0338e-04 - val_mae: 0.0089\n",
      "Epoch 81/150\n",
      "1027/1027 [==============================] - 1s 838us/step - loss: 1.8122e-04 - mse: 1.8122e-04 - mae: 0.0086 - val_loss: 1.9769e-04 - val_mse: 1.9769e-04 - val_mae: 0.0089\n",
      "Epoch 82/150\n",
      "1027/1027 [==============================] - 1s 872us/step - loss: 1.7737e-04 - mse: 1.7737e-04 - mae: 0.0085 - val_loss: 2.0912e-04 - val_mse: 2.0912e-04 - val_mae: 0.0094\n",
      "Epoch 83/150\n",
      "1027/1027 [==============================] - 1s 838us/step - loss: 1.7599e-04 - mse: 1.7599e-04 - mae: 0.0085 - val_loss: 2.0500e-04 - val_mse: 2.0500e-04 - val_mae: 0.0093\n",
      "Epoch 84/150\n",
      "1027/1027 [==============================] - 1s 834us/step - loss: 1.7425e-04 - mse: 1.7425e-04 - mae: 0.0085 - val_loss: 2.2034e-04 - val_mse: 2.2034e-04 - val_mae: 0.0098\n",
      "Epoch 85/150\n",
      "1027/1027 [==============================] - 1s 861us/step - loss: 1.7635e-04 - mse: 1.7635e-04 - mae: 0.0086 - val_loss: 2.0966e-04 - val_mse: 2.0966e-04 - val_mae: 0.0091\n",
      "Epoch 86/150\n",
      "1027/1027 [==============================] - 1s 846us/step - loss: 1.7606e-04 - mse: 1.7606e-04 - mae: 0.0085 - val_loss: 2.0785e-04 - val_mse: 2.0785e-04 - val_mae: 0.0092\n",
      "Epoch 87/150\n",
      "1027/1027 [==============================] - 1s 849us/step - loss: 1.7481e-04 - mse: 1.7481e-04 - mae: 0.0085 - val_loss: 2.2426e-04 - val_mse: 2.2426e-04 - val_mae: 0.0095\n",
      "Epoch 88/150\n",
      "1027/1027 [==============================] - 1s 845us/step - loss: 1.7492e-04 - mse: 1.7492e-04 - mae: 0.0085 - val_loss: 2.0528e-04 - val_mse: 2.0528e-04 - val_mae: 0.0091\n",
      "Epoch 89/150\n"
     ]
    },
    {
     "name": "stdout",
     "output_type": "stream",
     "text": [
      "1027/1027 [==============================] - 1s 824us/step - loss: 1.7460e-04 - mse: 1.7460e-04 - mae: 0.0085 - val_loss: 1.9596e-04 - val_mse: 1.9596e-04 - val_mae: 0.0088\n",
      "Epoch 90/150\n",
      "1027/1027 [==============================] - 1s 776us/step - loss: 1.7556e-04 - mse: 1.7556e-04 - mae: 0.0085 - val_loss: 1.9981e-04 - val_mse: 1.9981e-04 - val_mae: 0.0091\n",
      "Epoch 91/150\n",
      "1027/1027 [==============================] - 1s 838us/step - loss: 1.7247e-04 - mse: 1.7247e-04 - mae: 0.0085 - val_loss: 2.0021e-04 - val_mse: 2.0021e-04 - val_mae: 0.0089\n",
      "Epoch 92/150\n",
      "1027/1027 [==============================] - 1s 796us/step - loss: 1.7655e-04 - mse: 1.7655e-04 - mae: 0.0085 - val_loss: 1.9739e-04 - val_mse: 1.9739e-04 - val_mae: 0.0089\n",
      "Epoch 93/150\n",
      "1027/1027 [==============================] - 1s 769us/step - loss: 1.7363e-04 - mse: 1.7363e-04 - mae: 0.0085 - val_loss: 2.1346e-04 - val_mse: 2.1346e-04 - val_mae: 0.0092\n",
      "Epoch 94/150\n",
      "1027/1027 [==============================] - 1s 812us/step - loss: 1.7328e-04 - mse: 1.7328e-04 - mae: 0.0084 - val_loss: 2.0239e-04 - val_mse: 2.0239e-04 - val_mae: 0.0089\n",
      "Epoch 95/150\n",
      "1027/1027 [==============================] - 1s 787us/step - loss: 1.7238e-04 - mse: 1.7238e-04 - mae: 0.0084 - val_loss: 2.1353e-04 - val_mse: 2.1353e-04 - val_mae: 0.0092\n",
      "Epoch 96/150\n",
      "1027/1027 [==============================] - 1s 780us/step - loss: 1.7324e-04 - mse: 1.7324e-04 - mae: 0.0084 - val_loss: 2.1020e-04 - val_mse: 2.1020e-04 - val_mae: 0.0091\n",
      "Epoch 97/150\n",
      "1027/1027 [==============================] - 1s 798us/step - loss: 1.7121e-04 - mse: 1.7121e-04 - mae: 0.0084 - val_loss: 1.9512e-04 - val_mse: 1.9512e-04 - val_mae: 0.0089\n",
      "Epoch 98/150\n",
      "1027/1027 [==============================] - 1s 782us/step - loss: 1.7355e-04 - mse: 1.7355e-04 - mae: 0.0084 - val_loss: 2.0155e-04 - val_mse: 2.0155e-04 - val_mae: 0.0090\n",
      "Epoch 99/150\n",
      "1027/1027 [==============================] - 1s 817us/step - loss: 1.7461e-04 - mse: 1.7461e-04 - mae: 0.0085 - val_loss: 1.9554e-04 - val_mse: 1.9554e-04 - val_mae: 0.0088\n",
      "Epoch 100/150\n",
      "1027/1027 [==============================] - 1s 835us/step - loss: 1.7184e-04 - mse: 1.7184e-04 - mae: 0.0084 - val_loss: 1.9780e-04 - val_mse: 1.9780e-04 - val_mae: 0.0088\n",
      "Epoch 101/150\n",
      "1027/1027 [==============================] - 1s 818us/step - loss: 1.6994e-04 - mse: 1.6994e-04 - mae: 0.0084 - val_loss: 2.0712e-04 - val_mse: 2.0712e-04 - val_mae: 0.0091\n",
      "Epoch 102/150\n",
      "1027/1027 [==============================] - 1s 805us/step - loss: 1.7188e-04 - mse: 1.7188e-04 - mae: 0.0084 - val_loss: 1.9647e-04 - val_mse: 1.9647e-04 - val_mae: 0.0089\n",
      "Epoch 103/150\n",
      "1027/1027 [==============================] - 1s 836us/step - loss: 1.6906e-04 - mse: 1.6906e-04 - mae: 0.0083 - val_loss: 1.8998e-04 - val_mse: 1.8998e-04 - val_mae: 0.0088\n",
      "Epoch 104/150\n",
      "1027/1027 [==============================] - 1s 826us/step - loss: 1.7041e-04 - mse: 1.7041e-04 - mae: 0.0084 - val_loss: 1.9942e-04 - val_mse: 1.9942e-04 - val_mae: 0.0089\n",
      "Epoch 105/150\n",
      "1027/1027 [==============================] - 1s 813us/step - loss: 1.7037e-04 - mse: 1.7037e-04 - mae: 0.0084 - val_loss: 2.0108e-04 - val_mse: 2.0108e-04 - val_mae: 0.0089\n",
      "Epoch 106/150\n",
      "1027/1027 [==============================] - 1s 843us/step - loss: 1.6882e-04 - mse: 1.6882e-04 - mae: 0.0083 - val_loss: 1.9123e-04 - val_mse: 1.9123e-04 - val_mae: 0.0086\n",
      "Epoch 107/150\n",
      "1027/1027 [==============================] - 1s 806us/step - loss: 1.7040e-04 - mse: 1.7040e-04 - mae: 0.0084 - val_loss: 1.9474e-04 - val_mse: 1.9474e-04 - val_mae: 0.0088\n",
      "Epoch 108/150\n",
      "1027/1027 [==============================] - 1s 839us/step - loss: 1.7027e-04 - mse: 1.7027e-04 - mae: 0.0084 - val_loss: 1.9566e-04 - val_mse: 1.9566e-04 - val_mae: 0.0087\n",
      "Epoch 109/150\n",
      "1027/1027 [==============================] - 1s 812us/step - loss: 1.6914e-04 - mse: 1.6914e-04 - mae: 0.0083 - val_loss: 2.0352e-04 - val_mse: 2.0352e-04 - val_mae: 0.0093\n",
      "Epoch 110/150\n",
      "1027/1027 [==============================] - 1s 818us/step - loss: 1.7216e-04 - mse: 1.7216e-04 - mae: 0.0084 - val_loss: 1.9800e-04 - val_mse: 1.9800e-04 - val_mae: 0.0089\n",
      "Epoch 111/150\n",
      "1027/1027 [==============================] - 1s 826us/step - loss: 1.6893e-04 - mse: 1.6893e-04 - mae: 0.0084 - val_loss: 1.9855e-04 - val_mse: 1.9855e-04 - val_mae: 0.0088\n",
      "Epoch 112/150\n",
      "1027/1027 [==============================] - 1s 822us/step - loss: 1.7130e-04 - mse: 1.7130e-04 - mae: 0.0084 - val_loss: 1.9521e-04 - val_mse: 1.9521e-04 - val_mae: 0.0089\n",
      "Epoch 113/150\n",
      "1027/1027 [==============================] - 1s 823us/step - loss: 1.7160e-04 - mse: 1.7160e-04 - mae: 0.0084 - val_loss: 1.9540e-04 - val_mse: 1.9540e-04 - val_mae: 0.0092\n",
      "Epoch 114/150\n",
      "1027/1027 [==============================] - 1s 822us/step - loss: 1.6865e-04 - mse: 1.6865e-04 - mae: 0.0083 - val_loss: 2.0020e-04 - val_mse: 2.0020e-04 - val_mae: 0.0089\n",
      "Epoch 115/150\n",
      "1027/1027 [==============================] - 1s 824us/step - loss: 1.6870e-04 - mse: 1.6870e-04 - mae: 0.0083 - val_loss: 1.9234e-04 - val_mse: 1.9234e-04 - val_mae: 0.0087\n",
      "Epoch 116/150\n",
      "1027/1027 [==============================] - 1s 831us/step - loss: 1.6767e-04 - mse: 1.6767e-04 - mae: 0.0083 - val_loss: 2.0362e-04 - val_mse: 2.0362e-04 - val_mae: 0.0090\n",
      "Epoch 117/150\n",
      "1027/1027 [==============================] - 1s 839us/step - loss: 1.6874e-04 - mse: 1.6874e-04 - mae: 0.0083 - val_loss: 1.8635e-04 - val_mse: 1.8635e-04 - val_mae: 0.0086\n",
      "Epoch 118/150\n",
      "1027/1027 [==============================] - 1s 828us/step - loss: 1.6831e-04 - mse: 1.6831e-04 - mae: 0.0083 - val_loss: 2.0693e-04 - val_mse: 2.0693e-04 - val_mae: 0.0096\n",
      "Epoch 119/150\n",
      "1027/1027 [==============================] - 1s 834us/step - loss: 1.6660e-04 - mse: 1.6660e-04 - mae: 0.0083 - val_loss: 1.9168e-04 - val_mse: 1.9168e-04 - val_mae: 0.0087\n",
      "Epoch 120/150\n",
      "1027/1027 [==============================] - 1s 844us/step - loss: 1.6960e-04 - mse: 1.6960e-04 - mae: 0.0083 - val_loss: 1.8571e-04 - val_mse: 1.8571e-04 - val_mae: 0.0087\n",
      "Epoch 121/150\n",
      "1027/1027 [==============================] - 1s 837us/step - loss: 1.6675e-04 - mse: 1.6675e-04 - mae: 0.0083 - val_loss: 1.9023e-04 - val_mse: 1.9023e-04 - val_mae: 0.0088\n",
      "Epoch 122/150\n",
      "1027/1027 [==============================] - 1s 841us/step - loss: 1.6950e-04 - mse: 1.6950e-04 - mae: 0.0084 - val_loss: 2.0299e-04 - val_mse: 2.0299e-04 - val_mae: 0.0093\n",
      "Epoch 123/150\n",
      "1027/1027 [==============================] - 1s 831us/step - loss: 1.6875e-04 - mse: 1.6875e-04 - mae: 0.0083 - val_loss: 1.9752e-04 - val_mse: 1.9752e-04 - val_mae: 0.0088\n",
      "Epoch 124/150\n",
      "1027/1027 [==============================] - 1s 820us/step - loss: 1.6485e-04 - mse: 1.6485e-04 - mae: 0.0082 - val_loss: 1.8905e-04 - val_mse: 1.8905e-04 - val_mae: 0.0087\n",
      "Epoch 125/150\n",
      "1027/1027 [==============================] - 1s 848us/step - loss: 1.6765e-04 - mse: 1.6765e-04 - mae: 0.0083 - val_loss: 1.9929e-04 - val_mse: 1.9929e-04 - val_mae: 0.0089\n",
      "Epoch 126/150\n",
      "1027/1027 [==============================] - 1s 825us/step - loss: 1.6794e-04 - mse: 1.6794e-04 - mae: 0.0083 - val_loss: 1.9357e-04 - val_mse: 1.9357e-04 - val_mae: 0.0088\n",
      "Epoch 127/150\n",
      "1027/1027 [==============================] - 1s 825us/step - loss: 1.6508e-04 - mse: 1.6508e-04 - mae: 0.0083 - val_loss: 2.0399e-04 - val_mse: 2.0399e-04 - val_mae: 0.0091\n",
      "Epoch 128/150\n",
      "1027/1027 [==============================] - 1s 848us/step - loss: 1.6720e-04 - mse: 1.6720e-04 - mae: 0.0083 - val_loss: 1.9384e-04 - val_mse: 1.9384e-04 - val_mae: 0.0087\n",
      "Epoch 129/150\n",
      "1027/1027 [==============================] - 1s 854us/step - loss: 1.6541e-04 - mse: 1.6541e-04 - mae: 0.0083 - val_loss: 1.8513e-04 - val_mse: 1.8513e-04 - val_mae: 0.0085\n",
      "Epoch 130/150\n",
      "1027/1027 [==============================] - 1s 828us/step - loss: 1.6547e-04 - mse: 1.6547e-04 - mae: 0.0082 - val_loss: 1.9852e-04 - val_mse: 1.9852e-04 - val_mae: 0.0089\n",
      "Epoch 131/150\n",
      "1027/1027 [==============================] - 1s 871us/step - loss: 1.6462e-04 - mse: 1.6462e-04 - mae: 0.0083 - val_loss: 1.8842e-04 - val_mse: 1.8842e-04 - val_mae: 0.0087\n",
      "Epoch 132/150\n",
      "1027/1027 [==============================] - 1s 847us/step - loss: 1.6502e-04 - mse: 1.6502e-04 - mae: 0.0082 - val_loss: 2.1068e-04 - val_mse: 2.1068e-04 - val_mae: 0.0091\n"
     ]
    },
    {
     "name": "stdout",
     "output_type": "stream",
     "text": [
      "Epoch 133/150\n",
      "1027/1027 [==============================] - 1s 784us/step - loss: 1.6626e-04 - mse: 1.6626e-04 - mae: 0.0082 - val_loss: 1.9843e-04 - val_mse: 1.9843e-04 - val_mae: 0.0089\n",
      "Epoch 134/150\n",
      "1027/1027 [==============================] - 1s 784us/step - loss: 1.6718e-04 - mse: 1.6718e-04 - mae: 0.0083 - val_loss: 1.8869e-04 - val_mse: 1.8869e-04 - val_mae: 0.0089\n",
      "Epoch 135/150\n",
      "1027/1027 [==============================] - 1s 814us/step - loss: 1.6518e-04 - mse: 1.6518e-04 - mae: 0.0082 - val_loss: 1.8602e-04 - val_mse: 1.8602e-04 - val_mae: 0.0087\n",
      "Epoch 136/150\n",
      "1027/1027 [==============================] - 1s 778us/step - loss: 1.6351e-04 - mse: 1.6351e-04 - mae: 0.0082 - val_loss: 1.9262e-04 - val_mse: 1.9262e-04 - val_mae: 0.0088\n",
      "Epoch 137/150\n",
      "1027/1027 [==============================] - 1s 813us/step - loss: 1.6515e-04 - mse: 1.6515e-04 - mae: 0.0082 - val_loss: 1.9044e-04 - val_mse: 1.9044e-04 - val_mae: 0.0089\n",
      "Epoch 138/150\n",
      "1027/1027 [==============================] - 1s 807us/step - loss: 1.6684e-04 - mse: 1.6684e-04 - mae: 0.0083 - val_loss: 1.8911e-04 - val_mse: 1.8911e-04 - val_mae: 0.0086\n",
      "Epoch 139/150\n",
      "1027/1027 [==============================] - 1s 816us/step - loss: 1.6415e-04 - mse: 1.6415e-04 - mae: 0.0082 - val_loss: 1.8839e-04 - val_mse: 1.8839e-04 - val_mae: 0.0086\n",
      "Epoch 140/150\n",
      "1027/1027 [==============================] - 1s 808us/step - loss: 1.6483e-04 - mse: 1.6483e-04 - mae: 0.0082 - val_loss: 1.8522e-04 - val_mse: 1.8522e-04 - val_mae: 0.0085\n",
      "Epoch 141/150\n",
      "1027/1027 [==============================] - 1s 830us/step - loss: 1.6443e-04 - mse: 1.6443e-04 - mae: 0.0082 - val_loss: 2.1289e-04 - val_mse: 2.1289e-04 - val_mae: 0.0095\n",
      "Epoch 142/150\n",
      "1027/1027 [==============================] - 1s 802us/step - loss: 1.6292e-04 - mse: 1.6292e-04 - mae: 0.0082 - val_loss: 1.8277e-04 - val_mse: 1.8277e-04 - val_mae: 0.0085\n",
      "Epoch 143/150\n",
      "1027/1027 [==============================] - 1s 837us/step - loss: 1.6361e-04 - mse: 1.6361e-04 - mae: 0.0082 - val_loss: 1.8923e-04 - val_mse: 1.8923e-04 - val_mae: 0.0088\n",
      "Epoch 144/150\n",
      "1027/1027 [==============================] - 1s 817us/step - loss: 1.6344e-04 - mse: 1.6344e-04 - mae: 0.0082 - val_loss: 1.8809e-04 - val_mse: 1.8809e-04 - val_mae: 0.0086\n",
      "Epoch 145/150\n",
      "1027/1027 [==============================] - 1s 795us/step - loss: 1.6439e-04 - mse: 1.6439e-04 - mae: 0.0082 - val_loss: 1.9338e-04 - val_mse: 1.9338e-04 - val_mae: 0.0091\n",
      "Epoch 146/150\n",
      "1027/1027 [==============================] - 1s 795us/step - loss: 1.6192e-04 - mse: 1.6192e-04 - mae: 0.0081 - val_loss: 1.9843e-04 - val_mse: 1.9843e-04 - val_mae: 0.0088\n",
      "Epoch 147/150\n",
      "1027/1027 [==============================] - 1s 798us/step - loss: 1.6132e-04 - mse: 1.6132e-04 - mae: 0.0082 - val_loss: 1.9882e-04 - val_mse: 1.9882e-04 - val_mae: 0.0088\n",
      "Epoch 148/150\n",
      "1027/1027 [==============================] - 1s 797us/step - loss: 1.6295e-04 - mse: 1.6295e-04 - mae: 0.0082 - val_loss: 1.9489e-04 - val_mse: 1.9489e-04 - val_mae: 0.0088\n",
      "Epoch 149/150\n",
      "1027/1027 [==============================] - 1s 827us/step - loss: 1.6340e-04 - mse: 1.6340e-04 - mae: 0.0082 - val_loss: 1.9120e-04 - val_mse: 1.9120e-04 - val_mae: 0.0087\n",
      "Epoch 150/150\n",
      "1027/1027 [==============================] - 1s 801us/step - loss: 1.6343e-04 - mse: 1.6343e-04 - mae: 0.0082 - val_loss: 1.9217e-04 - val_mse: 1.9217e-04 - val_mae: 0.0087\n"
     ]
    }
   ],
   "source": [
    "# Fit (train) the model\n",
    "history=model.fit(X_train_scaled, y_train_scaled, epochs=150, batch_size=50,  verbose=1, validation_split=0.2)"
   ]
  },
  {
   "cell_type": "markdown",
   "metadata": {},
   "source": [
    "# Quantifying the model"
   ]
  },
  {
   "cell_type": "code",
   "execution_count": 15,
   "metadata": {},
   "outputs": [
    {
     "name": "stdout",
     "output_type": "stream",
     "text": [
      "dict_keys(['loss', 'mse', 'mae', 'val_loss', 'val_mse', 'val_mae'])\n"
     ]
    },
    {
     "data": {
      "image/png": "[encoded data removed]",
      "text/plain": [
       "<Figure size 432x288 with 1 Axes>"
      ]
     },
     "metadata": {
      "needs_background": "light"
     },
     "output_type": "display_data"
    }
   ],
   "source": [
    "print(history.history.keys())\n",
    "plt.plot(history.history['loss'])\n",
    "plt.plot(history.history['val_loss'])\n",
    "plt.title('model loss')\n",
    "plt.ylabel('loss')\n",
    "plt.xlabel('epoch')\n",
    "plt.legend(['train', 'validation'], loc='upper right')\n",
    "plt.show()"
   ]
  },
  {
   "cell_type": "code",
   "execution_count": 16,
   "metadata": {},
   "outputs": [],
   "source": [
    "X.to_csv('x.csv')"
   ]
  },
  {
   "cell_type": "markdown",
   "metadata": {},
   "source": [
    "# Prediction"
   ]
  },
  {
   "cell_type": "markdown",
   "metadata": {},
   "source": [
    "## User Input"
   ]
  },
  {
   "cell_type": "code",
   "execution_count": 17,
   "metadata": {},
   "outputs": [],
   "source": [
    "# User entered data\n",
    "make='Audi'\n",
    "model='A1'\n",
    "year=2017\n",
    "transmission='Manual'\n",
    "mileage=15000\n",
    "fuelType='Petrol'\n",
    "tax=150\n",
    "mpg=55\n",
    "engineSize=1.4"
   ]
  },
  {
   "cell_type": "code",
   "execution_count": 18,
   "metadata": {},
   "outputs": [],
   "source": [
    "#Create an array with the user entered data\n",
    "def new_data(make,model,year,transmission,mileage,fuelType,tax,mpg,engineSize):\n",
    "    new_data=[]\n",
    "     \n",
    "    new_data.append(year)\n",
    "    new_data.append(mileage)\n",
    "    new_data.append(tax)\n",
    "    new_data.append(mpg)\n",
    "    new_data.append(engineSize)\n",
    "    \n",
    "    model_array=find_model_array(model)\n",
    "    for i in model_array:\n",
    "        new_data.append(i)\n",
    "        \n",
    "    trans_array=find_trans_array(transmission)\n",
    "    for i in trans_array:\n",
    "        new_data.append(i)\n",
    "    \n",
    "    fuelType_array=find_fuelType_array(fuelType)\n",
    "    for i in fuelType_array:\n",
    "        new_data.append(i)\n",
    "    \n",
    "    make_array=find_make_array(make)\n",
    "    for i in make_array:\n",
    "        new_data.append(i)\n",
    "    \n",
    "    return new_data\n",
    "    "
   ]
  },
  {
   "cell_type": "code",
   "execution_count": 19,
   "metadata": {},
   "outputs": [],
   "source": [
    "def find_model_array(model):\n",
    "    model_matrix=pd.read_csv('Matrix/Make_Model_Matrix.csv')\n",
    "    model_matrix=model_matrix.fillna(0)\n",
    "    find_model=model_matrix.loc[model_matrix['model']==model,:]\n",
    "    model_array=find_model.iloc[0,2:].tolist()\n",
    "    return (model_array)\n"
   ]
  },
  {
   "cell_type": "code",
   "execution_count": 20,
   "metadata": {},
   "outputs": [],
   "source": [
    "def find_trans_array(transmission):\n",
    "    trans_matrix=pd.read_csv('Matrix/Transmission_Matrix.csv')\n",
    "    find_trans=trans_matrix.loc[trans_matrix['transmission']==transmission,:]\n",
    "    trans_array=find_trans.iloc[0,1:].tolist()\n",
    "    return (trans_array)"
   ]
  },
  {
   "cell_type": "code",
   "execution_count": 21,
   "metadata": {},
   "outputs": [],
   "source": [
    "def find_fuelType_array(fuelType):\n",
    "    fuelType_matrix=pd.read_csv('Matrix/fuelType_Matrix.csv')\n",
    "    fuelType_matrix=fuelType_matrix.fillna(0)\n",
    "    find_fuelType=fuelType_matrix.loc[fuelType_matrix['fuelType']==fuelType,:]\n",
    "    fuelType_array=find_fuelType.iloc[0,1:].tolist()\n",
    "    return (fuelType_array)"
   ]
  },
  {
   "cell_type": "code",
   "execution_count": 22,
   "metadata": {},
   "outputs": [],
   "source": [
    "def find_make_array(make):\n",
    "    make_matrix=pd.read_csv('Matrix/Make_Matrix.csv')\n",
    "    make_matrix=make_matrix.fillna(0)\n",
    "    find_make=make_matrix.loc[make_matrix['make']==make,:]\n",
    "    make_array=find_make.iloc[0,1:].tolist()\n",
    "    return (make_array)"
   ]
  },
  {
   "cell_type": "code",
   "execution_count": 23,
   "metadata": {},
   "outputs": [],
   "source": [
    "new_data_list=new_data(make,model,year,transmission,mileage,fuelType,tax,mpg,engineSize)"
   ]
  },
  {
   "cell_type": "code",
   "execution_count": 24,
   "metadata": {},
   "outputs": [
    {
     "name": "stdout",
     "output_type": "stream",
     "text": [
      "[2017, 15000, 150, 55, 1.4, 0.0, 0.0, 0.0, 0.0, 0.0, 0.0, 0.0, 0.0, 0.0, 1.0, 0.0, 0.0, 0.0, 0.0, 0.0, 0.0, 0.0, 0.0, 0.0, 0.0, 0.0, 0.0, 0.0, 0.0, 0.0, 0.0, 0.0, 0.0, 0.0, 0.0, 0.0, 0.0, 0.0, 0.0, 0.0, 0.0, 0.0, 0.0, 0.0, 0.0, 0.0, 0.0, 0.0, 0.0, 0.0, 0.0, 0.0, 0.0, 0.0, 0.0, 0.0, 0.0, 0.0, 0.0, 0.0, 0.0, 0.0, 0.0, 0.0, 0.0, 0.0, 0.0, 0.0, 0.0, 0.0, 0.0, 0.0, 0.0, 0.0, 0.0, 0.0, 0.0, 0.0, 0.0, 0.0, 0.0, 0.0, 0.0, 0.0, 0.0, 0.0, 0.0, 0.0, 0.0, 0.0, 0.0, 0.0, 0.0, 0.0, 0.0, 0.0, 0.0, 0.0, 0.0, 0.0, 0.0, 0.0, 0.0, 0.0, 0.0, 0.0, 0.0, 0.0, 0.0, 0.0, 0.0, 0.0, 0.0, 0.0, 0.0, 0.0, 0.0, 0.0, 0.0, 0.0, 0.0, 0.0, 0.0, 0.0, 0.0, 0.0, 0.0, 0.0, 0.0, 0.0, 0.0, 0.0, 0.0, 0.0, 0.0, 0.0, 0.0, 0.0, 0.0, 0.0, 0.0, 0.0, 0.0, 0.0, 0.0, 0.0, 0.0, 0.0, 0.0, 0.0, 0.0, 0.0, 0.0, 0.0, 0.0, 0.0, 0.0, 0.0, 0.0, 0.0, 0.0, 0.0, 0.0, 0.0, 0.0, 0.0, 0.0, 0.0, 0.0, 0.0, 0.0, 0.0, 0.0, 0.0, 0.0, 0.0, 0.0, 0.0, 0, 1, 0, 0, 0.0, 0.0, 0.0, 0.0, 1.0, 1.0, 0.0, 0.0, 0.0, 0.0, 0.0, 0.0, 0.0]\n"
     ]
    }
   ],
   "source": [
    "print(new_data_list)"
   ]
  },
  {
   "cell_type": "markdown",
   "metadata": {},
   "source": [
    "Predict Price from User Data"
   ]
  },
  {
   "cell_type": "code",
   "execution_count": 39,
   "metadata": {},
   "outputs": [],
   "source": [
    "X_new = np.array(new_data_list).reshape(1,195)"
   ]
  },
  {
   "cell_type": "code",
   "execution_count": 40,
   "metadata": {},
   "outputs": [
    {
     "data": {
      "text/plain": [
       "array([[2.017e+03, 1.500e+04, 1.500e+02, 5.500e+01, 1.400e+00, 0.000e+00,\n",
       "        0.000e+00, 0.000e+00, 0.000e+00, 0.000e+00, 0.000e+00, 0.000e+00,\n",
       "        0.000e+00, 0.000e+00, 1.000e+00, 0.000e+00, 0.000e+00, 0.000e+00,\n",
       "        0.000e+00, 0.000e+00, 0.000e+00, 0.000e+00, 0.000e+00, 0.000e+00,\n",
       "        0.000e+00, 0.000e+00, 0.000e+00, 0.000e+00, 0.000e+00, 0.000e+00,\n",
       "        0.000e+00, 0.000e+00, 0.000e+00, 0.000e+00, 0.000e+00, 0.000e+00,\n",
       "        0.000e+00, 0.000e+00, 0.000e+00, 0.000e+00, 0.000e+00, 0.000e+00,\n",
       "        0.000e+00, 0.000e+00, 0.000e+00, 0.000e+00, 0.000e+00, 0.000e+00,\n",
       "        0.000e+00, 0.000e+00, 0.000e+00, 0.000e+00, 0.000e+00, 0.000e+00,\n",
       "        0.000e+00, 0.000e+00, 0.000e+00, 0.000e+00, 0.000e+00, 0.000e+00,\n",
       "        0.000e+00, 0.000e+00, 0.000e+00, 0.000e+00, 0.000e+00, 0.000e+00,\n",
       "        0.000e+00, 0.000e+00, 0.000e+00, 0.000e+00, 0.000e+00, 0.000e+00,\n",
       "        0.000e+00, 0.000e+00, 0.000e+00, 0.000e+00, 0.000e+00, 0.000e+00,\n",
       "        0.000e+00, 0.000e+00, 0.000e+00, 0.000e+00, 0.000e+00, 0.000e+00,\n",
       "        0.000e+00, 0.000e+00, 0.000e+00, 0.000e+00, 0.000e+00, 0.000e+00,\n",
       "        0.000e+00, 0.000e+00, 0.000e+00, 0.000e+00, 0.000e+00, 0.000e+00,\n",
       "        0.000e+00, 0.000e+00, 0.000e+00, 0.000e+00, 0.000e+00, 0.000e+00,\n",
       "        0.000e+00, 0.000e+00, 0.000e+00, 0.000e+00, 0.000e+00, 0.000e+00,\n",
       "        0.000e+00, 0.000e+00, 0.000e+00, 0.000e+00, 0.000e+00, 0.000e+00,\n",
       "        0.000e+00, 0.000e+00, 0.000e+00, 0.000e+00, 0.000e+00, 0.000e+00,\n",
       "        0.000e+00, 0.000e+00, 0.000e+00, 0.000e+00, 0.000e+00, 0.000e+00,\n",
       "        0.000e+00, 0.000e+00, 0.000e+00, 0.000e+00, 0.000e+00, 0.000e+00,\n",
       "        0.000e+00, 0.000e+00, 0.000e+00, 0.000e+00, 0.000e+00, 0.000e+00,\n",
       "        0.000e+00, 0.000e+00, 0.000e+00, 0.000e+00, 0.000e+00, 0.000e+00,\n",
       "        0.000e+00, 0.000e+00, 0.000e+00, 0.000e+00, 0.000e+00, 0.000e+00,\n",
       "        0.000e+00, 0.000e+00, 0.000e+00, 0.000e+00, 0.000e+00, 0.000e+00,\n",
       "        0.000e+00, 0.000e+00, 0.000e+00, 0.000e+00, 0.000e+00, 0.000e+00,\n",
       "        0.000e+00, 0.000e+00, 0.000e+00, 0.000e+00, 0.000e+00, 0.000e+00,\n",
       "        0.000e+00, 0.000e+00, 0.000e+00, 0.000e+00, 0.000e+00, 0.000e+00,\n",
       "        0.000e+00, 0.000e+00, 0.000e+00, 0.000e+00, 0.000e+00, 1.000e+00,\n",
       "        0.000e+00, 0.000e+00, 0.000e+00, 0.000e+00, 0.000e+00, 0.000e+00,\n",
       "        1.000e+00, 1.000e+00, 0.000e+00, 0.000e+00, 0.000e+00, 0.000e+00,\n",
       "        0.000e+00, 0.000e+00, 0.000e+00]])"
      ]
     },
     "execution_count": 40,
     "metadata": {},
     "output_type": "execute_result"
    }
   ],
   "source": [
    "X_new"
   ]
  },
  {
   "cell_type": "code",
   "execution_count": 44,
   "metadata": {},
   "outputs": [],
   "source": [
    "X_new=np.array([[2017,15000,150,55,1.4,0,0,0,0,0,0,0,0,0,1,0,0,0,0,0,0,0,0,0,0,0,0,0,0,0,0,0,0,0,0,0,0,0,0,0,0,0,0,0,0,0,\n",
    "                 0,0,0,0,0,0,0,0,0,0,0,0,0,0,0,0,0,0,0,0,0,0,0,0,0,0,0,0,0,0,0,0,0,0,0,0,0,0,0,0,0,0,0,0,0,0,0,0,0,0,0,0,\n",
    "                 0,0,0,0,0,0,0,0,0,0,0,0,0,0,0,0,0,0,0,0,0,0,0,0,0,0,0,0,0,0,0,0,0,0,0,0,0,0,0,0,0,0,0,0,0,0,0,0,0,0,0,0,0,0,\n",
    "                 0,0,0,0,0,0,0,0,0,0,0,0,0,0,0,0,0,0,0,0,0,0,0,0,0,0,0,1,0,0,0,0,0,0,1,1,0,0,0,0,0,0,0]])"
   ]
  },
  {
   "cell_type": "code",
   "execution_count": 45,
   "metadata": {},
   "outputs": [
    {
     "ename": "AttributeError",
     "evalue": "'str' object has no attribute 'predict'",
     "output_type": "error",
     "traceback": [
      "\u001b[1;31m---------------------------------------------------------------------------\u001b[0m",
      "\u001b[1;31mAttributeError\u001b[0m                            Traceback (most recent call last)",
      "\u001b[1;32m<ipython-input-45-e7edc0dd32fc>\u001b[0m in \u001b[0;36m<module>\u001b[1;34m\u001b[0m\n\u001b[0;32m      1\u001b[0m \u001b[0mX_new\u001b[0m\u001b[1;33m=\u001b[0m \u001b[0mX_scaler\u001b[0m\u001b[1;33m.\u001b[0m\u001b[0mtransform\u001b[0m\u001b[1;33m(\u001b[0m\u001b[0mX_new\u001b[0m\u001b[1;33m)\u001b[0m\u001b[1;33m\u001b[0m\u001b[1;33m\u001b[0m\u001b[0m\n\u001b[1;32m----> 2\u001b[1;33m \u001b[0my_new\u001b[0m\u001b[1;33m=\u001b[0m \u001b[0mmodel\u001b[0m\u001b[1;33m.\u001b[0m\u001b[0mpredict\u001b[0m\u001b[1;33m(\u001b[0m\u001b[0mX_new\u001b[0m\u001b[1;33m)\u001b[0m\u001b[1;33m\u001b[0m\u001b[1;33m\u001b[0m\u001b[0m\n\u001b[0m\u001b[0;32m      3\u001b[0m \u001b[1;31m#invert normalize\u001b[0m\u001b[1;33m\u001b[0m\u001b[1;33m\u001b[0m\u001b[1;33m\u001b[0m\u001b[0m\n\u001b[0;32m      4\u001b[0m \u001b[0my_new\u001b[0m \u001b[1;33m=\u001b[0m \u001b[0my_scaler\u001b[0m\u001b[1;33m.\u001b[0m\u001b[0minverse_transform\u001b[0m\u001b[1;33m(\u001b[0m\u001b[0my_new\u001b[0m\u001b[1;33m)\u001b[0m\u001b[1;33m\u001b[0m\u001b[1;33m\u001b[0m\u001b[0m\n\u001b[0;32m      5\u001b[0m \u001b[0mX_new\u001b[0m \u001b[1;33m=\u001b[0m \u001b[0mX_scaler\u001b[0m\u001b[1;33m.\u001b[0m\u001b[0minverse_transform\u001b[0m\u001b[1;33m(\u001b[0m\u001b[0mX_new\u001b[0m\u001b[1;33m)\u001b[0m\u001b[1;33m\u001b[0m\u001b[1;33m\u001b[0m\u001b[0m\n",
      "\u001b[1;31mAttributeError\u001b[0m: 'str' object has no attribute 'predict'"
     ]
    }
   ],
   "source": [
    "X_new= X_scaler.transform(X_new)\n",
    "y_new= model.predict(X_new)\n",
    "#invert normalize\n",
    "y_new = y_scaler.inverse_transform(y_new) \n",
    "X_new = X_scaler.inverse_transform(X_new)\n",
    "print(\"X=%s, Predicted=%s\" % (X_new[0], y_new[0]))"
   ]
  },
  {
   "cell_type": "code",
   "execution_count": null,
   "metadata": {},
   "outputs": [],
   "source": []
  },
  {
   "cell_type": "code",
   "execution_count": null,
   "metadata": {},
   "outputs": [],
   "source": []
  }
 ],
 "metadata": {
  "celltoolbar": "Create Assignment",
  "kernelspec": {
   "display_name": "Python [conda env:PythonData] *",
   "language": "python",
   "name": "conda-env-PythonData-py"
  },
  "language_info": {
   "codemirror_mode": {
    "name": "ipython",
    "version": 3
   },
   "file_extension": ".py",
   "mimetype": "text/x-python",
   "name": "python",
   "nbconvert_exporter": "python",
   "pygments_lexer": "ipython3",
   "version": "3.8.2"
  },
  "varInspector": {
   "cols": {
    "lenName": 16,
    "lenType": 16,
    "lenVar": 40
   },
   "kernels_config": {
    "python": {
     "delete_cmd_postfix": "",
     "delete_cmd_prefix": "del ",
     "library": "var_list.py",
     "varRefreshCmd": "print(var_dic_list())"
    },
    "r": {
     "delete_cmd_postfix": ") ",
     "delete_cmd_prefix": "rm(",
     "library": "var_list.r",
     "varRefreshCmd": "cat(var_dic_list()) "
    }
   },
   "types_to_exclude": [
    "module",
    "function",
    "builtin_function_or_method",
    "instance",
    "_Feature"
   ],
   "window_display": false
  }
 },
 "nbformat": 4,
 "nbformat_minor": 2
}
